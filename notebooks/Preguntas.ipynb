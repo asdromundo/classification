{
 "cells": [
  {
   "cell_type": "markdown",
   "metadata": {},
   "source": [
    "# Dudas\n",
    "---\n",
    "\n",
    "1. ¿Qué tipo de clasificación queremos lograr?  \n",
    "   - ¿Clasificación binaria o multiclase?  \n",
    "   - ¿Queremos clasificar solo categorías presentes en COCO o transferir el modelo a otro dominio?  \n",
    "\n",
    "\n",
    "2. ¿Por qué usar COCO en lugar de datasets más típicos para clasificación como CIFAR-10, MNIST o ImageNet?  \n",
    "   > (COCO es más común para detección, ImageNet es lo que usan los modelos de clasificación)  \n",
    "\n",
    "3. ¿Cuál es el objetivo principal del artículo?  \n",
    "   - ¿Demostrar la eficacia de una técnica específica (como Few-shot Learning)?  \n",
    "   - ¿Comparar diferentes arquitecturas en un entorno de pocos datos?  \n",
    "   - ¿Proponer una nueva metodología que combine YOLOv11, Few-shot Learning y ViTs?  \n",
    "\n",
    "4. ¿Vamos a utilizar Transfer Learning para acelerar el entrenamiento? \n",
    "\n",
    "5. ¿Qué técnicas de aumento de datos (data augmentation) vamos a emplear?  \n",
    "   (CutMix, MixUp, RandAugment, etc.)  \n",
    "\n",
    "6. ¿Qué métrica vamos a priorizar para evaluar el desempeño del modelo?  \n",
    "   - ¿Accuracy, Precision, Recall, F1 Score o mAP? \n",
    "\n",
    "7. ¿Qué framework o librerías se utilizarán para la implementación?  \n",
    "> Probablemente solo PyTorch\n",
    "\n",
    "---\n",
    "\n",
    "\n",
    "8. ¿Cuál será el tamaño del conjunto de entrenamiento?  \n",
    "   (Definir cuántas muestras por clase se consideran \"pocos datos\")  \n",
    "\n",
    "9. ¿Dividiremos el dataset en clases \"vistas\" y \"no vistas\" para evaluar el Few-shot Learning?  \n",
    "   (Esto es clave para demostrar que el modelo generaliza bien a nuevas clases.)  \n",
    "\n",
    "10. ¿Vamos a realizar una comparación directa entre ViT y CNNs tradicionales para justificar la elección del modelo?  \n",
    "\n",
    "11.  ¿Qué problema práctico queremos resolver con esta investigación?  \n",
    "   (Por ejemplo, detección de defectos industriales, diagnóstico médico, etc.)  \n",
    "\n",
    "12.  ¿Queremos que el artículo se enfoque más en la parte teórica, en la implementación técnica o en los resultados experimentales?  \n",
    "\n",
    "13.  ¿Qué tipo de contribución buscamos?  \n",
    "   - ¿Un nuevo modelo híbrido?  \n",
    "   - ¿Una optimización de técnicas existentes?  \n",
    "   - ¿Un benchmark comparativo sobre COCO?  \n",
    "\n",
    "---\n",
    "\n",
    "14.  ¿Disponemos de hardware adecuado para entrenar ViTs o YOLOv11 de forma eficiente? ¿Queremos que corra en algún hardware objetivo? \n",
    "\n",
    "15.  ¿Hay alguna preferencia en la gestión del código y experimentos?  \n",
    "16.  \n",
    "16. ¿El Few-shot Learning se aplicará al modelo completo o solo a la cabeza del ViT?\n",
    "---"
   ]
  }
 ],
 "metadata": {
  "kernelspec": {
   "display_name": ".venv",
   "language": "python",
   "name": "python3"
  },
  "language_info": {
   "name": "python",
   "version": "3.12.3"
  }
 },
 "nbformat": 4,
 "nbformat_minor": 2
}
