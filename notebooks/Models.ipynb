{
 "cells": [
  {
   "cell_type": "markdown",
   "metadata": {},
   "source": [
    "# Generalización del entrenamiento\n",
    "\n",
    "Podemos escribir métodos compartidos que simplifiquen el uso de los distintos tipos de red que necesitamos\n",
    "\n",
    "Para esto utilizaremos la biblioteca _Lightning_"
   ]
  },
  {
   "cell_type": "code",
   "execution_count": 30,
   "metadata": {},
   "outputs": [],
   "source": [
    "import os\n",
    "from torch import optim, nn, utils, backends, cuda, save as torch_save\n",
    "from torch.amp import autocast, GradScaler\n",
    "from torchvision.datasets import ImageFolder\n",
    "from torchvision import models\n",
    "import lightning as L\n",
    "\n",
    "def dir_to_dataloader(path, type: str, shuffle: bool = False, transform=None, batch_size = 16):\n",
    "    train_dataset = ImageFolder(root=os.path.join(path, type), transform=transform)\n",
    "    # DataLoaders con batch reducido y pin_memory para eficiencia  # Reducido para evitar OOM\n",
    "    return utils.data.DataLoader(train_dataset, batch_size=batch_size, shuffle=shuffle, pin_memory=True)\n",
    "\n",
    "# Función de creación del modelo\n",
    "def create_model(model_name, default_weights : bool, num_classes: int):\n",
    "    # Convertir el nombre del modelo a minúsculas\n",
    "    model_name_lower = model_name.lower()\n",
    "\n",
    "    # Intentar importar el modelo dinámicamente usando getattr\n",
    "    try:\n",
    "        model_class = getattr(models, model_name_lower)\n",
    "        weights_class = getattr(models, f\"{model_name}_Weights\", None)  # Obtener pesos si existen\n",
    "    except AttributeError:\n",
    "        raise ValueError(f\"Model '{model_name}' not found in torchvision.models\")\n",
    "\n",
    "    # Cargar el modelo con o sin pesos preentrenados\n",
    "    if default_weights and weights_class:\n",
    "        model = model_class(weights=weights_class.DEFAULT)  # Si se quieren los pesos preentrenados\n",
    "    else:\n",
    "        model = model_class(weights=None)  # Sin pesos preentrenados\n",
    "\n",
    "    # Ajustar el clasificador al número de clases\n",
    "\n",
    "    return model\n",
    "\n",
    "def load_transforms(model_name: str):\n",
    "    # Intentar importar el modelo dinámicamente usando getattr\n",
    "    try:\n",
    "        weights_class = getattr(models, f\"{model_name}_Weights\", None)  # Obtener pesos si existen\n",
    "    except AttributeError:\n",
    "        raise ValueError(f\"Model '{model_name}' not found in torchvision.models\")\n",
    "    return weights_class.DEFAULT.transforms()\n",
    "\n",
    "def train_model(model_name, loader, device, default_weights=False, num_epochs=10):\n",
    "    num_classes = len(loader.dataset.classes)  \n",
    "\n",
    "    model = create_model(model_name=model_name, default_weights=default_weights, num_classes=num_classes)\n",
    "    model = model.to(device)\n",
    "    # Liberar memoria en la GPU antes de comenzar\n",
    "    cuda.empty_cache()\n",
    "    \n",
    "    # Definir la función de pérdida y el optimizador\n",
    "    criterion = nn.CrossEntropyLoss()\n",
    "    optimizer = optim.AdamW(model.parameters(), lr=0.001, weight_decay=1e-4)\n",
    "\n",
    "    # Configurar AMP para entrenamiento en precisión mixta\n",
    "    scaler = GradScaler(enabled=cuda.is_available())\n",
    "\n",
    "    # Entrenamiento \n",
    "    best_acc = 0.0\n",
    "    save_path = f\"../models/{model_name.lower()}/best_model.pth\"\n",
    "    os.makedirs(os.path.dirname(save_path), exist_ok=True)  # Crear directorios si no existen\n",
    "    print(f\"Entrenando {model_name}\")\n",
    "    for epoch in range(num_epochs):\n",
    "        model.train()\n",
    "        running_loss = 0.0\n",
    "        correct = 0\n",
    "        total = 0\n",
    "\n",
    "        for inputs, labels in loader:\n",
    "            inputs, labels = inputs.to(device), labels.to(device)\n",
    "\n",
    "            optimizer.zero_grad()\n",
    "\n",
    "            with autocast(\"cuda\" if cuda.is_available() else \"cpu\", enabled=cuda.is_available()):  # Usar AMP solo si hay GPU\n",
    "                outputs = model(inputs)\n",
    "                loss = criterion(outputs, labels)\n",
    "\n",
    "            scaler.scale(loss).backward()\n",
    "            scaler.step(optimizer)\n",
    "            scaler.update()\n",
    "\n",
    "            running_loss += loss.item() * inputs.size(0)\n",
    "            _, predicted = outputs.max(1)\n",
    "            correct += predicted.eq(labels).sum().item()\n",
    "            total += labels.size(0)\n",
    "\n",
    "        train_loss = running_loss / total\n",
    "        train_acc = 100. * correct / total\n",
    "        print(f\"Epoch {epoch + 1}/{num_epochs}: Loss: {train_loss:.4f} - Accuracy: {train_acc:.2f}%\")\n",
    "\n",
    "        # Guardar el mejor modelo basado en precisión\n",
    "        if train_acc > best_acc:\n",
    "            best_acc = train_acc\n",
    "            torch_save(model.state_dict(), \"best_model.pth\")\n",
    "            print(\"✅ Mejor modelo guardado!\")\n",
    "    print(f\"Finalizo entrenamiento de {model_name}\")"
   ]
  },
  {
   "cell_type": "code",
   "execution_count": 31,
   "metadata": {},
   "outputs": [
    {
     "name": "stdout",
     "output_type": "stream",
     "text": [
      "Using:  cuda\n",
      "Entrenando AlexNet\n",
      "Epoch 1/10: Loss: 2.1881 - Accuracy: 41.14%\n",
      "✅ Mejor modelo guardado!\n",
      "Epoch 2/10: Loss: 1.1814 - Accuracy: 40.26%\n",
      "Epoch 3/10: Loss: 1.1036 - Accuracy: 41.68%\n",
      "✅ Mejor modelo guardado!\n",
      "Epoch 4/10: Loss: 1.1018 - Accuracy: 46.50%\n",
      "✅ Mejor modelo guardado!\n",
      "Epoch 5/10: Loss: 0.9397 - Accuracy: 51.42%\n",
      "✅ Mejor modelo guardado!\n",
      "Epoch 6/10: Loss: 0.9663 - Accuracy: 51.31%\n",
      "Epoch 7/10: Loss: 0.8638 - Accuracy: 55.03%\n",
      "✅ Mejor modelo guardado!\n",
      "Epoch 8/10: Loss: 0.8897 - Accuracy: 56.13%\n",
      "✅ Mejor modelo guardado!\n",
      "Epoch 9/10: Loss: 0.8311 - Accuracy: 58.97%\n",
      "✅ Mejor modelo guardado!\n",
      "Epoch 10/10: Loss: 0.7629 - Accuracy: 66.41%\n",
      "✅ Mejor modelo guardado!\n",
      "Finalizo entrenamiento de AlexNet\n",
      "Entrenando DenseNet121\n",
      "Epoch 1/10: Loss: 1.3720 - Accuracy: 75.60%\n",
      "✅ Mejor modelo guardado!\n",
      "Epoch 2/10: Loss: 0.4842 - Accuracy: 81.29%\n",
      "✅ Mejor modelo guardado!\n",
      "Epoch 3/10: Loss: 0.3585 - Accuracy: 86.65%\n",
      "✅ Mejor modelo guardado!\n",
      "Epoch 4/10: Loss: 0.3818 - Accuracy: 86.87%\n",
      "✅ Mejor modelo guardado!\n",
      "Epoch 5/10: Loss: 0.3273 - Accuracy: 87.64%\n",
      "✅ Mejor modelo guardado!\n",
      "Epoch 6/10: Loss: 0.3556 - Accuracy: 89.61%\n",
      "✅ Mejor modelo guardado!\n",
      "Epoch 7/10: Loss: 0.3719 - Accuracy: 86.32%\n",
      "Epoch 8/10: Loss: 0.3489 - Accuracy: 87.86%\n",
      "Epoch 9/10: Loss: 0.3374 - Accuracy: 88.18%\n",
      "Epoch 10/10: Loss: 0.2768 - Accuracy: 89.72%\n",
      "✅ Mejor modelo guardado!\n",
      "Finalizo entrenamiento de DenseNet121\n",
      "Entrenando EfficientNet_V2_S\n",
      "Epoch 1/10: Loss: 2.5261 - Accuracy: 55.03%\n",
      "✅ Mejor modelo guardado!\n",
      "Epoch 2/10: Loss: 0.6768 - Accuracy: 75.38%\n",
      "✅ Mejor modelo guardado!\n",
      "Epoch 3/10: Loss: 0.5439 - Accuracy: 78.77%\n",
      "✅ Mejor modelo guardado!\n",
      "Epoch 4/10: Loss: 0.4487 - Accuracy: 83.59%\n",
      "✅ Mejor modelo guardado!\n",
      "Epoch 5/10: Loss: 0.4706 - Accuracy: 83.26%\n",
      "Epoch 6/10: Loss: 0.4253 - Accuracy: 85.01%\n",
      "✅ Mejor modelo guardado!\n",
      "Epoch 7/10: Loss: 0.4366 - Accuracy: 83.81%\n",
      "Epoch 8/10: Loss: 0.4220 - Accuracy: 85.67%\n",
      "✅ Mejor modelo guardado!\n",
      "Epoch 9/10: Loss: 0.3857 - Accuracy: 86.76%\n",
      "✅ Mejor modelo guardado!\n",
      "Epoch 10/10: Loss: 0.4257 - Accuracy: 85.01%\n",
      "Finalizo entrenamiento de EfficientNet_V2_S\n",
      "Entrenando ResNet18\n",
      "Epoch 1/10: Loss: 1.6125 - Accuracy: 69.69%\n",
      "✅ Mejor modelo guardado!\n",
      "Epoch 2/10: Loss: 0.5146 - Accuracy: 82.49%\n",
      "✅ Mejor modelo guardado!\n",
      "Epoch 3/10: Loss: 0.4302 - Accuracy: 84.03%\n",
      "✅ Mejor modelo guardado!\n",
      "Epoch 4/10: Loss: 0.4619 - Accuracy: 82.71%\n",
      "Epoch 5/10: Loss: 0.3872 - Accuracy: 85.01%\n",
      "✅ Mejor modelo guardado!\n",
      "Epoch 6/10: Loss: 0.4521 - Accuracy: 84.90%\n",
      "Epoch 7/10: Loss: 0.3807 - Accuracy: 86.76%\n",
      "✅ Mejor modelo guardado!\n",
      "Epoch 8/10: Loss: 0.3687 - Accuracy: 87.53%\n",
      "✅ Mejor modelo guardado!\n",
      "Epoch 9/10: Loss: 0.3419 - Accuracy: 87.31%\n",
      "Epoch 10/10: Loss: 0.3966 - Accuracy: 84.68%\n",
      "Finalizo entrenamiento de ResNet18\n",
      "Entrenando VGG11_BN\n",
      "Epoch 1/10: Loss: 30.1224 - Accuracy: 42.78%\n",
      "✅ Mejor modelo guardado!\n",
      "Epoch 2/10: Loss: 1.3976 - Accuracy: 53.39%\n",
      "✅ Mejor modelo guardado!\n",
      "Epoch 3/10: Loss: 1.6488 - Accuracy: 53.28%\n",
      "Epoch 4/10: Loss: 0.8631 - Accuracy: 67.94%\n",
      "✅ Mejor modelo guardado!\n",
      "Epoch 5/10: Loss: 0.7725 - Accuracy: 72.10%\n",
      "✅ Mejor modelo guardado!\n",
      "Epoch 6/10: Loss: 0.7295 - Accuracy: 75.60%\n",
      "✅ Mejor modelo guardado!\n",
      "Epoch 7/10: Loss: 0.6545 - Accuracy: 74.73%\n",
      "Epoch 8/10: Loss: 0.6833 - Accuracy: 75.16%\n",
      "Epoch 9/10: Loss: 0.7489 - Accuracy: 73.85%\n",
      "Epoch 10/10: Loss: 0.6081 - Accuracy: 76.91%\n",
      "✅ Mejor modelo guardado!\n",
      "Finalizo entrenamiento de VGG11_BN\n",
      "Entrenando ViT_B_16\n",
      "Epoch 1/10: Loss: 1.9335 - Accuracy: 40.92%\n",
      "✅ Mejor modelo guardado!\n",
      "Epoch 2/10: Loss: 1.0680 - Accuracy: 46.83%\n",
      "✅ Mejor modelo guardado!\n",
      "Epoch 3/10: Loss: 1.1747 - Accuracy: 42.89%\n",
      "Epoch 4/10: Loss: 1.1136 - Accuracy: 43.44%\n",
      "Epoch 5/10: Loss: 1.0705 - Accuracy: 46.83%\n",
      "Epoch 6/10: Loss: 1.0774 - Accuracy: 44.20%\n",
      "Epoch 7/10: Loss: 1.0500 - Accuracy: 45.19%\n",
      "Epoch 8/10: Loss: 0.9622 - Accuracy: 52.63%\n",
      "✅ Mejor modelo guardado!\n",
      "Epoch 9/10: Loss: 0.8893 - Accuracy: 56.56%\n",
      "✅ Mejor modelo guardado!\n",
      "Epoch 10/10: Loss: 0.8769 - Accuracy: 55.47%\n",
      "Finalizo entrenamiento de ViT_B_16\n"
     ]
    }
   ],
   "source": [
    "from torch import cuda, device as torch_device\n",
    "\n",
    "# Configuración del dispositivo\n",
    "device = torch_device(\"cuda\" if cuda.is_available() else \"cpu\")\n",
    "print(\"Using: \", device)\n",
    "\n",
    "# Liberar memoria en la GPU antes de comenzar\n",
    "cuda.empty_cache()\n",
    "\n",
    "# Habilitar optimizaciones en GPUs NVIDIA\n",
    "backends.cudnn.benchmark = True\n",
    "\n",
    "# Cargar el dataset\n",
    "data_dir = \"../data/osteosarcoma2019\"\n",
    "\n",
    "experiment_models = [\"AlexNet\", \"DenseNet121\", \"EfficientNet_V2_S\", \"ResNet18\", \"VGG11_BN\", \"ViT_B_16\"]\n",
    "# \n",
    "for model_name in experiment_models:\n",
    "    transform = load_transforms(model_name)\n",
    "    train_loader = dir_to_dataloader(path=data_dir, type=\"train\", shuffle=True, transform=transform, batch_size=32)\n",
    "    train_model(model_name, train_loader, device)"
   ]
  },
  {
   "cell_type": "markdown",
   "metadata": {},
   "source": [
    "## Lightning"
   ]
  },
  {
   "cell_type": "code",
   "execution_count": null,
   "metadata": {},
   "outputs": [
    {
     "name": "stderr",
     "output_type": "stream",
     "text": [
      "Using 16bit Automatic Mixed Precision (AMP)\n",
      "GPU available: True (cuda), used: True\n",
      "TPU available: False, using: 0 TPU cores\n",
      "HPU available: False, using: 0 HPUs\n",
      "LOCAL_RANK: 0 - CUDA_VISIBLE_DEVICES: [0]\n",
      "\n",
      "  | Name      | Type               | Params | Mode \n",
      "---------------------------------------------------------\n",
      "0 | model     | AlexNet            | 57.0 M | train\n",
      "1 | train_acc | MulticlassAccuracy | 0      | train\n",
      "2 | test_acc  | MulticlassAccuracy | 0      | train\n",
      "3 | criterion | CrossEntropyLoss   | 0      | train\n",
      "---------------------------------------------------------\n",
      "57.0 M    Trainable params\n",
      "0         Non-trainable params\n",
      "57.0 M    Total params\n",
      "228.065   Total estimated model params size (MB)\n",
      "27        Modules in train mode\n",
      "0         Modules in eval mode\n"
     ]
    },
    {
     "data": {
      "application/vnd.jupyter.widget-view+json": {
       "model_id": "f25788780b274c558015e652ec0da309",
       "version_major": 2,
       "version_minor": 0
      },
      "text/plain": [
       "Training: |          | 0/? [00:00<?, ?it/s]"
      ]
     },
     "metadata": {},
     "output_type": "display_data"
    },
    {
     "name": "stderr",
     "output_type": "stream",
     "text": [
      "`Trainer.fit` stopped: `max_epochs=1` reached.\n",
      "LOCAL_RANK: 0 - CUDA_VISIBLE_DEVICES: [0]\n"
     ]
    },
    {
     "name": "stdout",
     "output_type": "stream",
     "text": [
      "Entrenamiento completado para AlexNet\n"
     ]
    },
    {
     "data": {
      "application/vnd.jupyter.widget-view+json": {
       "model_id": "fb83947743a94c67a4f05e9882e1d1eb",
       "version_major": 2,
       "version_minor": 0
      },
      "text/plain": [
       "Testing: |          | 0/? [00:00<?, ?it/s]"
      ]
     },
     "metadata": {},
     "output_type": "display_data"
    },
    {
     "name": "stdout",
     "output_type": "stream",
     "text": [
      "────────────────────────────────────────────────────────────────────────────────────────────────────────────────────────\n",
      "       Test metric             DataLoader 0\n",
      "────────────────────────────────────────────────────────────────────────────────────────────────────────────────────────\n",
      "        test_acc             0.530434787273407\n",
      "        test_loss           0.9514318108558655\n",
      "────────────────────────────────────────────────────────────────────────────────────────────────────────────────────────\n"
     ]
    },
    {
     "name": "stderr",
     "output_type": "stream",
     "text": [
      "Using 16bit Automatic Mixed Precision (AMP)\n",
      "GPU available: True (cuda), used: True\n",
      "TPU available: False, using: 0 TPU cores\n",
      "HPU available: False, using: 0 HPUs\n",
      "/home/asdromundo/Documentos/classification/.venv/lib/python3.12/site-packages/lightning/pytorch/callbacks/model_checkpoint.py:654: Checkpoint directory /home/asdromundo/Documentos/classification/models/densenet121 exists and is not empty.\n",
      "LOCAL_RANK: 0 - CUDA_VISIBLE_DEVICES: [0]\n",
      "\n",
      "  | Name      | Type               | Params | Mode \n",
      "---------------------------------------------------------\n",
      "0 | model     | DenseNet           | 7.0 M  | train\n",
      "1 | train_acc | MulticlassAccuracy | 0      | train\n",
      "2 | test_acc  | MulticlassAccuracy | 0      | train\n",
      "3 | criterion | CrossEntropyLoss   | 0      | train\n",
      "---------------------------------------------------------\n",
      "7.0 M     Trainable params\n",
      "0         Non-trainable params\n",
      "7.0 M     Total params\n",
      "27.828    Total estimated model params size (MB)\n",
      "436       Modules in train mode\n",
      "0         Modules in eval mode\n"
     ]
    },
    {
     "data": {
      "application/vnd.jupyter.widget-view+json": {
       "model_id": "d8b4d3b941f5414daea372656e979dd5",
       "version_major": 2,
       "version_minor": 0
      },
      "text/plain": [
       "Training: |          | 0/? [00:00<?, ?it/s]"
      ]
     },
     "metadata": {},
     "output_type": "display_data"
    },
    {
     "name": "stderr",
     "output_type": "stream",
     "text": [
      "`Trainer.fit` stopped: `max_epochs=1` reached.\n",
      "LOCAL_RANK: 0 - CUDA_VISIBLE_DEVICES: [0]\n"
     ]
    },
    {
     "name": "stdout",
     "output_type": "stream",
     "text": [
      "Entrenamiento completado para DenseNet121\n"
     ]
    },
    {
     "data": {
      "application/vnd.jupyter.widget-view+json": {
       "model_id": "c4032e7d6b4a4026836a3c46956f2877",
       "version_major": 2,
       "version_minor": 0
      },
      "text/plain": [
       "Testing: |          | 0/? [00:00<?, ?it/s]"
      ]
     },
     "metadata": {},
     "output_type": "display_data"
    },
    {
     "name": "stdout",
     "output_type": "stream",
     "text": [
      "────────────────────────────────────────────────────────────────────────────────────────────────────────────────────────\n",
      "       Test metric             DataLoader 0\n",
      "────────────────────────────────────────────────────────────────────────────────────────────────────────────────────────\n",
      "        test_acc            0.5782608985900879\n",
      "        test_loss            2.872281074523926\n",
      "────────────────────────────────────────────────────────────────────────────────────────────────────────────────────────\n"
     ]
    },
    {
     "name": "stderr",
     "output_type": "stream",
     "text": [
      "Using 16bit Automatic Mixed Precision (AMP)\n",
      "GPU available: True (cuda), used: True\n",
      "TPU available: False, using: 0 TPU cores\n",
      "HPU available: False, using: 0 HPUs\n",
      "LOCAL_RANK: 0 - CUDA_VISIBLE_DEVICES: [0]\n",
      "\n",
      "  | Name      | Type               | Params | Mode \n",
      "---------------------------------------------------------\n",
      "0 | model     | DenseNet           | 12.5 M | train\n",
      "1 | train_acc | MulticlassAccuracy | 0      | train\n",
      "2 | test_acc  | MulticlassAccuracy | 0      | train\n",
      "3 | criterion | CrossEntropyLoss   | 0      | train\n",
      "---------------------------------------------------------\n",
      "12.5 M    Trainable params\n",
      "0         Non-trainable params\n",
      "12.5 M    Total params\n",
      "49.958    Total estimated model params size (MB)\n",
      "604       Modules in train mode\n",
      "0         Modules in eval mode\n"
     ]
    },
    {
     "data": {
      "application/vnd.jupyter.widget-view+json": {
       "model_id": "787718f465f1453294d1c58e51470cad",
       "version_major": 2,
       "version_minor": 0
      },
      "text/plain": [
       "Training: |          | 0/? [00:00<?, ?it/s]"
      ]
     },
     "metadata": {},
     "output_type": "display_data"
    },
    {
     "name": "stderr",
     "output_type": "stream",
     "text": [
      "`Trainer.fit` stopped: `max_epochs=1` reached.\n",
      "LOCAL_RANK: 0 - CUDA_VISIBLE_DEVICES: [0]\n"
     ]
    },
    {
     "name": "stdout",
     "output_type": "stream",
     "text": [
      "Entrenamiento completado para DenseNet169\n"
     ]
    },
    {
     "data": {
      "application/vnd.jupyter.widget-view+json": {
       "model_id": "d07a3ef2bb5c4a1dadc4db25a83cc6c4",
       "version_major": 2,
       "version_minor": 0
      },
      "text/plain": [
       "Testing: |          | 0/? [00:00<?, ?it/s]"
      ]
     },
     "metadata": {},
     "output_type": "display_data"
    },
    {
     "name": "stdout",
     "output_type": "stream",
     "text": [
      "────────────────────────────────────────────────────────────────────────────────────────────────────────────────────────\n",
      "       Test metric             DataLoader 0\n",
      "────────────────────────────────────────────────────────────────────────────────────────────────────────────────────────\n",
      "        test_acc             0.626086950302124\n",
      "        test_loss           29.954208374023438\n",
      "────────────────────────────────────────────────────────────────────────────────────────────────────────────────────────\n"
     ]
    },
    {
     "name": "stderr",
     "output_type": "stream",
     "text": [
      "Using 16bit Automatic Mixed Precision (AMP)\n",
      "GPU available: True (cuda), used: True\n",
      "TPU available: False, using: 0 TPU cores\n",
      "HPU available: False, using: 0 HPUs\n",
      "LOCAL_RANK: 0 - CUDA_VISIBLE_DEVICES: [0]\n",
      "\n",
      "  | Name      | Type               | Params | Mode \n",
      "---------------------------------------------------------\n",
      "0 | model     | EfficientNet       | 4.0 M  | train\n",
      "1 | train_acc | MulticlassAccuracy | 0      | train\n",
      "2 | test_acc  | MulticlassAccuracy | 0      | train\n",
      "3 | criterion | CrossEntropyLoss   | 0      | train\n",
      "---------------------------------------------------------\n",
      "4.0 M     Trainable params\n",
      "0         Non-trainable params\n",
      "4.0 M     Total params\n",
      "16.046    Total estimated model params size (MB)\n",
      "340       Modules in train mode\n",
      "0         Modules in eval mode\n"
     ]
    },
    {
     "data": {
      "application/vnd.jupyter.widget-view+json": {
       "model_id": "34956cfa193c4068ba79d7f5e1cf9441",
       "version_major": 2,
       "version_minor": 0
      },
      "text/plain": [
       "Training: |          | 0/? [00:00<?, ?it/s]"
      ]
     },
     "metadata": {},
     "output_type": "display_data"
    },
    {
     "name": "stderr",
     "output_type": "stream",
     "text": [
      "`Trainer.fit` stopped: `max_epochs=1` reached.\n",
      "LOCAL_RANK: 0 - CUDA_VISIBLE_DEVICES: [0]\n"
     ]
    },
    {
     "name": "stdout",
     "output_type": "stream",
     "text": [
      "Entrenamiento completado para EfficientNet_B0\n"
     ]
    },
    {
     "data": {
      "application/vnd.jupyter.widget-view+json": {
       "model_id": "023a7b4ec038411aade96143e53124fe",
       "version_major": 2,
       "version_minor": 0
      },
      "text/plain": [
       "Testing: |          | 0/? [00:00<?, ?it/s]"
      ]
     },
     "metadata": {},
     "output_type": "display_data"
    },
    {
     "name": "stdout",
     "output_type": "stream",
     "text": [
      "────────────────────────────────────────────────────────────────────────────────────────────────────────────────────────\n",
      "       Test metric             DataLoader 0\n",
      "────────────────────────────────────────────────────────────────────────────────────────────────────────────────────────\n",
      "        test_acc             0.469565212726593\n",
      "        test_loss            1.073006510734558\n",
      "────────────────────────────────────────────────────────────────────────────────────────────────────────────────────────\n"
     ]
    },
    {
     "name": "stderr",
     "output_type": "stream",
     "text": [
      "Using 16bit Automatic Mixed Precision (AMP)\n",
      "GPU available: True (cuda), used: True\n",
      "TPU available: False, using: 0 TPU cores\n",
      "HPU available: False, using: 0 HPUs\n",
      "LOCAL_RANK: 0 - CUDA_VISIBLE_DEVICES: [0]\n",
      "\n",
      "  | Name      | Type               | Params | Mode \n",
      "---------------------------------------------------------\n",
      "0 | model     | EfficientNet       | 17.6 M | train\n",
      "1 | train_acc | MulticlassAccuracy | 0      | train\n",
      "2 | test_acc  | MulticlassAccuracy | 0      | train\n",
      "3 | criterion | CrossEntropyLoss   | 0      | train\n",
      "---------------------------------------------------------\n",
      "17.6 M    Trainable params\n",
      "0         Non-trainable params\n",
      "17.6 M    Total params\n",
      "70.216    Total estimated model params size (MB)\n",
      "656       Modules in train mode\n",
      "0         Modules in eval mode\n"
     ]
    },
    {
     "data": {
      "application/vnd.jupyter.widget-view+json": {
       "model_id": "c5e0e03615214d7988f2f3efa4434e1e",
       "version_major": 2,
       "version_minor": 0
      },
      "text/plain": [
       "Training: |          | 0/? [00:00<?, ?it/s]"
      ]
     },
     "metadata": {},
     "output_type": "display_data"
    },
    {
     "name": "stderr",
     "output_type": "stream",
     "text": [
      "`Trainer.fit` stopped: `max_epochs=1` reached.\n",
      "LOCAL_RANK: 0 - CUDA_VISIBLE_DEVICES: [0]\n"
     ]
    },
    {
     "name": "stdout",
     "output_type": "stream",
     "text": [
      "Entrenamiento completado para EfficientNet_B4\n"
     ]
    },
    {
     "data": {
      "application/vnd.jupyter.widget-view+json": {
       "model_id": "353082d4faba49aebe65dbefeef6d9f8",
       "version_major": 2,
       "version_minor": 0
      },
      "text/plain": [
       "Testing: |          | 0/? [00:00<?, ?it/s]"
      ]
     },
     "metadata": {},
     "output_type": "display_data"
    },
    {
     "name": "stdout",
     "output_type": "stream",
     "text": [
      "────────────────────────────────────────────────────────────────────────────────────────────────────────────────────────\n",
      "       Test metric             DataLoader 0\n",
      "────────────────────────────────────────────────────────────────────────────────────────────────────────────────────────\n",
      "        test_acc             0.469565212726593\n",
      "        test_loss           1.0658690929412842\n",
      "────────────────────────────────────────────────────────────────────────────────────────────────────────────────────────\n"
     ]
    },
    {
     "name": "stderr",
     "output_type": "stream",
     "text": [
      "Using 16bit Automatic Mixed Precision (AMP)\n",
      "GPU available: True (cuda), used: True\n",
      "TPU available: False, using: 0 TPU cores\n",
      "HPU available: False, using: 0 HPUs\n",
      "/home/asdromundo/Documentos/classification/.venv/lib/python3.12/site-packages/lightning/pytorch/callbacks/model_checkpoint.py:654: Checkpoint directory /home/asdromundo/Documentos/classification/models/efficientnet_v2_s exists and is not empty.\n",
      "LOCAL_RANK: 0 - CUDA_VISIBLE_DEVICES: [0]\n",
      "\n",
      "  | Name      | Type               | Params | Mode \n",
      "---------------------------------------------------------\n",
      "0 | model     | EfficientNet       | 20.2 M | train\n",
      "1 | train_acc | MulticlassAccuracy | 0      | train\n",
      "2 | test_acc  | MulticlassAccuracy | 0      | train\n",
      "3 | criterion | CrossEntropyLoss   | 0      | train\n",
      "---------------------------------------------------------\n",
      "20.2 M    Trainable params\n",
      "0         Non-trainable params\n",
      "20.2 M    Total params\n",
      "80.725    Total estimated model params size (MB)\n",
      "717       Modules in train mode\n",
      "0         Modules in eval mode\n"
     ]
    },
    {
     "data": {
      "application/vnd.jupyter.widget-view+json": {
       "model_id": "53ad8c0eaf514ad7a7d6100b29397b2a",
       "version_major": 2,
       "version_minor": 0
      },
      "text/plain": [
       "Training: |          | 0/? [00:00<?, ?it/s]"
      ]
     },
     "metadata": {},
     "output_type": "display_data"
    },
    {
     "name": "stderr",
     "output_type": "stream",
     "text": [
      "`Trainer.fit` stopped: `max_epochs=1` reached.\n",
      "LOCAL_RANK: 0 - CUDA_VISIBLE_DEVICES: [0]\n"
     ]
    },
    {
     "name": "stdout",
     "output_type": "stream",
     "text": [
      "Entrenamiento completado para EfficientNet_V2_S\n"
     ]
    },
    {
     "data": {
      "application/vnd.jupyter.widget-view+json": {
       "model_id": "6496f99907934483b8d7c31edfc157f6",
       "version_major": 2,
       "version_minor": 0
      },
      "text/plain": [
       "Testing: |          | 0/? [00:00<?, ?it/s]"
      ]
     },
     "metadata": {},
     "output_type": "display_data"
    },
    {
     "name": "stdout",
     "output_type": "stream",
     "text": [
      "────────────────────────────────────────────────────────────────────────────────────────────────────────────────────────\n",
      "       Test metric             DataLoader 0\n",
      "────────────────────────────────────────────────────────────────────────────────────────────────────────────────────────\n",
      "        test_acc             0.469565212726593\n",
      "        test_loss            1.056564211845398\n",
      "────────────────────────────────────────────────────────────────────────────────────────────────────────────────────────\n"
     ]
    },
    {
     "name": "stderr",
     "output_type": "stream",
     "text": [
      "Using 16bit Automatic Mixed Precision (AMP)\n",
      "GPU available: True (cuda), used: True\n",
      "TPU available: False, using: 0 TPU cores\n",
      "HPU available: False, using: 0 HPUs\n",
      "LOCAL_RANK: 0 - CUDA_VISIBLE_DEVICES: [0]\n",
      "\n",
      "  | Name      | Type               | Params | Mode \n",
      "---------------------------------------------------------\n",
      "0 | model     | EfficientNet       | 52.9 M | train\n",
      "1 | train_acc | MulticlassAccuracy | 0      | train\n",
      "2 | test_acc  | MulticlassAccuracy | 0      | train\n",
      "3 | criterion | CrossEntropyLoss   | 0      | train\n",
      "---------------------------------------------------------\n",
      "52.9 M    Trainable params\n",
      "0         Non-trainable params\n",
      "52.9 M    Total params\n",
      "211.449   Total estimated model params size (MB)\n",
      "1025      Modules in train mode\n",
      "0         Modules in eval mode\n"
     ]
    },
    {
     "data": {
      "application/vnd.jupyter.widget-view+json": {
       "model_id": "4b48771277184cb387ae7fe90f0f6d60",
       "version_major": 2,
       "version_minor": 0
      },
      "text/plain": [
       "Training: |          | 0/? [00:00<?, ?it/s]"
      ]
     },
     "metadata": {},
     "output_type": "display_data"
    },
    {
     "name": "stderr",
     "output_type": "stream",
     "text": [
      "`Trainer.fit` stopped: `max_epochs=1` reached.\n",
      "LOCAL_RANK: 0 - CUDA_VISIBLE_DEVICES: [0]\n"
     ]
    },
    {
     "name": "stdout",
     "output_type": "stream",
     "text": [
      "Entrenamiento completado para EfficientNet_V2_M\n"
     ]
    },
    {
     "data": {
      "application/vnd.jupyter.widget-view+json": {
       "model_id": "a9afdf2c00194dfeaa67268cd3775430",
       "version_major": 2,
       "version_minor": 0
      },
      "text/plain": [
       "Testing: |          | 0/? [00:00<?, ?it/s]"
      ]
     },
     "metadata": {},
     "output_type": "display_data"
    },
    {
     "name": "stdout",
     "output_type": "stream",
     "text": [
      "────────────────────────────────────────────────────────────────────────────────────────────────────────────────────────\n",
      "       Test metric             DataLoader 0\n",
      "────────────────────────────────────────────────────────────────────────────────────────────────────────────────────────\n",
      "        test_acc             0.469565212726593\n",
      "        test_loss            1.072685956954956\n",
      "────────────────────────────────────────────────────────────────────────────────────────────────────────────────────────\n"
     ]
    },
    {
     "name": "stderr",
     "output_type": "stream",
     "text": [
      "Using 16bit Automatic Mixed Precision (AMP)\n",
      "GPU available: True (cuda), used: True\n",
      "TPU available: False, using: 0 TPU cores\n",
      "HPU available: False, using: 0 HPUs\n",
      "/home/asdromundo/Documentos/classification/.venv/lib/python3.12/site-packages/lightning/pytorch/callbacks/model_checkpoint.py:654: Checkpoint directory /home/asdromundo/Documentos/classification/models/resnet18 exists and is not empty.\n",
      "LOCAL_RANK: 0 - CUDA_VISIBLE_DEVICES: [0]\n",
      "\n",
      "  | Name      | Type               | Params | Mode \n",
      "---------------------------------------------------------\n",
      "0 | model     | ResNet             | 11.2 M | train\n",
      "1 | train_acc | MulticlassAccuracy | 0      | train\n",
      "2 | test_acc  | MulticlassAccuracy | 0      | train\n",
      "3 | criterion | CrossEntropyLoss   | 0      | train\n",
      "---------------------------------------------------------\n",
      "11.2 M    Trainable params\n",
      "0         Non-trainable params\n",
      "11.2 M    Total params\n",
      "44.712    Total estimated model params size (MB)\n",
      "71        Modules in train mode\n",
      "0         Modules in eval mode\n"
     ]
    },
    {
     "data": {
      "application/vnd.jupyter.widget-view+json": {
       "model_id": "58ff7b08beb24363a8c3790e4420d774",
       "version_major": 2,
       "version_minor": 0
      },
      "text/plain": [
       "Training: |          | 0/? [00:00<?, ?it/s]"
      ]
     },
     "metadata": {},
     "output_type": "display_data"
    },
    {
     "name": "stderr",
     "output_type": "stream",
     "text": [
      "`Trainer.fit` stopped: `max_epochs=1` reached.\n",
      "LOCAL_RANK: 0 - CUDA_VISIBLE_DEVICES: [0]\n"
     ]
    },
    {
     "name": "stdout",
     "output_type": "stream",
     "text": [
      "Entrenamiento completado para ResNet18\n"
     ]
    },
    {
     "data": {
      "application/vnd.jupyter.widget-view+json": {
       "model_id": "d2ee55a9c9bd4319913dc19b468559c6",
       "version_major": 2,
       "version_minor": 0
      },
      "text/plain": [
       "Testing: |          | 0/? [00:00<?, ?it/s]"
      ]
     },
     "metadata": {},
     "output_type": "display_data"
    },
    {
     "name": "stdout",
     "output_type": "stream",
     "text": [
      "────────────────────────────────────────────────────────────────────────────────────────────────────────────────────────\n",
      "       Test metric             DataLoader 0\n",
      "────────────────────────────────────────────────────────────────────────────────────────────────────────────────────────\n",
      "        test_acc            0.5347825884819031\n",
      "        test_loss           16.836891174316406\n",
      "────────────────────────────────────────────────────────────────────────────────────────────────────────────────────────\n"
     ]
    },
    {
     "name": "stderr",
     "output_type": "stream",
     "text": [
      "Using 16bit Automatic Mixed Precision (AMP)\n",
      "GPU available: True (cuda), used: True\n",
      "TPU available: False, using: 0 TPU cores\n",
      "HPU available: False, using: 0 HPUs\n",
      "LOCAL_RANK: 0 - CUDA_VISIBLE_DEVICES: [0]\n",
      "\n",
      "  | Name      | Type               | Params | Mode \n",
      "---------------------------------------------------------\n",
      "0 | model     | ResNet             | 23.5 M | train\n",
      "1 | train_acc | MulticlassAccuracy | 0      | train\n",
      "2 | test_acc  | MulticlassAccuracy | 0      | train\n",
      "3 | criterion | CrossEntropyLoss   | 0      | train\n",
      "---------------------------------------------------------\n",
      "23.5 M    Trainable params\n",
      "0         Non-trainable params\n",
      "23.5 M    Total params\n",
      "94.057    Total estimated model params size (MB)\n",
      "154       Modules in train mode\n",
      "0         Modules in eval mode\n"
     ]
    },
    {
     "data": {
      "application/vnd.jupyter.widget-view+json": {
       "model_id": "8f98e210f51e471ca0c1bc158e5fb667",
       "version_major": 2,
       "version_minor": 0
      },
      "text/plain": [
       "Training: |          | 0/? [00:00<?, ?it/s]"
      ]
     },
     "metadata": {},
     "output_type": "display_data"
    },
    {
     "name": "stderr",
     "output_type": "stream",
     "text": [
      "`Trainer.fit` stopped: `max_epochs=1` reached.\n",
      "LOCAL_RANK: 0 - CUDA_VISIBLE_DEVICES: [0]\n"
     ]
    },
    {
     "name": "stdout",
     "output_type": "stream",
     "text": [
      "Entrenamiento completado para ResNet50\n"
     ]
    },
    {
     "data": {
      "application/vnd.jupyter.widget-view+json": {
       "model_id": "40f673d770fc4c0ab14caf9604b623a8",
       "version_major": 2,
       "version_minor": 0
      },
      "text/plain": [
       "Testing: |          | 0/? [00:00<?, ?it/s]"
      ]
     },
     "metadata": {},
     "output_type": "display_data"
    },
    {
     "name": "stdout",
     "output_type": "stream",
     "text": [
      "────────────────────────────────────────────────────────────────────────────────────────────────────────────────────────\n",
      "       Test metric             DataLoader 0\n",
      "────────────────────────────────────────────────────────────────────────────────────────────────────────────────────────\n",
      "        test_acc             0.626086950302124\n",
      "        test_loss           1.3755934238433838\n",
      "────────────────────────────────────────────────────────────────────────────────────────────────────────────────────────\n"
     ]
    },
    {
     "name": "stderr",
     "output_type": "stream",
     "text": [
      "Using 16bit Automatic Mixed Precision (AMP)\n",
      "GPU available: True (cuda), used: True\n",
      "TPU available: False, using: 0 TPU cores\n",
      "HPU available: False, using: 0 HPUs\n",
      "LOCAL_RANK: 0 - CUDA_VISIBLE_DEVICES: [0]\n",
      "\n",
      "  | Name      | Type               | Params | Mode \n",
      "---------------------------------------------------------\n",
      "0 | model     | VGG                | 128 M  | train\n",
      "1 | train_acc | MulticlassAccuracy | 0      | train\n",
      "2 | test_acc  | MulticlassAccuracy | 0      | train\n",
      "3 | criterion | CrossEntropyLoss   | 0      | train\n",
      "---------------------------------------------------------\n",
      "128 M     Trainable params\n",
      "0         Non-trainable params\n",
      "128 M     Total params\n",
      "515.115   Total estimated model params size (MB)\n",
      "35        Modules in train mode\n",
      "0         Modules in eval mode\n"
     ]
    },
    {
     "data": {
      "application/vnd.jupyter.widget-view+json": {
       "model_id": "6c157cf110e84e2bb536b09273767626",
       "version_major": 2,
       "version_minor": 0
      },
      "text/plain": [
       "Training: |          | 0/? [00:00<?, ?it/s]"
      ]
     },
     "metadata": {},
     "output_type": "display_data"
    },
    {
     "name": "stderr",
     "output_type": "stream",
     "text": [
      "`Trainer.fit` stopped: `max_epochs=1` reached.\n",
      "LOCAL_RANK: 0 - CUDA_VISIBLE_DEVICES: [0]\n"
     ]
    },
    {
     "name": "stdout",
     "output_type": "stream",
     "text": [
      "Entrenamiento completado para VGG11\n"
     ]
    },
    {
     "data": {
      "application/vnd.jupyter.widget-view+json": {
       "model_id": "ab0fb388ee8742d89e03ab8c676f528b",
       "version_major": 2,
       "version_minor": 0
      },
      "text/plain": [
       "Testing: |          | 0/? [00:00<?, ?it/s]"
      ]
     },
     "metadata": {},
     "output_type": "display_data"
    },
    {
     "name": "stdout",
     "output_type": "stream",
     "text": [
      "────────────────────────────────────────────────────────────────────────────────────────────────────────────────────────\n",
      "       Test metric             DataLoader 0\n",
      "────────────────────────────────────────────────────────────────────────────────────────────────────────────────────────\n",
      "        test_acc            0.30000001192092896\n",
      "        test_loss           1.0820015668869019\n",
      "────────────────────────────────────────────────────────────────────────────────────────────────────────────────────────\n"
     ]
    },
    {
     "name": "stderr",
     "output_type": "stream",
     "text": [
      "Using 16bit Automatic Mixed Precision (AMP)\n",
      "GPU available: True (cuda), used: True\n",
      "TPU available: False, using: 0 TPU cores\n",
      "HPU available: False, using: 0 HPUs\n",
      "/home/asdromundo/Documentos/classification/.venv/lib/python3.12/site-packages/lightning/pytorch/callbacks/model_checkpoint.py:654: Checkpoint directory /home/asdromundo/Documentos/classification/models/vgg11_bn exists and is not empty.\n",
      "LOCAL_RANK: 0 - CUDA_VISIBLE_DEVICES: [0]\n",
      "\n",
      "  | Name      | Type               | Params | Mode \n",
      "---------------------------------------------------------\n",
      "0 | model     | VGG                | 128 M  | train\n",
      "1 | train_acc | MulticlassAccuracy | 0      | train\n",
      "2 | test_acc  | MulticlassAccuracy | 0      | train\n",
      "3 | criterion | CrossEntropyLoss   | 0      | train\n",
      "---------------------------------------------------------\n",
      "128 M     Trainable params\n",
      "0         Non-trainable params\n",
      "128 M     Total params\n",
      "515.137   Total estimated model params size (MB)\n",
      "43        Modules in train mode\n",
      "0         Modules in eval mode\n"
     ]
    },
    {
     "data": {
      "application/vnd.jupyter.widget-view+json": {
       "model_id": "fbe3bb63d83d4f0e97e967e721d7905f",
       "version_major": 2,
       "version_minor": 0
      },
      "text/plain": [
       "Training: |          | 0/? [00:00<?, ?it/s]"
      ]
     },
     "metadata": {},
     "output_type": "display_data"
    },
    {
     "name": "stderr",
     "output_type": "stream",
     "text": [
      "`Trainer.fit` stopped: `max_epochs=1` reached.\n",
      "LOCAL_RANK: 0 - CUDA_VISIBLE_DEVICES: [0]\n"
     ]
    },
    {
     "name": "stdout",
     "output_type": "stream",
     "text": [
      "Entrenamiento completado para VGG11_BN\n"
     ]
    },
    {
     "data": {
      "application/vnd.jupyter.widget-view+json": {
       "model_id": "56e0b7cbca9549ec9cd4390eaa9362bd",
       "version_major": 2,
       "version_minor": 0
      },
      "text/plain": [
       "Testing: |          | 0/? [00:00<?, ?it/s]"
      ]
     },
     "metadata": {},
     "output_type": "display_data"
    },
    {
     "name": "stdout",
     "output_type": "stream",
     "text": [
      "────────────────────────────────────────────────────────────────────────────────────────────────────────────────────────\n",
      "       Test metric             DataLoader 0\n",
      "────────────────────────────────────────────────────────────────────────────────────────────────────────────────────────\n",
      "        test_acc            0.38695651292800903\n",
      "        test_loss           6.5020318031311035\n",
      "────────────────────────────────────────────────────────────────────────────────────────────────────────────────────────\n"
     ]
    },
    {
     "name": "stderr",
     "output_type": "stream",
     "text": [
      "Using 16bit Automatic Mixed Precision (AMP)\n",
      "GPU available: True (cuda), used: True\n",
      "TPU available: False, using: 0 TPU cores\n",
      "HPU available: False, using: 0 HPUs\n",
      "LOCAL_RANK: 0 - CUDA_VISIBLE_DEVICES: [0]\n",
      "\n",
      "  | Name      | Type               | Params | Mode \n",
      "---------------------------------------------------------\n",
      "0 | model     | VGG                | 134 M  | train\n",
      "1 | train_acc | MulticlassAccuracy | 0      | train\n",
      "2 | test_acc  | MulticlassAccuracy | 0      | train\n",
      "3 | criterion | CrossEntropyLoss   | 0      | train\n",
      "---------------------------------------------------------\n",
      "134 M     Trainable params\n",
      "0         Non-trainable params\n",
      "134 M     Total params\n",
      "537.125   Total estimated model params size (MB)\n",
      "58        Modules in train mode\n",
      "0         Modules in eval mode\n"
     ]
    },
    {
     "data": {
      "application/vnd.jupyter.widget-view+json": {
       "model_id": "e05f7e4fb2b94e5fbb25285c467bd6d4",
       "version_major": 2,
       "version_minor": 0
      },
      "text/plain": [
       "Training: |          | 0/? [00:00<?, ?it/s]"
      ]
     },
     "metadata": {},
     "output_type": "display_data"
    },
    {
     "name": "stderr",
     "output_type": "stream",
     "text": [
      "`Trainer.fit` stopped: `max_epochs=1` reached.\n",
      "LOCAL_RANK: 0 - CUDA_VISIBLE_DEVICES: [0]\n"
     ]
    },
    {
     "name": "stdout",
     "output_type": "stream",
     "text": [
      "Entrenamiento completado para VGG16_BN\n"
     ]
    },
    {
     "data": {
      "application/vnd.jupyter.widget-view+json": {
       "model_id": "f64ad62030f943ffbc2d5d5ce527f52e",
       "version_major": 2,
       "version_minor": 0
      },
      "text/plain": [
       "Testing: |          | 0/? [00:00<?, ?it/s]"
      ]
     },
     "metadata": {},
     "output_type": "display_data"
    },
    {
     "name": "stdout",
     "output_type": "stream",
     "text": [
      "────────────────────────────────────────────────────────────────────────────────────────────────────────────────────────\n",
      "       Test metric             DataLoader 0\n",
      "────────────────────────────────────────────────────────────────────────────────────────────────────────────────────────\n",
      "        test_acc            0.3913043439388275\n",
      "        test_loss           2.1398978233337402\n",
      "────────────────────────────────────────────────────────────────────────────────────────────────────────────────────────\n"
     ]
    },
    {
     "name": "stderr",
     "output_type": "stream",
     "text": [
      "Using 16bit Automatic Mixed Precision (AMP)\n",
      "GPU available: True (cuda), used: True\n",
      "TPU available: False, using: 0 TPU cores\n",
      "HPU available: False, using: 0 HPUs\n",
      "/home/asdromundo/Documentos/classification/.venv/lib/python3.12/site-packages/lightning/pytorch/callbacks/model_checkpoint.py:654: Checkpoint directory /home/asdromundo/Documentos/classification/models/vit_b_16 exists and is not empty.\n",
      "LOCAL_RANK: 0 - CUDA_VISIBLE_DEVICES: [0]\n",
      "\n",
      "  | Name      | Type               | Params | Mode \n",
      "---------------------------------------------------------\n",
      "0 | model     | VisionTransformer  | 85.8 M | train\n",
      "1 | train_acc | MulticlassAccuracy | 0      | train\n",
      "2 | test_acc  | MulticlassAccuracy | 0      | train\n",
      "3 | criterion | CrossEntropyLoss   | 0      | train\n",
      "---------------------------------------------------------\n",
      "85.8 M    Trainable params\n",
      "0         Non-trainable params\n",
      "85.8 M    Total params\n",
      "343.204   Total estimated model params size (MB)\n",
      "155       Modules in train mode\n",
      "0         Modules in eval mode\n"
     ]
    },
    {
     "data": {
      "application/vnd.jupyter.widget-view+json": {
       "model_id": "50966aaab2354ea1b5066311157ac779",
       "version_major": 2,
       "version_minor": 0
      },
      "text/plain": [
       "Training: |          | 0/? [00:00<?, ?it/s]"
      ]
     },
     "metadata": {},
     "output_type": "display_data"
    },
    {
     "name": "stderr",
     "output_type": "stream",
     "text": [
      "`Trainer.fit` stopped: `max_epochs=1` reached.\n",
      "LOCAL_RANK: 0 - CUDA_VISIBLE_DEVICES: [0]\n"
     ]
    },
    {
     "name": "stdout",
     "output_type": "stream",
     "text": [
      "Entrenamiento completado para ViT_B_16\n"
     ]
    },
    {
     "data": {
      "application/vnd.jupyter.widget-view+json": {
       "model_id": "0a85776d7991414ea53944fabb6a9b5b",
       "version_major": 2,
       "version_minor": 0
      },
      "text/plain": [
       "Testing: |          | 0/? [00:00<?, ?it/s]"
      ]
     },
     "metadata": {},
     "output_type": "display_data"
    },
    {
     "name": "stdout",
     "output_type": "stream",
     "text": [
      "────────────────────────────────────────────────────────────────────────────────────────────────────────────────────────\n",
      "       Test metric             DataLoader 0\n",
      "────────────────────────────────────────────────────────────────────────────────────────────────────────────────────────\n",
      "        test_acc             0.469565212726593\n",
      "        test_loss           1.0536832809448242\n",
      "────────────────────────────────────────────────────────────────────────────────────────────────────────────────────────\n"
     ]
    },
    {
     "name": "stderr",
     "output_type": "stream",
     "text": [
      "Using 16bit Automatic Mixed Precision (AMP)\n",
      "GPU available: True (cuda), used: True\n",
      "TPU available: False, using: 0 TPU cores\n",
      "HPU available: False, using: 0 HPUs\n",
      "LOCAL_RANK: 0 - CUDA_VISIBLE_DEVICES: [0]\n",
      "\n",
      "  | Name      | Type               | Params | Mode \n",
      "---------------------------------------------------------\n",
      "0 | model     | VisionTransformer  | 303 M  | train\n",
      "1 | train_acc | MulticlassAccuracy | 0      | train\n",
      "2 | test_acc  | MulticlassAccuracy | 0      | train\n",
      "3 | criterion | CrossEntropyLoss   | 0      | train\n",
      "---------------------------------------------------------\n",
      "303 M     Trainable params\n",
      "0         Non-trainable params\n",
      "303 M     Total params\n",
      "1,213.219 Total estimated model params size (MB)\n",
      "299       Modules in train mode\n",
      "0         Modules in eval mode\n"
     ]
    },
    {
     "data": {
      "application/vnd.jupyter.widget-view+json": {
       "model_id": "35c3aae346474ef48c9836f5a08cd030",
       "version_major": 2,
       "version_minor": 0
      },
      "text/plain": [
       "Training: |          | 0/? [00:00<?, ?it/s]"
      ]
     },
     "metadata": {},
     "output_type": "display_data"
    },
    {
     "name": "stderr",
     "output_type": "stream",
     "text": [
      "`Trainer.fit` stopped: `max_epochs=1` reached.\n",
      "LOCAL_RANK: 0 - CUDA_VISIBLE_DEVICES: [0]\n"
     ]
    },
    {
     "name": "stdout",
     "output_type": "stream",
     "text": [
      "Entrenamiento completado para ViT_L_16\n"
     ]
    },
    {
     "data": {
      "application/vnd.jupyter.widget-view+json": {
       "model_id": "f0757aab3e81491d9aeb11553e86fc2d",
       "version_major": 2,
       "version_minor": 0
      },
      "text/plain": [
       "Testing: |          | 0/? [00:00<?, ?it/s]"
      ]
     },
     "metadata": {},
     "output_type": "display_data"
    },
    {
     "name": "stdout",
     "output_type": "stream",
     "text": [
      "────────────────────────────────────────────────────────────────────────────────────────────────────────────────────────\n",
      "       Test metric             DataLoader 0\n",
      "────────────────────────────────────────────────────────────────────────────────────────────────────────────────────────\n",
      "        test_acc            0.30000001192092896\n",
      "        test_loss            1.347423791885376\n",
      "────────────────────────────────────────────────────────────────────────────────────────────────────────────────────────\n"
     ]
    }
   ],
   "source": [
    "import os\n",
    "import torch\n",
    "from torch import nn, optim\n",
    "from torchvision.datasets import ImageFolder\n",
    "from torchvision import models\n",
    "import lightning as L\n",
    "from torch.utils.data import DataLoader\n",
    "from torchmetrics import Accuracy\n",
    "from lightning.pytorch.callbacks import ModelCheckpoint\n",
    "\n",
    "class OsteoDataModule(L.LightningDataModule):\n",
    "    def __init__(self, data_dir: str, transform=None, batch_size: int = 32):\n",
    "        super().__init__()\n",
    "        self.data_dir = data_dir\n",
    "        self.transform = transform\n",
    "        self.batch_size = batch_size\n",
    "        self.num_classes = None\n",
    "\n",
    "    def setup(self, stage: str = None):\n",
    "        if stage == \"fit\" or stage is None:\n",
    "            full_train_path = os.path.join(self.data_dir, \"train\")\n",
    "            train_dataset = ImageFolder(full_train_path, transform=self.transform)\n",
    "            self.num_classes = len(train_dataset.classes)\n",
    "            self.train_dataset = train_dataset\n",
    "        \n",
    "        if stage == \"test\" or stage is None:\n",
    "            full_test_path = os.path.join(self.data_dir, \"test\")\n",
    "            test_dataset = ImageFolder(full_test_path, transform=self.transform)\n",
    "            self.test_dataset = test_dataset\n",
    "\n",
    "\n",
    "    def train_dataloader(self):\n",
    "        return DataLoader(\n",
    "            self.train_dataset,\n",
    "            batch_size=self.batch_size,\n",
    "            shuffle=True,\n",
    "            num_workers=os.cpu_count(),\n",
    "            pin_memory=True\n",
    "        )\n",
    "    \n",
    "    def test_dataloader(self):\n",
    "        return DataLoader(\n",
    "            self.test_dataset,\n",
    "            batch_size=self.batch_size,\n",
    "            shuffle=False,  # No necesitamos barajar los datos de prueba\n",
    "            num_workers=os.cpu_count(),\n",
    "            pin_memory=True\n",
    "        )\n",
    "\n",
    "class LitModel(L.LightningModule):\n",
    "    def __init__(self, model_name: str, num_classes: int, pretrained: bool = False):\n",
    "        super().__init__()\n",
    "        self.model_name = model_name\n",
    "        self.num_classes = num_classes\n",
    "        self.pretrained = pretrained\n",
    "        \n",
    "        # Cargar modelo base\n",
    "        self.model = self._create_model()\n",
    "        \n",
    "        # Métricas\n",
    "        self.train_acc = Accuracy(task=\"multiclass\", num_classes=num_classes)\n",
    "        self.test_acc = Accuracy(task=\"multiclass\", num_classes=num_classes)\n",
    "        self.criterion = nn.CrossEntropyLoss()\n",
    "\n",
    "    def _create_model(self):\n",
    "        model_class = getattr(models, self.model_name.lower())\n",
    "        weights = getattr(models, f\"{self.model_name}_Weights\").DEFAULT if self.pretrained else None\n",
    "        \n",
    "        model = model_class(weights=weights)\n",
    "\n",
    "        # Ajustar la última capa dependiendo del tipo de modelo\n",
    "        if hasattr(model, \"classifier\"):  # Modelos como DenseNet, VGG, etc.\n",
    "            if isinstance(model.classifier, nn.Sequential):\n",
    "                # En DenseNet, el classifier es un Sequential que tiene un GlobalAveragePool y luego una capa Linear\n",
    "                in_features = model.classifier[-1].in_features  # La última capa Linear\n",
    "                model.classifier[-1] = nn.Linear(in_features, self.num_classes)\n",
    "            else:\n",
    "                # Para otros modelos con classifier sin Sequential\n",
    "                in_features = model.classifier.in_features\n",
    "                model.classifier = nn.Linear(in_features, self.num_classes)\n",
    "        elif hasattr(model, \"fc\"):  # Modelos como ResNet, etc.\n",
    "            in_features = model.fc.in_features\n",
    "            model.fc = nn.Linear(in_features, self.num_classes)\n",
    "        elif hasattr(model, \"heads\"):  # Modelos como ViT\n",
    "            in_features = model.heads.head.in_features\n",
    "            model.heads.head = nn.Linear(in_features, self.num_classes)\n",
    "        return model\n",
    "\n",
    "\n",
    "    def training_step(self, batch, batch_idx):\n",
    "        x, y = batch\n",
    "        logits = self.model(x)\n",
    "        loss = self.criterion(logits, y)\n",
    "        \n",
    "        preds = torch.argmax(logits, dim=1)\n",
    "        self.train_acc(preds, y)\n",
    "        \n",
    "        self.log(\"train_loss\", loss, prog_bar=True)\n",
    "        self.log(\"train_acc\", self.train_acc, prog_bar=True)\n",
    "        return loss\n",
    "\n",
    "    def test_step(self, batch, batch_idx):\n",
    "        x, y = batch\n",
    "        logits = self.model(x)\n",
    "        loss = self.criterion(logits, y)\n",
    "        \n",
    "        preds = torch.argmax(logits, dim=1)\n",
    "        self.test_acc(preds, y)\n",
    "        \n",
    "        self.log(\"test_loss\", loss, prog_bar=True)\n",
    "        self.log(\"test_acc\", self.test_acc, prog_bar=True)\n",
    "        return loss\n",
    "\n",
    "    def configure_optimizers(self):\n",
    "        return optim.AdamW(self.parameters(), lr=0.001, weight_decay=1e-4)\n",
    "\n",
    "def load_transforms(model_name: str):\n",
    "    weights_class = getattr(models, f\"{model_name}_Weights\")\n",
    "    return weights_class.DEFAULT.transforms()\n",
    "\n",
    "data_dir = \"../data/osteosarcoma2019\"\n",
    "experiment_models = [\"AlexNet\", \"DenseNet121\", \"DenseNet169\", \"EfficientNet_B0\", \"EfficientNet_B4\", \"EfficientNet_V2_S\", \"EfficientNet_V2_M\", \"ResNet18\", \"ResNet50\", \"VGG11\", \"VGG11_BN\", \"VGG16_BN\", \"ViT_B_16\", \"ViT_L_16\"]\n",
    "\n",
    "for model_name in experiment_models:\n",
    "    # Configurar transformaciones y datos\n",
    "    transform = load_transforms(model_name)\n",
    "    datamodule = OsteoDataModule(data_dir, transform=transform, batch_size=32)\n",
    "    datamodule.setup(\"fit\")\n",
    "    datamodule.setup(\"test\")\n",
    "    \n",
    "    # Configurar modelo\n",
    "    model = LitModel(\n",
    "        model_name=model_name,\n",
    "        num_classes=datamodule.num_classes,\n",
    "        pretrained=False\n",
    "    )\n",
    "    \n",
    "    # Callback para guardar el mejor modelo\n",
    "    checkpoint_callback = ModelCheckpoint(\n",
    "        dirpath=f\"../models/{model_name.lower()}/\",\n",
    "        filename=\"best-{epoch}-{train_acc:.2f}\",\n",
    "        monitor=\"train_acc\",\n",
    "        mode=\"max\",\n",
    "        save_top_k=1,\n",
    "        save_last=False\n",
    "    )\n",
    "    \n",
    "    # Entrenador\n",
    "    trainer = L.Trainer(\n",
    "        max_epochs=100,\n",
    "        accelerator=\"auto\",\n",
    "        devices=\"auto\",\n",
    "        precision=\"16-mixed\",\n",
    "        callbacks=[checkpoint_callback],\n",
    "        enable_progress_bar=True,\n",
    "        benchmark=True,\n",
    "        deterministic=False\n",
    "    )\n",
    "    \n",
    "    # Entrenamiento\n",
    "    trainer.fit(model, datamodule=datamodule)\n",
    "    print(f\"Entrenamiento completado para {model_name}\")\n",
    "    # Prueba\n",
    "    trainer.test(model, datamodule=datamodule)"
   ]
  },
  {
   "cell_type": "code",
   "execution_count": null,
   "metadata": {},
   "outputs": [],
   "source": []
  }
 ],
 "metadata": {
  "kernelspec": {
   "display_name": ".venv",
   "language": "python",
   "name": "python3"
  },
  "language_info": {
   "codemirror_mode": {
    "name": "ipython",
    "version": 3
   },
   "file_extension": ".py",
   "mimetype": "text/x-python",
   "name": "python",
   "nbconvert_exporter": "python",
   "pygments_lexer": "ipython3",
   "version": "3.12.7"
  }
 },
 "nbformat": 4,
 "nbformat_minor": 2
}
