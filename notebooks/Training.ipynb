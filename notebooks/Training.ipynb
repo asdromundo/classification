{
 "cells": [
  {
   "cell_type": "markdown",
   "metadata": {},
   "source": [
    "# Entrenamiento para clasificación de imagenes\n",
    "\n",
    "## Dataset\n",
    "\n",
    "### Osteosarcoma-Tumor-Assessment\n",
    "[Osteosarcoma data from UT Southwestern/UT Dallas for Viable and Necrotic Tumor Assessment](https://www.cancerimagingarchive.net/collection/osteosarcoma-tumor-assessment/)\n",
    "\n",
    "> Leavey, P., Sengupta, A., Rakheja, D., Daescu, O., Arunachalam, H. B., & Mishra, R. (2019). Osteosarcoma data from UT Southwestern/UT Dallas for Viable and Necrotic Tumor Assessment (Osteosarcoma-Tumor-Assessment) [Data set]. The Cancer Imaging Archive. https://doi.org/10.7937/tcia.2019.bvhjhdas\n",
    "\n",
    "#### Summary\n",
    "\n",
    "Osteosarcoma is the most common type of bone cancer that occurs in adolescents in the age of 10 to 14 years. The dataset is composed of Hematoxylin and eosin (H&E) stained osteosarcoma histology images. The data was collected by a team of clinical scientists at University of Texas Southwestern Medical Center, Dallas. Archival samples for 50 patients treated at Children’ s Medical Center, Dallas, between 1995 and 2015, were used to create this dataset. Four patients (out of 50) were selected by pathologists based on diversity of tumor specimens after surgical resection. The images are labelled as Non-Tumor, Viable Tumor and Necrosis according to the predominant cancer type in each image. The annotation was performed by two medical experts. All images were divided between two pathologists for the annotation activity. Each image had a single annotation as any given image was annotated by only one pathologist. The dataset consists of 1144 images of size 1024 X 1024 at 10X resolution with the following distribution: 536 (47%) non-tumor images, 263 (23%) necrotic tumor images and 345 (30%) viable tumor tiles."
   ]
  },
  {
   "cell_type": "markdown",
   "metadata": {},
   "source": [
    "## Conversión a formato de YOLO\n",
    "\n",
    "El dataset tiene una estructura distinta, que necesitamos cambiar a lo que espera YOLO.\n",
    "\n",
    "Se asumple la carpeta `data/PKG - Osteosarcoma Tumor Assessment`"
   ]
  },
  {
   "cell_type": "code",
   "execution_count": 1,
   "metadata": {},
   "outputs": [
    {
     "name": "stdout",
     "output_type": "stream",
     "text": [
      "Proceso completado. Imágenes movidas a ../data/PKG - Osteosarcoma Tumor Assessment/restructured y CSV consolidado en ../data/PKG - Osteosarcoma Tumor Assessment/restructured/data.csv.\n"
     ]
    }
   ],
   "source": [
    "import os\n",
    "import shutil\n",
    "import pandas as pd\n",
    "\n",
    "# Definir rutas\n",
    "base_dir = \"../data/PKG - Osteosarcoma Tumor Assessment\"\n",
    "output_dir = os.path.join(base_dir, \"restructured\")\n",
    "output_csv = os.path.join(output_dir, \"data.csv\")\n",
    "\n",
    "# Crear la carpeta restructured si no existe\n",
    "os.makedirs(output_dir, exist_ok=True)\n",
    "\n",
    "# Lista para almacenar los datos de los CSV\n",
    "csv_data = []\n",
    "\n",
    "# Recorrer Training-Set-1 y Training-Set-2\n",
    "for training_set in [\"Training-Set-1\", \"Training-Set-2\"]:\n",
    "    training_path = os.path.join(base_dir, training_set)\n",
    "    \n",
    "    # Recorrer las subcarpetas set1, set2, ..., set10\n",
    "    for set_folder in os.listdir(training_path):\n",
    "        set_path = os.path.join(training_path, set_folder)\n",
    "        \n",
    "        if os.path.isdir(set_path):  # Asegurarse de que es una carpeta\n",
    "            csv_file = os.path.join(set_path, \"PathologistValidation.csv\")\n",
    "\n",
    "            # Si existe el archivo PathologistValidation.csv, procesarlo\n",
    "            if os.path.exists(csv_file):\n",
    "                df = pd.read_csv(csv_file, header=None, names=[\"filename\", \"label\"])\n",
    "                df[\"original_set\"] = training_set  # Agregar columna de set de origen\n",
    "                df[\"original_folder\"] = set_folder  # Agregar columna con set específico\n",
    "                csv_data.append(df)\n",
    "\n",
    "            # Mover imágenes a la nueva carpeta\n",
    "            for img_file in os.listdir(set_path):\n",
    "                img_path = os.path.join(set_path, img_file)\n",
    "                if img_file.endswith((\".jpg\", \".png\", \".jpeg\")) and os.path.isfile(img_path):\n",
    "                    new_img_path = os.path.join(output_dir, img_file)\n",
    "\n",
    "                    # Evitar colisión de nombres agregando un prefijo si es necesario\n",
    "                    counter = 1\n",
    "                    while os.path.exists(new_img_path):\n",
    "                        name, ext = os.path.splitext(img_file)\n",
    "                        new_img_path = os.path.join(output_dir, f\"{name}_{counter}{ext}\")\n",
    "                        counter += 1\n",
    "\n",
    "                    shutil.copy2(img_path, new_img_path)\n",
    "\n",
    "# Consolidar los CSV en un solo archivo\n",
    "if csv_data:\n",
    "    consolidated_df = pd.concat(csv_data, ignore_index=True)\n",
    "    consolidated_df.to_csv(output_csv, index=False)\n",
    "\n",
    "print(f\"Proceso completado. Imágenes movidas a {output_dir} y CSV consolidado en {output_csv}.\")"
   ]
  },
  {
   "cell_type": "markdown",
   "metadata": {},
   "source": [
    "Para analizar los datos y verificar si hay archivos duplicados, podemos hacer lo siguiente:  \n",
    "\n",
    "### Análisis a realizar:  \n",
    "1. Contar el total de registros en `data.csv`  \n",
    "2. Contar los archivos únicos en la columna de nombres de archivo.  \n",
    "3. Contar la distribución de etiquetas (`Non-Tumor`, `Non-Viable-Tumor`, `Viable`, `Otros`) y compararla con la referencia.  \n",
    "4. Buscar duplicados en la columna de nombres de archivo.  \n",
    "\n",
    "\n",
    "### Explicación de los resultados:  \n",
    "- Si `total_records` es mayor que 1145, significa que hay imágenes repetidas en `data.csv`.  \n",
    "- Si `unique_files < 1145`, entonces faltan imágenes y habría que revisar qué pasó.  \n",
    "- La distribución de etiquetas (`label_counts`) debe ser cercana a:  \n",
    "  - `536 Non-Tumor`\n",
    "  - `263 Non-Viable-Tumor`\n",
    "  - `345 Viable`  \n",
    "- Si `duplicates` no está vacío, hay imágenes con múltiples anotaciones (`viable: non-viable` podría estar causando problemas).  \n",
    "\n",
    "---\n",
    "\n",
    "### Próximos pasos según los resultados:\n",
    "- Si hay archivos duplicados con múltiples etiquetas, podríamos decidir qué hacer con ellos (ej. elegir la etiqueta más frecuente o eliminarlos).  \n",
    "- Si hay más de 1145 registros en `data.csv`, eliminar registros repetidos y guardar un nuevo CSV limpio.  \n",
    "- Si hay menos de 1145 imágenes únicas, revisar qué imágenes faltan.  \n",
    "\n",
    "### Generacion de un nuevo data.csv filtrado y sin repetidos\n",
    "\n",
    "Si hemos confirmado que los labels repetidos contienen la misma información, y existe una etiqueta \"zannotated\" que no contiene una referencia a un nombre de archivo, podemos sobreescribir nuestros datos omitiendo los valores repetidos y la etiqueta sobrante."
   ]
  },
  {
   "cell_type": "code",
   "execution_count": 2,
   "metadata": {},
   "outputs": [
    {
     "name": "stdout",
     "output_type": "stream",
     "text": [
      "Total de registros en data.csv: 1406\n",
      "Total de archivos únicos: 1145\n",
      "\n",
      "Distribución de etiquetas en data.csv:\n",
      "label\n",
      "Non-Tumor             641\n",
      "Viable                365\n",
      "Non-Viable-Tumor      339\n",
      "viable: non-viable     61\n",
      "Name: count, dtype: int64\n",
      "\n",
      "Archivos con múltiples etiquetas:\n",
      "                              filename      label    original_set  \\\n",
      "99    Case 48 - P5 C19-51505-17925.jpg     Viable  Training-Set-1   \n",
      "100   Case 48 - P5 C20-46837-16405.jpg     Viable  Training-Set-1   \n",
      "101   Case 48 - P5 C19-41884-18067.jpg     Viable  Training-Set-1   \n",
      "102    Case 48 - P5 C21-48446-3802.jpg     Viable  Training-Set-1   \n",
      "103   Case 48 - P5 C19-51520-22044.jpg     Viable  Training-Set-1   \n",
      "...                                ...        ...             ...   \n",
      "1180                        zannotated  Non-Tumor  Training-Set-2   \n",
      "1231                        zannotated  Non-Tumor  Training-Set-2   \n",
      "1281                        zannotated  Non-Tumor  Training-Set-2   \n",
      "1334                        zannotated  Non-Tumor  Training-Set-2   \n",
      "1385                        zannotated  Non-Tumor  Training-Set-2   \n",
      "\n",
      "     original_folder  \n",
      "99              set8  \n",
      "100             set8  \n",
      "101             set8  \n",
      "102             set8  \n",
      "103             set8  \n",
      "...              ...  \n",
      "1180            set5  \n",
      "1231           set11  \n",
      "1281           set10  \n",
      "1334            set2  \n",
      "1385            set3  \n",
      "\n",
      "[460 rows x 4 columns]\n",
      "Todos los archivos duplicados tienen el mismo label.\n",
      "Nuevo archivo limpio guardado en: ../data/PKG - Osteosarcoma Tumor Assessment/restructured/data.csv\n",
      "Total de filas después de limpieza: 1144\n"
     ]
    }
   ],
   "source": [
    "import pandas as pd\n",
    "\n",
    "# Cargar el archivo CSV consolidado\n",
    "csv_path = output_csv\n",
    "df = pd.read_csv(csv_path)\n",
    "\n",
    "# Ver el total de registros\n",
    "total_records = len(df)\n",
    "\n",
    "# Contar archivos únicos\n",
    "unique_files = df[\"filename\"].nunique()\n",
    "\n",
    "# Contar la distribución de etiquetas\n",
    "label_counts = df[\"label\"].value_counts()\n",
    "\n",
    "# Verificar si hay archivos duplicados (mismo nombre de archivo con diferentes etiquetas)\n",
    "duplicates = df[df.duplicated(subset=[\"filename\"], keep=False)]\n",
    "\n",
    "# Imprimir resultados\n",
    "print(f\"Total de registros en data.csv: {total_records}\")\n",
    "print(f\"Total de archivos únicos: {unique_files}\")\n",
    "print(\"\\nDistribución de etiquetas en data.csv:\")\n",
    "print(label_counts)\n",
    "\n",
    "# Si hay duplicados, mostrarlos\n",
    "if not duplicates.empty:\n",
    "    print(\"\\nArchivos con múltiples etiquetas:\")\n",
    "    print(duplicates)\n",
    "    # Agrupar por filename y verificar si todas las etiquetas son iguales\n",
    "    mismatched_labels = duplicates.groupby(\"filename\")[\"label\"].nunique()\n",
    "\n",
    "    # Filtrar solo aquellos que tienen más de un label diferente\n",
    "    conflicting_labels = mismatched_labels[mismatched_labels > 1]\n",
    "\n",
    "    # Imprimir resultados\n",
    "    if not conflicting_labels.empty:\n",
    "        print(\"Archivos con etiquetas diferentes:\")\n",
    "        print(df[df[\"filename\"].isin(conflicting_labels.index)])\n",
    "        raise AttributeError(\"Las etiquetas para cada archivo repetido deben ser las mismas. Resuelve los conflictos antes de continuar\")\n",
    "    else:\n",
    "        print(\"Todos los archivos duplicados tienen el mismo label.\")\n",
    "\n",
    "        # Eliminar la fila con \"zannotated\" en la columna de nombres de archivo\n",
    "        df_cleaned = df[df[\"filename\"] != \"zannotated\"]\n",
    "\n",
    "        # Eliminar duplicados manteniendo la primera aparición\n",
    "        df_cleaned = df_cleaned.drop_duplicates(subset=[\"filename\"], keep=\"first\")\n",
    "\n",
    "        # Guardar el archivo limpio\n",
    "        df_cleaned.to_csv(output_csv, index=False)\n",
    "\n",
    "        print(f\"Nuevo archivo limpio guardado en: {output_csv}\")\n",
    "        print(f\"Total de filas después de limpieza: {len(df_cleaned)}\")\n",
    "else:\n",
    "    print(\"\\nNo hay archivos con etiquetas duplicadas.\")"
   ]
  },
  {
   "cell_type": "markdown",
   "metadata": {},
   "source": [
    "### Confirmación de la distribución de datos\n",
    "\n",
    "De acuerdo a la información del dataset deberíamos tener:\n",
    "> \"536 (47%) non-tumor images, 263 (23%) necrotic tumor images and 345 (30%) viable tumor tiles.\"\n",
    "\n",
    "- 536 Non-Tumor\n",
    "- 345 Viable-Tumor\n",
    "- 263 Necrotic-Tumor\n",
    "\n",
    "Sin embargo, la notación de los archivos no es consistente con esto por lo que también debemos transformar los datos no debidamente identificados a nuestras clases.\n",
    "\n",
    "Observando nuestro nuevo `data.csv` tenemos:"
   ]
  },
  {
   "cell_type": "code",
   "execution_count": 3,
   "metadata": {},
   "outputs": [
    {
     "name": "stdout",
     "output_type": "stream",
     "text": [
      "Total de registros en data.csv: 1144\n",
      "\n",
      "Distribución de etiquetas en data.csv:\n",
      "label\n",
      "Non-Tumor             536\n",
      "Viable                292\n",
      "Non-Viable-Tumor      263\n",
      "viable: non-viable     53\n",
      "Name: count, dtype: int64\n"
     ]
    }
   ],
   "source": [
    "# Cargar el archivo CSV consolidado\n",
    "csv_path = output_csv\n",
    "df = pd.read_csv(csv_path)\n",
    "\n",
    "# Ver el total de registros\n",
    "total_records = len(df)\n",
    "\n",
    "# Contar la distribución de etiquetas\n",
    "label_counts = df[\"label\"].value_counts()\n",
    "\n",
    "\n",
    "# Imprimir resultados\n",
    "print(f\"Total de registros en data.csv: {total_records}\")\n",
    "print(\"\\nDistribución de etiquetas en data.csv:\")\n",
    "print(label_counts)"
   ]
  },
  {
   "cell_type": "markdown",
   "metadata": {},
   "source": [
    "Dado que existe únicamente una diferencia entre `Viable` y tenemos esos valores en la etiqueta `viable: non-viable` asumiremos que pertenecen a esa clase. De igual manera, tomaremos `Non-Viable-Tumor` como `Necrotic`. Sin embargo, esto es ambiguo y debería corregirse en el dataset original. \n"
   ]
  },
  {
   "cell_type": "code",
   "execution_count": 4,
   "metadata": {},
   "outputs": [
    {
     "name": "stdout",
     "output_type": "stream",
     "text": [
      "Etiquetas corregidas y archivo actualizado.\n",
      "Total de registros en data.csv: 1144\n",
      "\n",
      "Distribución de etiquetas en data.csv:\n",
      "label\n",
      "Non-Tumor         536\n",
      "Viable-Tumor      345\n",
      "Necrotic-Tumor    263\n",
      "Name: count, dtype: int64\n"
     ]
    }
   ],
   "source": [
    "# Cargar el archivo CSV\n",
    "df = pd.read_csv(csv_path)\n",
    "\n",
    "# Reemplazar etiquetas incorrectas por las correctas\n",
    "df[\"label\"] = df[\"label\"].replace({\n",
    "    \"viable: non-viable\": \"Viable-Tumor\",\n",
    "    \"Viable\": \"Viable-Tumor\",\n",
    "    \"Non-Viable-Tumor\": \"Necrotic-Tumor\"\n",
    "})\n",
    "\n",
    "# Limpiar los nombres de archivos (reemplazar secuencias de espacios o guiones con un solo guion)\n",
    "df['filename'] = df['filename'].str.replace(r'[\\s-]+', '-', regex=True)\n",
    "\n",
    "\n",
    "# Guardar la versión final del CSV limpio\n",
    "df.to_csv(output_csv, index=False)\n",
    "print(\"Etiquetas corregidas y archivo actualizado.\")\n",
    "\n",
    "# Ver el total de registros\n",
    "total_records = len(df)\n",
    "\n",
    "# Contar la distribución de etiquetas\n",
    "label_counts = df[\"label\"].value_counts()\n",
    "\n",
    "\n",
    "# Imprimir resultados\n",
    "print(f\"Total de registros en data.csv: {total_records}\")\n",
    "print(\"\\nDistribución de etiquetas en data.csv:\")\n",
    "print(label_counts)"
   ]
  },
  {
   "cell_type": "markdown",
   "metadata": {},
   "source": [
    "### Separación en formato para YOLO\n",
    "\n",
    "Ahora si, podemos usar esta información para crear nuestro dataset para YOLO. Separado en carpetas siguiendo el formato\n",
    "  - osteosarcoma2019\n",
    "    - train\n",
    "      - Non-Tumor\n",
    "      - Viable-Tumor\n",
    "      - Necrotic-Tumor\n",
    "    - test\n",
    "      - ...\n",
    "    - val\n",
    "      - ...\n",
    "\n",
    "Usaremos una división estratificada para asegurar que cada conjunto tenga una proporción similar a la original de cada clase"
   ]
  },
  {
   "cell_type": "code",
   "execution_count": 32,
   "metadata": {},
   "outputs": [
    {
     "name": "stdout",
     "output_type": "stream",
     "text": [
      "Archivos organizados y movidos correctamente.\n"
     ]
    }
   ],
   "source": [
    "import os\n",
    "import pandas as pd\n",
    "import shutil\n",
    "\n",
    "# Definir rutas\n",
    "base_dir = \"../data/PKG - Osteosarcoma Tumor Assessment\"\n",
    "output_dir = os.path.join(base_dir, \"restructured\")\n",
    "data_csv = os.path.join(output_dir, \"data.csv\")\n",
    "osteosarcoma_dir = \"../data/osteosarcoma2019\"\n",
    "\n",
    "# Crear la estructura de carpetas\n",
    "subfolders = ['train', 'test', 'val']\n",
    "categories = ['Non-Tumor', 'Viable-Tumor', 'Necrotic-Tumor']\n",
    "\n",
    "# Crear las carpetas principales\n",
    "os.makedirs(osteosarcoma_dir, exist_ok=True)\n",
    "for folder in subfolders:\n",
    "    for category in categories:\n",
    "        os.makedirs(os.path.join(osteosarcoma_dir, folder, category), exist_ok=True)\n",
    "\n",
    "# Leer el archivo CSV\n",
    "df = pd.read_csv(data_csv, header=None, names=[\"filename\", \"label\"], usecols=[0,1])\n",
    "\n",
    "# Establecer el porcentaje de división\n",
    "train_ratio = 0.8\n",
    "val_ratio = 0.0\n",
    "test_ratio = 0.2\n",
    "\n",
    "# Función para dividir de forma estratificada\n",
    "def stratified_split(df, train_ratio, val_ratio, test_ratio):\n",
    "    # Dividir por clases\n",
    "    train_data = pd.DataFrame()\n",
    "    val_data = pd.DataFrame()\n",
    "    test_data = pd.DataFrame()\n",
    "\n",
    "    for category in categories:\n",
    "        # Filtrar las imágenes por categoría\n",
    "        category_data = df[df['label'] == category]\n",
    "        \n",
    "        # Calcular los índices para las divisiones\n",
    "        total = len(category_data)\n",
    "        train_size = int(total * train_ratio)\n",
    "        val_size = int(total * val_ratio)\n",
    "        test_size = total - train_size - val_size  # Resto para el tamaño de test\n",
    "\n",
    "        # Dividir en partes\n",
    "        category_train = category_data[:train_size]\n",
    "        category_val = category_data[train_size:train_size + val_size]\n",
    "        category_test = category_data[train_size + val_size:]\n",
    "\n",
    "        # Agregar al DataFrame global\n",
    "        train_data = pd.concat([train_data, category_train])\n",
    "        val_data = pd.concat([val_data, category_val])\n",
    "        test_data = pd.concat([test_data, category_test])\n",
    "\n",
    "    return train_data, val_data, test_data\n",
    "\n",
    "# Dividir los datos de forma estratificada\n",
    "train_data, val_data, test_data = stratified_split(df, train_ratio, val_ratio, test_ratio)\n",
    "\n",
    "# Función para mover los archivos\n",
    "def move_files(data, category, target_folder):\n",
    "    for _, row in data.iterrows():\n",
    "        filename = row['filename']\n",
    "        source_path = os.path.join(output_dir, filename)\n",
    "        \n",
    "        # Comprobar si el archivo existe\n",
    "        if os.path.exists(source_path):\n",
    "            destination_path = os.path.join(osteosarcoma_dir, target_folder, category, filename)\n",
    "            shutil.copy(source_path, destination_path)\n",
    "\n",
    "# Mover los archivos a las carpetas correspondientes\n",
    "for category in categories:\n",
    "    category_data = df[df['label'] == category]\n",
    "    \n",
    "    # Entrenamiento\n",
    "    move_files(category_data[category_data.index.isin(train_data.index)], category, 'train')\n",
    "    \n",
    "    # Validación\n",
    "    move_files(category_data[category_data.index.isin(val_data.index)], category, 'val')\n",
    "    \n",
    "    # Test\n",
    "    move_files(category_data[category_data.index.isin(test_data.index)], category, 'test')\n",
    "\n",
    "print(\"Archivos organizados y movidos correctamente.\")\n"
   ]
  },
  {
   "cell_type": "markdown",
   "metadata": {},
   "source": [
    "## Entrenar red con YOLO\n",
    "\n",
    "Ahora tenemos el dataset en un formato que YOLO si conoce, asi que podemos iniciar nuestro entrenamiento de clasificación"
   ]
  },
  {
   "cell_type": "code",
   "execution_count": 2,
   "metadata": {},
   "outputs": [
    {
     "name": "stdout",
     "output_type": "stream",
     "text": [
      "New https://pypi.org/project/ultralytics/8.3.94 available 😃 Update with 'pip install -U ultralytics'\n",
      "Ultralytics 8.3.91 🚀 Python-3.12.7 torch-2.6.0+cu126 CUDA:0 (NVIDIA GeForce RTX 4090, 24089MiB)\n",
      "\u001b[34m\u001b[1mengine/trainer: \u001b[0mtask=classify, mode=train, model=../models/yolo/osteosarcoma2019/weights/best.pt, data=../data/osteosarcoma2019, epochs=200, time=None, patience=50, batch=-1, imgsz=640, save=True, save_period=-1, cache=False, device=0, workers=8, project=../models/yolo, name=osteosarcoma2019, exist_ok=True, pretrained=False, optimizer=auto, verbose=True, seed=0, deterministic=True, single_cls=False, rect=False, cos_lr=False, close_mosaic=10, resume=False, amp=True, fraction=1.0, profile=False, freeze=None, multi_scale=True, overlap_mask=True, mask_ratio=4, dropout=0.0, val=False, split=val, save_json=False, save_hybrid=False, conf=None, iou=0.7, max_det=300, half=False, dnn=False, plots=True, source=None, vid_stride=1, stream_buffer=False, visualize=False, augment=False, agnostic_nms=False, classes=None, retina_masks=False, embed=None, show=False, save_frames=False, save_txt=False, save_conf=False, save_crop=False, show_labels=True, show_conf=True, show_boxes=True, line_width=None, format=torchscript, keras=False, optimize=False, int8=False, dynamic=False, simplify=True, opset=None, workspace=None, nms=False, lr0=0.01, lrf=0.01, momentum=0.937, weight_decay=0.0005, warmup_epochs=3.0, warmup_momentum=0.8, warmup_bias_lr=0.1, box=7.5, cls=0.5, dfl=1.5, pose=12.0, kobj=1.0, nbs=64, hsv_h=0.015, hsv_s=0.7, hsv_v=0.4, degrees=0.0, translate=0.1, scale=0.5, shear=0.0, perspective=0.0, flipud=0.0, fliplr=0.5, bgr=0.0, mosaic=1.0, mixup=0.0, copy_paste=0.0, copy_paste_mode=flip, auto_augment=randaugment, erasing=0.4, crop_fraction=1.0, cfg=None, tracker=botsort.yaml, save_dir=../models/yolo/osteosarcoma2019\n",
      "\u001b[34m\u001b[1mtrain:\u001b[0m /home/asdromundo/Documentos/classification/data/osteosarcoma2019/train... found 914 images in 3 classes ✅ \n",
      "\u001b[34m\u001b[1mval:\u001b[0m None...\n",
      "\u001b[34m\u001b[1mtest:\u001b[0m /home/asdromundo/Documentos/classification/data/osteosarcoma2019/test... found 230 images in 3 classes ✅ \n",
      "\n",
      "                   from  n    params  module                                       arguments                     \n",
      "  0                  -1  1       928  ultralytics.nn.modules.conv.Conv             [3, 32, 3, 2]                 \n",
      "  1                  -1  1     18560  ultralytics.nn.modules.conv.Conv             [32, 64, 3, 2]                \n",
      "  2                  -1  1     26080  ultralytics.nn.modules.block.C3k2            [64, 128, 1, False, 0.25]     \n",
      "  3                  -1  1    147712  ultralytics.nn.modules.conv.Conv             [128, 128, 3, 2]              \n",
      "  4                  -1  1    103360  ultralytics.nn.modules.block.C3k2            [128, 256, 1, False, 0.25]    \n",
      "  5                  -1  1    590336  ultralytics.nn.modules.conv.Conv             [256, 256, 3, 2]              \n",
      "  6                  -1  1    346112  ultralytics.nn.modules.block.C3k2            [256, 256, 1, True]           \n",
      "  7                  -1  1   1180672  ultralytics.nn.modules.conv.Conv             [256, 512, 3, 2]              \n",
      "  8                  -1  1   1380352  ultralytics.nn.modules.block.C3k2            [512, 512, 1, True]           \n",
      "  9                  -1  1    990976  ultralytics.nn.modules.block.C2PSA           [512, 512, 1]                 \n",
      " 10                  -1  1    661763  ultralytics.nn.modules.head.Classify         [512, 3]                      \n",
      "YOLO11s-cls summary: 86 layers, 5,446,851 parameters, 5,446,851 gradients, 12.1 GFLOPs\n",
      "Transferred 236/236 items from pretrained weights\n",
      "\u001b[34m\u001b[1mAMP: \u001b[0mrunning Automatic Mixed Precision (AMP) checks...\n",
      "\u001b[34m\u001b[1mAMP: \u001b[0mchecks passed ✅\n",
      "\u001b[34m\u001b[1mAutoBatch: \u001b[0mComputing optimal batch size for imgsz=640 at 60.0% CUDA memory utilization.\n",
      "\u001b[34m\u001b[1mAutoBatch: \u001b[0mCUDA:0 (NVIDIA GeForce RTX 4090) 23.52G total, 15.17G reserved, 0.99G allocated, 7.37G free\n",
      "      Params      GFLOPs  GPU_mem (GB)  forward (ms) backward (ms)                   input                  output\n",
      "     5446851       12.13         1.258         23.34         5.921        (1, 3, 640, 640)                  (1, 3)\n",
      "     5446851       24.27         1.437         6.212         5.018        (2, 3, 640, 640)                  (2, 3)\n",
      "     5446851       48.53         1.854         8.909         6.034        (4, 3, 640, 640)                  (4, 3)\n",
      "     5446851       97.07         2.665         8.069         10.34        (8, 3, 640, 640)                  (8, 3)\n",
      "     5446851       194.1         4.064         10.67         18.67       (16, 3, 640, 640)                 (16, 3)\n",
      "     5446851       388.3         6.705         25.78         36.83       (32, 3, 640, 640)                 (32, 3)\n",
      "     5446851       776.5        12.717         44.96         76.52       (64, 3, 640, 640)                 (64, 3)\n",
      "\u001b[34m\u001b[1mAutoBatch: \u001b[0mUsing batch-size 15 for CUDA:0 20.63G/23.52G (88%) ✅\n"
     ]
    },
    {
     "name": "stderr",
     "output_type": "stream",
     "text": [
      "\u001b[34m\u001b[1mtrain: \u001b[0mScanning /home/asdromundo/Documentos/classification/data/osteosarcoma2019/train... 914 images, 0 corrupt: 100%|██████████| 914/914 [00:00<?, ?it/s]\n",
      "\u001b[34m\u001b[1mval: \u001b[0mScanning /home/asdromundo/Documentos/classification/data/osteosarcoma2019/test... 230 images, 0 corrupt: 100%|██████████| 230/230 [00:00<?, ?it/s]\n"
     ]
    },
    {
     "name": "stdout",
     "output_type": "stream",
     "text": [
      "\u001b[34m\u001b[1moptimizer:\u001b[0m 'optimizer=auto' found, ignoring 'lr0=0.01' and 'momentum=0.937' and determining best 'optimizer', 'lr0' and 'momentum' automatically... \n",
      "\u001b[34m\u001b[1moptimizer:\u001b[0m AdamW(lr=0.001429, momentum=0.9) with parameter groups 39 weight(decay=0.0), 40 weight(decay=0.00046875), 40 bias(decay=0.0)\n",
      "Image sizes 640 train, 640 val\n",
      "Using 8 dataloader workers\n",
      "Logging results to \u001b[1m../models/yolo/osteosarcoma2019\u001b[0m\n",
      "Starting training for 200 epochs...\n",
      "\n",
      "      Epoch    GPU_mem       loss  Instances       Size\n"
     ]
    },
    {
     "name": "stderr",
     "output_type": "stream",
     "text": [
      "      1/200      3.55G     0.9449         14        640: 100%|██████████| 61/61 [00:05<00:00, 11.16it/s]\n"
     ]
    },
    {
     "name": "stdout",
     "output_type": "stream",
     "text": [
      "\n",
      "      Epoch    GPU_mem       loss  Instances       Size\n"
     ]
    },
    {
     "name": "stderr",
     "output_type": "stream",
     "text": [
      "      2/200      3.55G     0.8652         14        640: 100%|██████████| 61/61 [00:02<00:00, 23.24it/s]\n"
     ]
    },
    {
     "name": "stdout",
     "output_type": "stream",
     "text": [
      "\n",
      "      Epoch    GPU_mem       loss  Instances       Size\n"
     ]
    },
    {
     "name": "stderr",
     "output_type": "stream",
     "text": [
      "      3/200      3.56G     0.8783         14        640: 100%|██████████| 61/61 [00:03<00:00, 20.17it/s]\n"
     ]
    },
    {
     "name": "stdout",
     "output_type": "stream",
     "text": [
      "\n",
      "      Epoch    GPU_mem       loss  Instances       Size\n"
     ]
    },
    {
     "name": "stderr",
     "output_type": "stream",
     "text": [
      "      4/200      3.56G     0.7859         14        640: 100%|██████████| 61/61 [00:02<00:00, 22.88it/s]\n"
     ]
    },
    {
     "name": "stdout",
     "output_type": "stream",
     "text": [
      "\n",
      "      Epoch    GPU_mem       loss  Instances       Size\n"
     ]
    },
    {
     "name": "stderr",
     "output_type": "stream",
     "text": [
      "      5/200      3.56G     0.6959         14        640: 100%|██████████| 61/61 [00:02<00:00, 22.17it/s]\n"
     ]
    },
    {
     "name": "stdout",
     "output_type": "stream",
     "text": [
      "\n",
      "      Epoch    GPU_mem       loss  Instances       Size\n"
     ]
    },
    {
     "name": "stderr",
     "output_type": "stream",
     "text": [
      "      6/200      3.56G       0.69         14        640: 100%|██████████| 61/61 [00:02<00:00, 22.02it/s]\n"
     ]
    },
    {
     "name": "stdout",
     "output_type": "stream",
     "text": [
      "\n",
      "      Epoch    GPU_mem       loss  Instances       Size\n"
     ]
    },
    {
     "name": "stderr",
     "output_type": "stream",
     "text": [
      "      7/200      3.56G     0.6657         14        640: 100%|██████████| 61/61 [00:02<00:00, 21.20it/s]\n"
     ]
    },
    {
     "name": "stdout",
     "output_type": "stream",
     "text": [
      "\n",
      "      Epoch    GPU_mem       loss  Instances       Size\n"
     ]
    },
    {
     "name": "stderr",
     "output_type": "stream",
     "text": [
      "      8/200      3.56G     0.6965         14        640: 100%|██████████| 61/61 [00:02<00:00, 20.71it/s]\n"
     ]
    },
    {
     "name": "stdout",
     "output_type": "stream",
     "text": [
      "\n",
      "      Epoch    GPU_mem       loss  Instances       Size\n"
     ]
    },
    {
     "name": "stderr",
     "output_type": "stream",
     "text": [
      "      9/200      3.56G     0.5933         14        640: 100%|██████████| 61/61 [00:02<00:00, 21.85it/s]\n"
     ]
    },
    {
     "name": "stdout",
     "output_type": "stream",
     "text": [
      "\n",
      "      Epoch    GPU_mem       loss  Instances       Size\n"
     ]
    },
    {
     "name": "stderr",
     "output_type": "stream",
     "text": [
      "     10/200      3.56G     0.6713         14        640: 100%|██████████| 61/61 [00:02<00:00, 22.00it/s]\n"
     ]
    },
    {
     "name": "stdout",
     "output_type": "stream",
     "text": [
      "\n",
      "      Epoch    GPU_mem       loss  Instances       Size\n"
     ]
    },
    {
     "name": "stderr",
     "output_type": "stream",
     "text": [
      "     11/200      3.56G     0.6137         14        640: 100%|██████████| 61/61 [00:02<00:00, 21.68it/s]\n"
     ]
    },
    {
     "name": "stdout",
     "output_type": "stream",
     "text": [
      "\n",
      "      Epoch    GPU_mem       loss  Instances       Size\n"
     ]
    },
    {
     "name": "stderr",
     "output_type": "stream",
     "text": [
      "     12/200      3.56G     0.5839         14        640: 100%|██████████| 61/61 [00:02<00:00, 21.31it/s]\n"
     ]
    },
    {
     "name": "stdout",
     "output_type": "stream",
     "text": [
      "\n",
      "      Epoch    GPU_mem       loss  Instances       Size\n"
     ]
    },
    {
     "name": "stderr",
     "output_type": "stream",
     "text": [
      "     13/200      3.56G      0.616         14        640: 100%|██████████| 61/61 [00:02<00:00, 21.94it/s]\n"
     ]
    },
    {
     "name": "stdout",
     "output_type": "stream",
     "text": [
      "\n",
      "      Epoch    GPU_mem       loss  Instances       Size\n"
     ]
    },
    {
     "name": "stderr",
     "output_type": "stream",
     "text": [
      "     14/200      3.56G      0.549         14        640: 100%|██████████| 61/61 [00:02<00:00, 21.80it/s]\n"
     ]
    },
    {
     "name": "stdout",
     "output_type": "stream",
     "text": [
      "\n",
      "      Epoch    GPU_mem       loss  Instances       Size\n"
     ]
    },
    {
     "name": "stderr",
     "output_type": "stream",
     "text": [
      "     15/200      3.56G     0.5375         14        640: 100%|██████████| 61/61 [00:02<00:00, 21.49it/s]\n"
     ]
    },
    {
     "name": "stdout",
     "output_type": "stream",
     "text": [
      "\n",
      "      Epoch    GPU_mem       loss  Instances       Size\n"
     ]
    },
    {
     "name": "stderr",
     "output_type": "stream",
     "text": [
      "     16/200      3.56G     0.4961         14        640: 100%|██████████| 61/61 [00:02<00:00, 21.77it/s]\n"
     ]
    },
    {
     "name": "stdout",
     "output_type": "stream",
     "text": [
      "\n",
      "      Epoch    GPU_mem       loss  Instances       Size\n"
     ]
    },
    {
     "name": "stderr",
     "output_type": "stream",
     "text": [
      "     17/200      3.56G     0.5411         14        640: 100%|██████████| 61/61 [00:02<00:00, 21.38it/s]\n"
     ]
    },
    {
     "name": "stdout",
     "output_type": "stream",
     "text": [
      "\n",
      "      Epoch    GPU_mem       loss  Instances       Size\n"
     ]
    },
    {
     "name": "stderr",
     "output_type": "stream",
     "text": [
      "     18/200      3.56G     0.5078         14        640: 100%|██████████| 61/61 [00:02<00:00, 22.74it/s]\n"
     ]
    },
    {
     "name": "stdout",
     "output_type": "stream",
     "text": [
      "\n",
      "      Epoch    GPU_mem       loss  Instances       Size\n"
     ]
    },
    {
     "name": "stderr",
     "output_type": "stream",
     "text": [
      "     19/200      3.58G     0.4997         14        640: 100%|██████████| 61/61 [00:02<00:00, 21.57it/s]\n"
     ]
    },
    {
     "name": "stdout",
     "output_type": "stream",
     "text": [
      "\n",
      "      Epoch    GPU_mem       loss  Instances       Size\n"
     ]
    },
    {
     "name": "stderr",
     "output_type": "stream",
     "text": [
      "     20/200       3.6G     0.4847         14        640: 100%|██████████| 61/61 [00:02<00:00, 21.72it/s]\n"
     ]
    },
    {
     "name": "stdout",
     "output_type": "stream",
     "text": [
      "\n",
      "      Epoch    GPU_mem       loss  Instances       Size\n"
     ]
    },
    {
     "name": "stderr",
     "output_type": "stream",
     "text": [
      "     21/200      3.62G     0.5129         14        640: 100%|██████████| 61/61 [00:02<00:00, 21.71it/s]\n"
     ]
    },
    {
     "name": "stdout",
     "output_type": "stream",
     "text": [
      "\n",
      "      Epoch    GPU_mem       loss  Instances       Size\n"
     ]
    },
    {
     "name": "stderr",
     "output_type": "stream",
     "text": [
      "     22/200      3.62G     0.5078         14        640: 100%|██████████| 61/61 [00:02<00:00, 20.79it/s]\n"
     ]
    },
    {
     "name": "stdout",
     "output_type": "stream",
     "text": [
      "\n",
      "      Epoch    GPU_mem       loss  Instances       Size\n"
     ]
    },
    {
     "name": "stderr",
     "output_type": "stream",
     "text": [
      "     23/200      3.62G     0.4726         14        640: 100%|██████████| 61/61 [00:02<00:00, 23.32it/s]\n"
     ]
    },
    {
     "name": "stdout",
     "output_type": "stream",
     "text": [
      "\n",
      "      Epoch    GPU_mem       loss  Instances       Size\n"
     ]
    },
    {
     "name": "stderr",
     "output_type": "stream",
     "text": [
      "     24/200      3.62G     0.4941         14        640: 100%|██████████| 61/61 [00:02<00:00, 21.45it/s]\n"
     ]
    },
    {
     "name": "stdout",
     "output_type": "stream",
     "text": [
      "\n",
      "      Epoch    GPU_mem       loss  Instances       Size\n"
     ]
    },
    {
     "name": "stderr",
     "output_type": "stream",
     "text": [
      "     25/200      3.62G     0.4889         14        640: 100%|██████████| 61/61 [00:02<00:00, 20.61it/s]\n"
     ]
    },
    {
     "name": "stdout",
     "output_type": "stream",
     "text": [
      "\n",
      "      Epoch    GPU_mem       loss  Instances       Size\n"
     ]
    },
    {
     "name": "stderr",
     "output_type": "stream",
     "text": [
      "     26/200      3.62G     0.4283         14        640: 100%|██████████| 61/61 [00:02<00:00, 22.46it/s]\n"
     ]
    },
    {
     "name": "stdout",
     "output_type": "stream",
     "text": [
      "\n",
      "      Epoch    GPU_mem       loss  Instances       Size\n"
     ]
    },
    {
     "name": "stderr",
     "output_type": "stream",
     "text": [
      "     27/200      3.62G     0.4313         14        640: 100%|██████████| 61/61 [00:02<00:00, 21.41it/s]\n"
     ]
    },
    {
     "name": "stdout",
     "output_type": "stream",
     "text": [
      "\n",
      "      Epoch    GPU_mem       loss  Instances       Size\n"
     ]
    },
    {
     "name": "stderr",
     "output_type": "stream",
     "text": [
      "     28/200      3.62G     0.4886         14        640: 100%|██████████| 61/61 [00:02<00:00, 21.59it/s]\n"
     ]
    },
    {
     "name": "stdout",
     "output_type": "stream",
     "text": [
      "\n",
      "      Epoch    GPU_mem       loss  Instances       Size\n"
     ]
    },
    {
     "name": "stderr",
     "output_type": "stream",
     "text": [
      "     29/200      3.62G     0.4343         14        640: 100%|██████████| 61/61 [00:02<00:00, 20.80it/s]\n"
     ]
    },
    {
     "name": "stdout",
     "output_type": "stream",
     "text": [
      "\n",
      "      Epoch    GPU_mem       loss  Instances       Size\n"
     ]
    },
    {
     "name": "stderr",
     "output_type": "stream",
     "text": [
      "     30/200      3.62G     0.4672         14        640: 100%|██████████| 61/61 [00:02<00:00, 22.64it/s]\n"
     ]
    },
    {
     "name": "stdout",
     "output_type": "stream",
     "text": [
      "\n",
      "      Epoch    GPU_mem       loss  Instances       Size\n"
     ]
    },
    {
     "name": "stderr",
     "output_type": "stream",
     "text": [
      "     31/200      3.62G     0.4795         14        640: 100%|██████████| 61/61 [00:02<00:00, 20.92it/s]\n"
     ]
    },
    {
     "name": "stdout",
     "output_type": "stream",
     "text": [
      "\n",
      "      Epoch    GPU_mem       loss  Instances       Size\n"
     ]
    },
    {
     "name": "stderr",
     "output_type": "stream",
     "text": [
      "     32/200      3.62G     0.3987         14        640: 100%|██████████| 61/61 [00:02<00:00, 21.55it/s]\n"
     ]
    },
    {
     "name": "stdout",
     "output_type": "stream",
     "text": [
      "\n",
      "      Epoch    GPU_mem       loss  Instances       Size\n"
     ]
    },
    {
     "name": "stderr",
     "output_type": "stream",
     "text": [
      "     33/200      3.62G     0.4463         14        640: 100%|██████████| 61/61 [00:02<00:00, 20.66it/s]\n"
     ]
    },
    {
     "name": "stdout",
     "output_type": "stream",
     "text": [
      "\n",
      "      Epoch    GPU_mem       loss  Instances       Size\n"
     ]
    },
    {
     "name": "stderr",
     "output_type": "stream",
     "text": [
      "     34/200      3.63G     0.4299         14        640: 100%|██████████| 61/61 [00:02<00:00, 20.61it/s]\n"
     ]
    },
    {
     "name": "stdout",
     "output_type": "stream",
     "text": [
      "\n",
      "      Epoch    GPU_mem       loss  Instances       Size\n"
     ]
    },
    {
     "name": "stderr",
     "output_type": "stream",
     "text": [
      "     35/200      3.65G     0.4147         14        640: 100%|██████████| 61/61 [00:02<00:00, 21.51it/s]\n"
     ]
    },
    {
     "name": "stdout",
     "output_type": "stream",
     "text": [
      "\n",
      "      Epoch    GPU_mem       loss  Instances       Size\n"
     ]
    },
    {
     "name": "stderr",
     "output_type": "stream",
     "text": [
      "     36/200      3.65G     0.4126         14        640: 100%|██████████| 61/61 [00:02<00:00, 21.11it/s]\n"
     ]
    },
    {
     "name": "stdout",
     "output_type": "stream",
     "text": [
      "\n",
      "      Epoch    GPU_mem       loss  Instances       Size\n"
     ]
    },
    {
     "name": "stderr",
     "output_type": "stream",
     "text": [
      "     37/200      3.65G     0.4067         14        640: 100%|██████████| 61/61 [00:02<00:00, 22.23it/s]\n"
     ]
    },
    {
     "name": "stdout",
     "output_type": "stream",
     "text": [
      "\n",
      "      Epoch    GPU_mem       loss  Instances       Size\n"
     ]
    },
    {
     "name": "stderr",
     "output_type": "stream",
     "text": [
      "     38/200      3.65G     0.3866         14        640: 100%|██████████| 61/61 [00:02<00:00, 22.32it/s]\n"
     ]
    },
    {
     "name": "stdout",
     "output_type": "stream",
     "text": [
      "\n",
      "      Epoch    GPU_mem       loss  Instances       Size\n"
     ]
    },
    {
     "name": "stderr",
     "output_type": "stream",
     "text": [
      "     39/200      3.65G      0.388         14        640: 100%|██████████| 61/61 [00:02<00:00, 23.01it/s]\n"
     ]
    },
    {
     "name": "stdout",
     "output_type": "stream",
     "text": [
      "\n",
      "      Epoch    GPU_mem       loss  Instances       Size\n"
     ]
    },
    {
     "name": "stderr",
     "output_type": "stream",
     "text": [
      "     40/200      3.65G     0.3764         14        640: 100%|██████████| 61/61 [00:02<00:00, 21.72it/s]\n"
     ]
    },
    {
     "name": "stdout",
     "output_type": "stream",
     "text": [
      "\n",
      "      Epoch    GPU_mem       loss  Instances       Size\n"
     ]
    },
    {
     "name": "stderr",
     "output_type": "stream",
     "text": [
      "     41/200      3.65G     0.3901         14        640: 100%|██████████| 61/61 [00:02<00:00, 22.90it/s]\n"
     ]
    },
    {
     "name": "stdout",
     "output_type": "stream",
     "text": [
      "\n",
      "      Epoch    GPU_mem       loss  Instances       Size\n"
     ]
    },
    {
     "name": "stderr",
     "output_type": "stream",
     "text": [
      "     42/200      3.65G     0.4101         14        640: 100%|██████████| 61/61 [00:02<00:00, 21.92it/s]\n"
     ]
    },
    {
     "name": "stdout",
     "output_type": "stream",
     "text": [
      "\n",
      "      Epoch    GPU_mem       loss  Instances       Size\n"
     ]
    },
    {
     "name": "stderr",
     "output_type": "stream",
     "text": [
      "     43/200      3.65G     0.3938         14        640: 100%|██████████| 61/61 [00:02<00:00, 22.64it/s]\n"
     ]
    },
    {
     "name": "stdout",
     "output_type": "stream",
     "text": [
      "\n",
      "      Epoch    GPU_mem       loss  Instances       Size\n"
     ]
    },
    {
     "name": "stderr",
     "output_type": "stream",
     "text": [
      "     44/200      3.65G     0.4306         14        640: 100%|██████████| 61/61 [00:03<00:00, 20.21it/s]"
     ]
    },
    {
     "name": "stdout",
     "output_type": "stream",
     "text": [
      "\n",
      "      Epoch    GPU_mem       loss  Instances       Size\n"
     ]
    },
    {
     "name": "stderr",
     "output_type": "stream",
     "text": [
      "\n",
      "     45/200      3.65G     0.4217         14        640: 100%|██████████| 61/61 [00:02<00:00, 20.67it/s]\n"
     ]
    },
    {
     "name": "stdout",
     "output_type": "stream",
     "text": [
      "\n",
      "      Epoch    GPU_mem       loss  Instances       Size\n"
     ]
    },
    {
     "name": "stderr",
     "output_type": "stream",
     "text": [
      "     46/200      3.65G     0.4081         14        640: 100%|██████████| 61/61 [00:02<00:00, 21.57it/s]\n"
     ]
    },
    {
     "name": "stdout",
     "output_type": "stream",
     "text": [
      "\n",
      "      Epoch    GPU_mem       loss  Instances       Size\n"
     ]
    },
    {
     "name": "stderr",
     "output_type": "stream",
     "text": [
      "     47/200      3.65G     0.3729         14        640: 100%|██████████| 61/61 [00:02<00:00, 21.16it/s]\n"
     ]
    },
    {
     "name": "stdout",
     "output_type": "stream",
     "text": [
      "\n",
      "      Epoch    GPU_mem       loss  Instances       Size\n"
     ]
    },
    {
     "name": "stderr",
     "output_type": "stream",
     "text": [
      "     48/200      3.65G     0.3459         14        640: 100%|██████████| 61/61 [00:02<00:00, 20.42it/s]\n"
     ]
    },
    {
     "name": "stdout",
     "output_type": "stream",
     "text": [
      "\n",
      "      Epoch    GPU_mem       loss  Instances       Size\n"
     ]
    },
    {
     "name": "stderr",
     "output_type": "stream",
     "text": [
      "     49/200      3.65G     0.3829         14        640: 100%|██████████| 61/61 [00:03<00:00, 20.08it/s]\n"
     ]
    },
    {
     "name": "stdout",
     "output_type": "stream",
     "text": [
      "\n",
      "      Epoch    GPU_mem       loss  Instances       Size\n"
     ]
    },
    {
     "name": "stderr",
     "output_type": "stream",
     "text": [
      "     50/200      3.65G       0.38         14        640: 100%|██████████| 61/61 [00:02<00:00, 21.29it/s]\n"
     ]
    },
    {
     "name": "stdout",
     "output_type": "stream",
     "text": [
      "\n",
      "      Epoch    GPU_mem       loss  Instances       Size\n"
     ]
    },
    {
     "name": "stderr",
     "output_type": "stream",
     "text": [
      "     51/200      3.65G     0.3747         14        640: 100%|██████████| 61/61 [00:02<00:00, 22.44it/s]\n"
     ]
    },
    {
     "name": "stdout",
     "output_type": "stream",
     "text": [
      "\n",
      "      Epoch    GPU_mem       loss  Instances       Size\n"
     ]
    },
    {
     "name": "stderr",
     "output_type": "stream",
     "text": [
      "     52/200      3.65G     0.3841         14        640: 100%|██████████| 61/61 [00:02<00:00, 22.49it/s]\n"
     ]
    },
    {
     "name": "stdout",
     "output_type": "stream",
     "text": [
      "\n",
      "      Epoch    GPU_mem       loss  Instances       Size\n"
     ]
    },
    {
     "name": "stderr",
     "output_type": "stream",
     "text": [
      "     53/200      3.65G     0.3875         14        640: 100%|██████████| 61/61 [00:02<00:00, 22.80it/s]\n"
     ]
    },
    {
     "name": "stdout",
     "output_type": "stream",
     "text": [
      "\n",
      "      Epoch    GPU_mem       loss  Instances       Size\n"
     ]
    },
    {
     "name": "stderr",
     "output_type": "stream",
     "text": [
      "     54/200      3.65G     0.3765         14        640: 100%|██████████| 61/61 [00:02<00:00, 21.56it/s]\n"
     ]
    },
    {
     "name": "stdout",
     "output_type": "stream",
     "text": [
      "\n",
      "      Epoch    GPU_mem       loss  Instances       Size\n"
     ]
    },
    {
     "name": "stderr",
     "output_type": "stream",
     "text": [
      "     55/200      3.65G     0.3601         14        640: 100%|██████████| 61/61 [00:02<00:00, 22.08it/s]\n"
     ]
    },
    {
     "name": "stdout",
     "output_type": "stream",
     "text": [
      "\n",
      "      Epoch    GPU_mem       loss  Instances       Size\n"
     ]
    },
    {
     "name": "stderr",
     "output_type": "stream",
     "text": [
      "     56/200      3.65G     0.4517         14        640: 100%|██████████| 61/61 [00:02<00:00, 21.84it/s]\n"
     ]
    },
    {
     "name": "stdout",
     "output_type": "stream",
     "text": [
      "\n",
      "      Epoch    GPU_mem       loss  Instances       Size\n"
     ]
    },
    {
     "name": "stderr",
     "output_type": "stream",
     "text": [
      "     57/200      3.65G     0.3955         14        640: 100%|██████████| 61/61 [00:02<00:00, 21.30it/s]\n"
     ]
    },
    {
     "name": "stdout",
     "output_type": "stream",
     "text": [
      "\n",
      "      Epoch    GPU_mem       loss  Instances       Size\n"
     ]
    },
    {
     "name": "stderr",
     "output_type": "stream",
     "text": [
      "     58/200      3.65G     0.3798         14        640: 100%|██████████| 61/61 [00:03<00:00, 19.68it/s]\n"
     ]
    },
    {
     "name": "stdout",
     "output_type": "stream",
     "text": [
      "\n",
      "      Epoch    GPU_mem       loss  Instances       Size\n"
     ]
    },
    {
     "name": "stderr",
     "output_type": "stream",
     "text": [
      "     59/200      3.65G     0.3923         14        640: 100%|██████████| 61/61 [00:02<00:00, 21.84it/s]\n"
     ]
    },
    {
     "name": "stdout",
     "output_type": "stream",
     "text": [
      "\n",
      "      Epoch    GPU_mem       loss  Instances       Size\n"
     ]
    },
    {
     "name": "stderr",
     "output_type": "stream",
     "text": [
      "     60/200      3.65G     0.3667         14        640: 100%|██████████| 61/61 [00:02<00:00, 21.34it/s]\n"
     ]
    },
    {
     "name": "stdout",
     "output_type": "stream",
     "text": [
      "\n",
      "      Epoch    GPU_mem       loss  Instances       Size\n"
     ]
    },
    {
     "name": "stderr",
     "output_type": "stream",
     "text": [
      "     61/200      3.65G     0.3673         14        640: 100%|██████████| 61/61 [00:02<00:00, 20.90it/s]\n"
     ]
    },
    {
     "name": "stdout",
     "output_type": "stream",
     "text": [
      "\n",
      "      Epoch    GPU_mem       loss  Instances       Size\n"
     ]
    },
    {
     "name": "stderr",
     "output_type": "stream",
     "text": [
      "     62/200      3.65G      0.363         14        640: 100%|██████████| 61/61 [00:02<00:00, 21.41it/s]\n"
     ]
    },
    {
     "name": "stdout",
     "output_type": "stream",
     "text": [
      "\n",
      "      Epoch    GPU_mem       loss  Instances       Size\n"
     ]
    },
    {
     "name": "stderr",
     "output_type": "stream",
     "text": [
      "     63/200      3.65G     0.3799         14        640: 100%|██████████| 61/61 [00:02<00:00, 21.59it/s]\n"
     ]
    },
    {
     "name": "stdout",
     "output_type": "stream",
     "text": [
      "\n",
      "      Epoch    GPU_mem       loss  Instances       Size\n"
     ]
    },
    {
     "name": "stderr",
     "output_type": "stream",
     "text": [
      "     64/200      3.65G     0.3819         14        640: 100%|██████████| 61/61 [00:02<00:00, 22.00it/s]\n"
     ]
    },
    {
     "name": "stdout",
     "output_type": "stream",
     "text": [
      "\n",
      "      Epoch    GPU_mem       loss  Instances       Size\n"
     ]
    },
    {
     "name": "stderr",
     "output_type": "stream",
     "text": [
      "     65/200      3.65G     0.3742         14        640: 100%|██████████| 61/61 [00:02<00:00, 21.92it/s]\n"
     ]
    },
    {
     "name": "stdout",
     "output_type": "stream",
     "text": [
      "\n",
      "      Epoch    GPU_mem       loss  Instances       Size\n"
     ]
    },
    {
     "name": "stderr",
     "output_type": "stream",
     "text": [
      "     66/200      3.65G      0.353         14        640: 100%|██████████| 61/61 [00:02<00:00, 21.44it/s]\n"
     ]
    },
    {
     "name": "stdout",
     "output_type": "stream",
     "text": [
      "\n",
      "      Epoch    GPU_mem       loss  Instances       Size\n"
     ]
    },
    {
     "name": "stderr",
     "output_type": "stream",
     "text": [
      "     67/200      3.65G     0.3549         14        640: 100%|██████████| 61/61 [00:02<00:00, 21.24it/s]\n"
     ]
    },
    {
     "name": "stdout",
     "output_type": "stream",
     "text": [
      "\n",
      "      Epoch    GPU_mem       loss  Instances       Size\n"
     ]
    },
    {
     "name": "stderr",
     "output_type": "stream",
     "text": [
      "     68/200      3.65G     0.3684         14        640: 100%|██████████| 61/61 [00:03<00:00, 20.01it/s]\n"
     ]
    },
    {
     "name": "stdout",
     "output_type": "stream",
     "text": [
      "\n",
      "      Epoch    GPU_mem       loss  Instances       Size\n"
     ]
    },
    {
     "name": "stderr",
     "output_type": "stream",
     "text": [
      "     69/200      3.65G     0.3506         14        640: 100%|██████████| 61/61 [00:02<00:00, 21.48it/s]"
     ]
    },
    {
     "name": "stdout",
     "output_type": "stream",
     "text": [
      "\n",
      "      Epoch    GPU_mem       loss  Instances       Size\n"
     ]
    },
    {
     "name": "stderr",
     "output_type": "stream",
     "text": [
      "\n",
      "     70/200      3.65G     0.3188         14        640: 100%|██████████| 61/61 [00:02<00:00, 21.72it/s]\n"
     ]
    },
    {
     "name": "stdout",
     "output_type": "stream",
     "text": [
      "\n",
      "      Epoch    GPU_mem       loss  Instances       Size\n"
     ]
    },
    {
     "name": "stderr",
     "output_type": "stream",
     "text": [
      "     71/200      3.65G     0.3522         14        640: 100%|██████████| 61/61 [00:02<00:00, 20.94it/s]\n"
     ]
    },
    {
     "name": "stdout",
     "output_type": "stream",
     "text": [
      "\n",
      "      Epoch    GPU_mem       loss  Instances       Size\n"
     ]
    },
    {
     "name": "stderr",
     "output_type": "stream",
     "text": [
      "     72/200      3.65G     0.3838         14        640: 100%|██████████| 61/61 [00:02<00:00, 21.65it/s]\n"
     ]
    },
    {
     "name": "stdout",
     "output_type": "stream",
     "text": [
      "\n",
      "      Epoch    GPU_mem       loss  Instances       Size\n"
     ]
    },
    {
     "name": "stderr",
     "output_type": "stream",
     "text": [
      "     73/200      3.65G     0.3705         14        640: 100%|██████████| 61/61 [00:02<00:00, 21.24it/s]\n"
     ]
    },
    {
     "name": "stdout",
     "output_type": "stream",
     "text": [
      "\n",
      "      Epoch    GPU_mem       loss  Instances       Size\n"
     ]
    },
    {
     "name": "stderr",
     "output_type": "stream",
     "text": [
      "     74/200      3.65G     0.3541         14        640: 100%|██████████| 61/61 [00:02<00:00, 21.62it/s]\n"
     ]
    },
    {
     "name": "stdout",
     "output_type": "stream",
     "text": [
      "\n",
      "      Epoch    GPU_mem       loss  Instances       Size\n"
     ]
    },
    {
     "name": "stderr",
     "output_type": "stream",
     "text": [
      "     75/200      3.65G     0.3357         14        640: 100%|██████████| 61/61 [00:02<00:00, 21.40it/s]\n"
     ]
    },
    {
     "name": "stdout",
     "output_type": "stream",
     "text": [
      "\n",
      "      Epoch    GPU_mem       loss  Instances       Size\n"
     ]
    },
    {
     "name": "stderr",
     "output_type": "stream",
     "text": [
      "     76/200      3.65G     0.3353         14        640: 100%|██████████| 61/61 [00:02<00:00, 20.59it/s]\n"
     ]
    },
    {
     "name": "stdout",
     "output_type": "stream",
     "text": [
      "\n",
      "      Epoch    GPU_mem       loss  Instances       Size\n"
     ]
    },
    {
     "name": "stderr",
     "output_type": "stream",
     "text": [
      "     77/200      3.65G     0.3469         14        640: 100%|██████████| 61/61 [00:02<00:00, 21.58it/s]\n"
     ]
    },
    {
     "name": "stdout",
     "output_type": "stream",
     "text": [
      "\n",
      "      Epoch    GPU_mem       loss  Instances       Size\n"
     ]
    },
    {
     "name": "stderr",
     "output_type": "stream",
     "text": [
      "     78/200      3.65G     0.3396         14        640: 100%|██████████| 61/61 [00:02<00:00, 21.28it/s]\n"
     ]
    },
    {
     "name": "stdout",
     "output_type": "stream",
     "text": [
      "\n",
      "      Epoch    GPU_mem       loss  Instances       Size\n"
     ]
    },
    {
     "name": "stderr",
     "output_type": "stream",
     "text": [
      "     79/200      3.65G     0.3465         14        640: 100%|██████████| 61/61 [00:02<00:00, 21.52it/s]\n"
     ]
    },
    {
     "name": "stdout",
     "output_type": "stream",
     "text": [
      "\n",
      "      Epoch    GPU_mem       loss  Instances       Size\n"
     ]
    },
    {
     "name": "stderr",
     "output_type": "stream",
     "text": [
      "     80/200      3.65G      0.358         14        640: 100%|██████████| 61/61 [00:02<00:00, 23.09it/s]\n"
     ]
    },
    {
     "name": "stdout",
     "output_type": "stream",
     "text": [
      "\n",
      "      Epoch    GPU_mem       loss  Instances       Size\n"
     ]
    },
    {
     "name": "stderr",
     "output_type": "stream",
     "text": [
      "     81/200      3.65G     0.3444         14        640: 100%|██████████| 61/61 [00:03<00:00, 19.92it/s]\n"
     ]
    },
    {
     "name": "stdout",
     "output_type": "stream",
     "text": [
      "\n",
      "      Epoch    GPU_mem       loss  Instances       Size\n"
     ]
    },
    {
     "name": "stderr",
     "output_type": "stream",
     "text": [
      "     82/200      3.65G       0.33         14        640: 100%|██████████| 61/61 [00:02<00:00, 20.96it/s]\n"
     ]
    },
    {
     "name": "stdout",
     "output_type": "stream",
     "text": [
      "\n",
      "      Epoch    GPU_mem       loss  Instances       Size\n"
     ]
    },
    {
     "name": "stderr",
     "output_type": "stream",
     "text": [
      "     83/200      3.65G      0.312         14        640: 100%|██████████| 61/61 [00:02<00:00, 22.47it/s]\n"
     ]
    },
    {
     "name": "stdout",
     "output_type": "stream",
     "text": [
      "\n",
      "      Epoch    GPU_mem       loss  Instances       Size\n"
     ]
    },
    {
     "name": "stderr",
     "output_type": "stream",
     "text": [
      "     84/200      3.65G     0.3632         14        640: 100%|██████████| 61/61 [00:02<00:00, 20.93it/s]\n"
     ]
    },
    {
     "name": "stdout",
     "output_type": "stream",
     "text": [
      "\n",
      "      Epoch    GPU_mem       loss  Instances       Size\n"
     ]
    },
    {
     "name": "stderr",
     "output_type": "stream",
     "text": [
      "     85/200      3.65G     0.3432         14        640: 100%|██████████| 61/61 [00:02<00:00, 21.74it/s]\n"
     ]
    },
    {
     "name": "stdout",
     "output_type": "stream",
     "text": [
      "\n",
      "      Epoch    GPU_mem       loss  Instances       Size\n"
     ]
    },
    {
     "name": "stderr",
     "output_type": "stream",
     "text": [
      "     86/200      3.65G     0.3209         14        640: 100%|██████████| 61/61 [00:03<00:00, 20.13it/s]\n"
     ]
    },
    {
     "name": "stdout",
     "output_type": "stream",
     "text": [
      "\n",
      "      Epoch    GPU_mem       loss  Instances       Size\n"
     ]
    },
    {
     "name": "stderr",
     "output_type": "stream",
     "text": [
      "     87/200      3.65G     0.3246         14        640: 100%|██████████| 61/61 [00:02<00:00, 21.97it/s]\n"
     ]
    },
    {
     "name": "stdout",
     "output_type": "stream",
     "text": [
      "\n",
      "      Epoch    GPU_mem       loss  Instances       Size\n"
     ]
    },
    {
     "name": "stderr",
     "output_type": "stream",
     "text": [
      "     88/200      3.65G     0.2889         14        640: 100%|██████████| 61/61 [00:03<00:00, 20.21it/s]"
     ]
    },
    {
     "name": "stdout",
     "output_type": "stream",
     "text": [
      "\n",
      "      Epoch    GPU_mem       loss  Instances       Size\n"
     ]
    },
    {
     "name": "stderr",
     "output_type": "stream",
     "text": [
      "\n",
      "     89/200      3.65G     0.2926         14        640: 100%|██████████| 61/61 [00:02<00:00, 23.13it/s]\n"
     ]
    },
    {
     "name": "stdout",
     "output_type": "stream",
     "text": [
      "\n",
      "      Epoch    GPU_mem       loss  Instances       Size\n"
     ]
    },
    {
     "name": "stderr",
     "output_type": "stream",
     "text": [
      "     90/200      3.65G     0.2819         14        640: 100%|██████████| 61/61 [00:02<00:00, 23.00it/s]\n"
     ]
    },
    {
     "name": "stdout",
     "output_type": "stream",
     "text": [
      "\n",
      "      Epoch    GPU_mem       loss  Instances       Size\n"
     ]
    },
    {
     "name": "stderr",
     "output_type": "stream",
     "text": [
      "     91/200      3.65G     0.3421         14        640: 100%|██████████| 61/61 [00:02<00:00, 21.57it/s]\n"
     ]
    },
    {
     "name": "stdout",
     "output_type": "stream",
     "text": [
      "\n",
      "      Epoch    GPU_mem       loss  Instances       Size\n"
     ]
    },
    {
     "name": "stderr",
     "output_type": "stream",
     "text": [
      "     92/200      3.65G     0.3466         14        640: 100%|██████████| 61/61 [00:03<00:00, 20.09it/s]\n"
     ]
    },
    {
     "name": "stdout",
     "output_type": "stream",
     "text": [
      "\n",
      "      Epoch    GPU_mem       loss  Instances       Size\n"
     ]
    },
    {
     "name": "stderr",
     "output_type": "stream",
     "text": [
      "     93/200      3.65G     0.3214         14        640: 100%|██████████| 61/61 [00:02<00:00, 22.42it/s]\n"
     ]
    },
    {
     "name": "stdout",
     "output_type": "stream",
     "text": [
      "\n",
      "      Epoch    GPU_mem       loss  Instances       Size\n"
     ]
    },
    {
     "name": "stderr",
     "output_type": "stream",
     "text": [
      "     94/200      3.65G     0.3108         14        640: 100%|██████████| 61/61 [00:02<00:00, 21.45it/s]\n"
     ]
    },
    {
     "name": "stdout",
     "output_type": "stream",
     "text": [
      "\n",
      "      Epoch    GPU_mem       loss  Instances       Size\n"
     ]
    },
    {
     "name": "stderr",
     "output_type": "stream",
     "text": [
      "     95/200      3.65G     0.3191         14        640: 100%|██████████| 61/61 [00:02<00:00, 22.87it/s]\n"
     ]
    },
    {
     "name": "stdout",
     "output_type": "stream",
     "text": [
      "\n",
      "      Epoch    GPU_mem       loss  Instances       Size\n"
     ]
    },
    {
     "name": "stderr",
     "output_type": "stream",
     "text": [
      "     96/200      3.65G     0.2868         14        640: 100%|██████████| 61/61 [00:02<00:00, 24.21it/s]\n"
     ]
    },
    {
     "name": "stdout",
     "output_type": "stream",
     "text": [
      "\n",
      "      Epoch    GPU_mem       loss  Instances       Size\n"
     ]
    },
    {
     "name": "stderr",
     "output_type": "stream",
     "text": [
      "     97/200      3.65G     0.3382         14        640: 100%|██████████| 61/61 [00:02<00:00, 23.48it/s]\n"
     ]
    },
    {
     "name": "stdout",
     "output_type": "stream",
     "text": [
      "\n",
      "      Epoch    GPU_mem       loss  Instances       Size\n"
     ]
    },
    {
     "name": "stderr",
     "output_type": "stream",
     "text": [
      "     98/200      3.65G     0.2776         14        640: 100%|██████████| 61/61 [00:02<00:00, 22.54it/s]\n"
     ]
    },
    {
     "name": "stdout",
     "output_type": "stream",
     "text": [
      "\n",
      "      Epoch    GPU_mem       loss  Instances       Size\n"
     ]
    },
    {
     "name": "stderr",
     "output_type": "stream",
     "text": [
      "     99/200      3.65G     0.3347         14        640: 100%|██████████| 61/61 [00:02<00:00, 22.04it/s]\n"
     ]
    },
    {
     "name": "stdout",
     "output_type": "stream",
     "text": [
      "\n",
      "      Epoch    GPU_mem       loss  Instances       Size\n"
     ]
    },
    {
     "name": "stderr",
     "output_type": "stream",
     "text": [
      "    100/200      3.65G     0.3037         14        640: 100%|██████████| 61/61 [00:02<00:00, 21.23it/s]\n"
     ]
    },
    {
     "name": "stdout",
     "output_type": "stream",
     "text": [
      "\n",
      "      Epoch    GPU_mem       loss  Instances       Size\n"
     ]
    },
    {
     "name": "stderr",
     "output_type": "stream",
     "text": [
      "    101/200      3.65G     0.3039         14        640: 100%|██████████| 61/61 [00:02<00:00, 21.34it/s]\n"
     ]
    },
    {
     "name": "stdout",
     "output_type": "stream",
     "text": [
      "\n",
      "      Epoch    GPU_mem       loss  Instances       Size\n"
     ]
    },
    {
     "name": "stderr",
     "output_type": "stream",
     "text": [
      "    102/200      3.65G      0.324         14        640: 100%|██████████| 61/61 [00:02<00:00, 21.77it/s]\n"
     ]
    },
    {
     "name": "stdout",
     "output_type": "stream",
     "text": [
      "\n",
      "      Epoch    GPU_mem       loss  Instances       Size\n"
     ]
    },
    {
     "name": "stderr",
     "output_type": "stream",
     "text": [
      "    103/200      3.65G     0.2825         14        640: 100%|██████████| 61/61 [00:02<00:00, 23.53it/s]\n"
     ]
    },
    {
     "name": "stdout",
     "output_type": "stream",
     "text": [
      "\n",
      "      Epoch    GPU_mem       loss  Instances       Size\n"
     ]
    },
    {
     "name": "stderr",
     "output_type": "stream",
     "text": [
      "    104/200      3.65G     0.3171         14        640: 100%|██████████| 61/61 [00:02<00:00, 22.05it/s]\n"
     ]
    },
    {
     "name": "stdout",
     "output_type": "stream",
     "text": [
      "\n",
      "      Epoch    GPU_mem       loss  Instances       Size\n"
     ]
    },
    {
     "name": "stderr",
     "output_type": "stream",
     "text": [
      "    105/200      3.65G     0.2935         14        640: 100%|██████████| 61/61 [00:02<00:00, 22.07it/s]\n"
     ]
    },
    {
     "name": "stdout",
     "output_type": "stream",
     "text": [
      "\n",
      "      Epoch    GPU_mem       loss  Instances       Size\n"
     ]
    },
    {
     "name": "stderr",
     "output_type": "stream",
     "text": [
      "    106/200      3.65G     0.3015         14        640: 100%|██████████| 61/61 [00:02<00:00, 20.86it/s]\n"
     ]
    },
    {
     "name": "stdout",
     "output_type": "stream",
     "text": [
      "\n",
      "      Epoch    GPU_mem       loss  Instances       Size\n"
     ]
    },
    {
     "name": "stderr",
     "output_type": "stream",
     "text": [
      "    107/200      3.65G     0.2816         14        640: 100%|██████████| 61/61 [00:02<00:00, 24.38it/s]\n"
     ]
    },
    {
     "name": "stdout",
     "output_type": "stream",
     "text": [
      "\n",
      "      Epoch    GPU_mem       loss  Instances       Size\n"
     ]
    },
    {
     "name": "stderr",
     "output_type": "stream",
     "text": [
      "    108/200      3.65G     0.3004         14        640: 100%|██████████| 61/61 [00:02<00:00, 22.05it/s]\n"
     ]
    },
    {
     "name": "stdout",
     "output_type": "stream",
     "text": [
      "\n",
      "      Epoch    GPU_mem       loss  Instances       Size\n"
     ]
    },
    {
     "name": "stderr",
     "output_type": "stream",
     "text": [
      "    109/200      3.65G     0.2627         14        640: 100%|██████████| 61/61 [00:02<00:00, 22.10it/s]\n"
     ]
    },
    {
     "name": "stdout",
     "output_type": "stream",
     "text": [
      "\n",
      "      Epoch    GPU_mem       loss  Instances       Size\n"
     ]
    },
    {
     "name": "stderr",
     "output_type": "stream",
     "text": [
      "    110/200      3.65G     0.2658         14        640: 100%|██████████| 61/61 [00:02<00:00, 22.71it/s]\n"
     ]
    },
    {
     "name": "stdout",
     "output_type": "stream",
     "text": [
      "\n",
      "      Epoch    GPU_mem       loss  Instances       Size\n"
     ]
    },
    {
     "name": "stderr",
     "output_type": "stream",
     "text": [
      "    111/200      3.65G     0.2642         14        640: 100%|██████████| 61/61 [00:02<00:00, 24.07it/s]\n"
     ]
    },
    {
     "name": "stdout",
     "output_type": "stream",
     "text": [
      "\n",
      "      Epoch    GPU_mem       loss  Instances       Size\n"
     ]
    },
    {
     "name": "stderr",
     "output_type": "stream",
     "text": [
      "    112/200      3.65G     0.2904         14        640: 100%|██████████| 61/61 [00:02<00:00, 22.90it/s]\n"
     ]
    },
    {
     "name": "stdout",
     "output_type": "stream",
     "text": [
      "\n",
      "      Epoch    GPU_mem       loss  Instances       Size\n"
     ]
    },
    {
     "name": "stderr",
     "output_type": "stream",
     "text": [
      "    113/200      3.65G     0.2522         14        640: 100%|██████████| 61/61 [00:02<00:00, 22.28it/s]\n"
     ]
    },
    {
     "name": "stdout",
     "output_type": "stream",
     "text": [
      "\n",
      "      Epoch    GPU_mem       loss  Instances       Size\n"
     ]
    },
    {
     "name": "stderr",
     "output_type": "stream",
     "text": [
      "    114/200      3.65G     0.3115         14        640: 100%|██████████| 61/61 [00:02<00:00, 23.47it/s]\n"
     ]
    },
    {
     "name": "stdout",
     "output_type": "stream",
     "text": [
      "\n",
      "      Epoch    GPU_mem       loss  Instances       Size\n"
     ]
    },
    {
     "name": "stderr",
     "output_type": "stream",
     "text": [
      "    115/200      3.65G     0.2924         14        640: 100%|██████████| 61/61 [00:02<00:00, 22.12it/s]\n"
     ]
    },
    {
     "name": "stdout",
     "output_type": "stream",
     "text": [
      "\n",
      "      Epoch    GPU_mem       loss  Instances       Size\n"
     ]
    },
    {
     "name": "stderr",
     "output_type": "stream",
     "text": [
      "    116/200      3.65G     0.2312         14        640: 100%|██████████| 61/61 [00:02<00:00, 23.80it/s]\n"
     ]
    },
    {
     "name": "stdout",
     "output_type": "stream",
     "text": [
      "\n",
      "      Epoch    GPU_mem       loss  Instances       Size\n"
     ]
    },
    {
     "name": "stderr",
     "output_type": "stream",
     "text": [
      "    117/200      3.65G      0.267         14        640: 100%|██████████| 61/61 [00:02<00:00, 23.25it/s]\n"
     ]
    },
    {
     "name": "stdout",
     "output_type": "stream",
     "text": [
      "\n",
      "      Epoch    GPU_mem       loss  Instances       Size\n"
     ]
    },
    {
     "name": "stderr",
     "output_type": "stream",
     "text": [
      "    118/200      3.65G     0.2786         14        640: 100%|██████████| 61/61 [00:02<00:00, 23.49it/s]\n"
     ]
    },
    {
     "name": "stdout",
     "output_type": "stream",
     "text": [
      "\n",
      "      Epoch    GPU_mem       loss  Instances       Size\n"
     ]
    },
    {
     "name": "stderr",
     "output_type": "stream",
     "text": [
      "    119/200      3.65G     0.2837         14        640: 100%|██████████| 61/61 [00:02<00:00, 22.91it/s]\n"
     ]
    },
    {
     "name": "stdout",
     "output_type": "stream",
     "text": [
      "\n",
      "      Epoch    GPU_mem       loss  Instances       Size\n"
     ]
    },
    {
     "name": "stderr",
     "output_type": "stream",
     "text": [
      "    120/200      3.65G     0.2909         14        640: 100%|██████████| 61/61 [00:02<00:00, 24.08it/s]\n"
     ]
    },
    {
     "name": "stdout",
     "output_type": "stream",
     "text": [
      "\n",
      "      Epoch    GPU_mem       loss  Instances       Size\n"
     ]
    },
    {
     "name": "stderr",
     "output_type": "stream",
     "text": [
      "    121/200      3.65G     0.2703         14        640: 100%|██████████| 61/61 [00:02<00:00, 22.72it/s]\n"
     ]
    },
    {
     "name": "stdout",
     "output_type": "stream",
     "text": [
      "\n",
      "      Epoch    GPU_mem       loss  Instances       Size\n"
     ]
    },
    {
     "name": "stderr",
     "output_type": "stream",
     "text": [
      "    122/200      3.65G     0.2693         14        640: 100%|██████████| 61/61 [00:02<00:00, 23.32it/s]\n"
     ]
    },
    {
     "name": "stdout",
     "output_type": "stream",
     "text": [
      "\n",
      "      Epoch    GPU_mem       loss  Instances       Size\n"
     ]
    },
    {
     "name": "stderr",
     "output_type": "stream",
     "text": [
      "    123/200      3.67G     0.2627         14        640: 100%|██████████| 61/61 [00:02<00:00, 23.24it/s]\n"
     ]
    },
    {
     "name": "stdout",
     "output_type": "stream",
     "text": [
      "\n",
      "      Epoch    GPU_mem       loss  Instances       Size\n"
     ]
    },
    {
     "name": "stderr",
     "output_type": "stream",
     "text": [
      "    124/200      3.67G     0.2745         14        640: 100%|██████████| 61/61 [00:02<00:00, 23.10it/s]\n"
     ]
    },
    {
     "name": "stdout",
     "output_type": "stream",
     "text": [
      "\n",
      "      Epoch    GPU_mem       loss  Instances       Size\n"
     ]
    },
    {
     "name": "stderr",
     "output_type": "stream",
     "text": [
      "    125/200      3.67G     0.2723         14        640: 100%|██████████| 61/61 [00:02<00:00, 24.04it/s]\n"
     ]
    },
    {
     "name": "stdout",
     "output_type": "stream",
     "text": [
      "\n",
      "      Epoch    GPU_mem       loss  Instances       Size\n"
     ]
    },
    {
     "name": "stderr",
     "output_type": "stream",
     "text": [
      "    126/200      3.67G     0.2602         14        640: 100%|██████████| 61/61 [00:02<00:00, 21.18it/s]\n"
     ]
    },
    {
     "name": "stdout",
     "output_type": "stream",
     "text": [
      "\n",
      "      Epoch    GPU_mem       loss  Instances       Size\n"
     ]
    },
    {
     "name": "stderr",
     "output_type": "stream",
     "text": [
      "    127/200      3.67G     0.3031         14        640: 100%|██████████| 61/61 [00:02<00:00, 21.91it/s]\n"
     ]
    },
    {
     "name": "stdout",
     "output_type": "stream",
     "text": [
      "\n",
      "      Epoch    GPU_mem       loss  Instances       Size\n"
     ]
    },
    {
     "name": "stderr",
     "output_type": "stream",
     "text": [
      "    128/200      3.67G     0.2409         14        640: 100%|██████████| 61/61 [00:02<00:00, 22.43it/s]\n"
     ]
    },
    {
     "name": "stdout",
     "output_type": "stream",
     "text": [
      "\n",
      "      Epoch    GPU_mem       loss  Instances       Size\n"
     ]
    },
    {
     "name": "stderr",
     "output_type": "stream",
     "text": [
      "    129/200      3.67G     0.2496         14        640: 100%|██████████| 61/61 [00:02<00:00, 21.28it/s]\n"
     ]
    },
    {
     "name": "stdout",
     "output_type": "stream",
     "text": [
      "\n",
      "      Epoch    GPU_mem       loss  Instances       Size\n"
     ]
    },
    {
     "name": "stderr",
     "output_type": "stream",
     "text": [
      "    130/200      3.67G     0.2654         14        640: 100%|██████████| 61/61 [00:02<00:00, 20.80it/s]\n"
     ]
    },
    {
     "name": "stdout",
     "output_type": "stream",
     "text": [
      "\n",
      "      Epoch    GPU_mem       loss  Instances       Size\n"
     ]
    },
    {
     "name": "stderr",
     "output_type": "stream",
     "text": [
      "    131/200      3.67G     0.2686         14        640: 100%|██████████| 61/61 [00:02<00:00, 22.79it/s]\n"
     ]
    },
    {
     "name": "stdout",
     "output_type": "stream",
     "text": [
      "\n",
      "      Epoch    GPU_mem       loss  Instances       Size\n"
     ]
    },
    {
     "name": "stderr",
     "output_type": "stream",
     "text": [
      "    132/200      3.67G     0.2746         14        640: 100%|██████████| 61/61 [00:02<00:00, 22.63it/s]\n"
     ]
    },
    {
     "name": "stdout",
     "output_type": "stream",
     "text": [
      "\n",
      "      Epoch    GPU_mem       loss  Instances       Size\n"
     ]
    },
    {
     "name": "stderr",
     "output_type": "stream",
     "text": [
      "    133/200      3.67G     0.2723         14        640: 100%|██████████| 61/61 [00:02<00:00, 21.68it/s]\n"
     ]
    },
    {
     "name": "stdout",
     "output_type": "stream",
     "text": [
      "\n",
      "      Epoch    GPU_mem       loss  Instances       Size\n"
     ]
    },
    {
     "name": "stderr",
     "output_type": "stream",
     "text": [
      "    134/200      3.67G     0.2391         14        640: 100%|██████████| 61/61 [00:02<00:00, 22.22it/s]\n"
     ]
    },
    {
     "name": "stdout",
     "output_type": "stream",
     "text": [
      "\n",
      "      Epoch    GPU_mem       loss  Instances       Size\n"
     ]
    },
    {
     "name": "stderr",
     "output_type": "stream",
     "text": [
      "    135/200      3.67G     0.2698         14        640: 100%|██████████| 61/61 [00:02<00:00, 21.83it/s]\n"
     ]
    },
    {
     "name": "stdout",
     "output_type": "stream",
     "text": [
      "\n",
      "      Epoch    GPU_mem       loss  Instances       Size\n"
     ]
    },
    {
     "name": "stderr",
     "output_type": "stream",
     "text": [
      "    136/200      3.67G     0.2202         14        640: 100%|██████████| 61/61 [00:02<00:00, 22.27it/s]\n"
     ]
    },
    {
     "name": "stdout",
     "output_type": "stream",
     "text": [
      "\n",
      "      Epoch    GPU_mem       loss  Instances       Size\n"
     ]
    },
    {
     "name": "stderr",
     "output_type": "stream",
     "text": [
      "    137/200      3.67G     0.2576         14        640: 100%|██████████| 61/61 [00:02<00:00, 21.10it/s]\n"
     ]
    },
    {
     "name": "stdout",
     "output_type": "stream",
     "text": [
      "\n",
      "      Epoch    GPU_mem       loss  Instances       Size\n"
     ]
    },
    {
     "name": "stderr",
     "output_type": "stream",
     "text": [
      "    138/200      3.67G     0.2499         14        640: 100%|██████████| 61/61 [00:02<00:00, 21.66it/s]\n"
     ]
    },
    {
     "name": "stdout",
     "output_type": "stream",
     "text": [
      "\n",
      "      Epoch    GPU_mem       loss  Instances       Size\n"
     ]
    },
    {
     "name": "stderr",
     "output_type": "stream",
     "text": [
      "    139/200      3.67G     0.2652         14        640: 100%|██████████| 61/61 [00:02<00:00, 21.78it/s]\n"
     ]
    },
    {
     "name": "stdout",
     "output_type": "stream",
     "text": [
      "\n",
      "      Epoch    GPU_mem       loss  Instances       Size\n"
     ]
    },
    {
     "name": "stderr",
     "output_type": "stream",
     "text": [
      "    140/200      3.67G     0.2301         14        640: 100%|██████████| 61/61 [00:02<00:00, 22.17it/s]\n"
     ]
    },
    {
     "name": "stdout",
     "output_type": "stream",
     "text": [
      "\n",
      "      Epoch    GPU_mem       loss  Instances       Size\n"
     ]
    },
    {
     "name": "stderr",
     "output_type": "stream",
     "text": [
      "    141/200      3.67G     0.2536         14        640: 100%|██████████| 61/61 [00:02<00:00, 21.41it/s]\n"
     ]
    },
    {
     "name": "stdout",
     "output_type": "stream",
     "text": [
      "\n",
      "      Epoch    GPU_mem       loss  Instances       Size\n"
     ]
    },
    {
     "name": "stderr",
     "output_type": "stream",
     "text": [
      "    142/200      3.67G     0.2269         14        640: 100%|██████████| 61/61 [00:02<00:00, 21.45it/s]\n"
     ]
    },
    {
     "name": "stdout",
     "output_type": "stream",
     "text": [
      "\n",
      "      Epoch    GPU_mem       loss  Instances       Size\n"
     ]
    },
    {
     "name": "stderr",
     "output_type": "stream",
     "text": [
      "    143/200      3.67G     0.2322         14        640: 100%|██████████| 61/61 [00:02<00:00, 21.32it/s]\n"
     ]
    },
    {
     "name": "stdout",
     "output_type": "stream",
     "text": [
      "\n",
      "      Epoch    GPU_mem       loss  Instances       Size\n"
     ]
    },
    {
     "name": "stderr",
     "output_type": "stream",
     "text": [
      "    144/200      3.67G     0.2311         14        640: 100%|██████████| 61/61 [00:02<00:00, 21.92it/s]\n"
     ]
    },
    {
     "name": "stdout",
     "output_type": "stream",
     "text": [
      "\n",
      "      Epoch    GPU_mem       loss  Instances       Size\n"
     ]
    },
    {
     "name": "stderr",
     "output_type": "stream",
     "text": [
      "    145/200      3.67G     0.2313         14        640: 100%|██████████| 61/61 [00:02<00:00, 21.26it/s]\n"
     ]
    },
    {
     "name": "stdout",
     "output_type": "stream",
     "text": [
      "\n",
      "      Epoch    GPU_mem       loss  Instances       Size\n"
     ]
    },
    {
     "name": "stderr",
     "output_type": "stream",
     "text": [
      "    146/200      3.67G     0.2364         14        640: 100%|██████████| 61/61 [00:02<00:00, 22.95it/s]\n"
     ]
    },
    {
     "name": "stdout",
     "output_type": "stream",
     "text": [
      "\n",
      "      Epoch    GPU_mem       loss  Instances       Size\n"
     ]
    },
    {
     "name": "stderr",
     "output_type": "stream",
     "text": [
      "    147/200      3.67G     0.2659         14        640: 100%|██████████| 61/61 [00:02<00:00, 22.40it/s]\n"
     ]
    },
    {
     "name": "stdout",
     "output_type": "stream",
     "text": [
      "\n",
      "      Epoch    GPU_mem       loss  Instances       Size\n"
     ]
    },
    {
     "name": "stderr",
     "output_type": "stream",
     "text": [
      "    148/200      3.67G     0.2505         14        640: 100%|██████████| 61/61 [00:02<00:00, 23.58it/s]\n"
     ]
    },
    {
     "name": "stdout",
     "output_type": "stream",
     "text": [
      "\n",
      "      Epoch    GPU_mem       loss  Instances       Size\n"
     ]
    },
    {
     "name": "stderr",
     "output_type": "stream",
     "text": [
      "    149/200      3.67G     0.2333         14        640: 100%|██████████| 61/61 [00:02<00:00, 22.09it/s]\n"
     ]
    },
    {
     "name": "stdout",
     "output_type": "stream",
     "text": [
      "\n",
      "      Epoch    GPU_mem       loss  Instances       Size\n"
     ]
    },
    {
     "name": "stderr",
     "output_type": "stream",
     "text": [
      "    150/200      3.67G      0.232         14        640: 100%|██████████| 61/61 [00:02<00:00, 22.73it/s]\n"
     ]
    },
    {
     "name": "stdout",
     "output_type": "stream",
     "text": [
      "\n",
      "      Epoch    GPU_mem       loss  Instances       Size\n"
     ]
    },
    {
     "name": "stderr",
     "output_type": "stream",
     "text": [
      "    151/200      3.67G     0.2488         14        640: 100%|██████████| 61/61 [00:02<00:00, 21.84it/s]\n"
     ]
    },
    {
     "name": "stdout",
     "output_type": "stream",
     "text": [
      "\n",
      "      Epoch    GPU_mem       loss  Instances       Size\n"
     ]
    },
    {
     "name": "stderr",
     "output_type": "stream",
     "text": [
      "    152/200      3.67G     0.2504         14        640: 100%|██████████| 61/61 [00:02<00:00, 22.49it/s]\n"
     ]
    },
    {
     "name": "stdout",
     "output_type": "stream",
     "text": [
      "\n",
      "      Epoch    GPU_mem       loss  Instances       Size\n"
     ]
    },
    {
     "name": "stderr",
     "output_type": "stream",
     "text": [
      "    153/200      3.67G     0.2307         14        640: 100%|██████████| 61/61 [00:02<00:00, 20.97it/s]\n"
     ]
    },
    {
     "name": "stdout",
     "output_type": "stream",
     "text": [
      "\n",
      "      Epoch    GPU_mem       loss  Instances       Size\n"
     ]
    },
    {
     "name": "stderr",
     "output_type": "stream",
     "text": [
      "    154/200      3.67G     0.2321         14        640: 100%|██████████| 61/61 [00:02<00:00, 21.19it/s]\n"
     ]
    },
    {
     "name": "stdout",
     "output_type": "stream",
     "text": [
      "\n",
      "      Epoch    GPU_mem       loss  Instances       Size\n"
     ]
    },
    {
     "name": "stderr",
     "output_type": "stream",
     "text": [
      "    155/200      3.67G     0.2065         14        640: 100%|██████████| 61/61 [00:02<00:00, 22.40it/s]\n"
     ]
    },
    {
     "name": "stdout",
     "output_type": "stream",
     "text": [
      "\n",
      "      Epoch    GPU_mem       loss  Instances       Size\n"
     ]
    },
    {
     "name": "stderr",
     "output_type": "stream",
     "text": [
      "    156/200      3.67G     0.2208         14        640: 100%|██████████| 61/61 [00:02<00:00, 22.60it/s]\n"
     ]
    },
    {
     "name": "stdout",
     "output_type": "stream",
     "text": [
      "\n",
      "      Epoch    GPU_mem       loss  Instances       Size\n"
     ]
    },
    {
     "name": "stderr",
     "output_type": "stream",
     "text": [
      "    157/200      3.67G     0.1853         14        640: 100%|██████████| 61/61 [00:02<00:00, 22.85it/s]\n"
     ]
    },
    {
     "name": "stdout",
     "output_type": "stream",
     "text": [
      "\n",
      "      Epoch    GPU_mem       loss  Instances       Size\n"
     ]
    },
    {
     "name": "stderr",
     "output_type": "stream",
     "text": [
      "    158/200      3.67G     0.2063         14        640: 100%|██████████| 61/61 [00:02<00:00, 21.85it/s]\n"
     ]
    },
    {
     "name": "stdout",
     "output_type": "stream",
     "text": [
      "\n",
      "      Epoch    GPU_mem       loss  Instances       Size\n"
     ]
    },
    {
     "name": "stderr",
     "output_type": "stream",
     "text": [
      "    159/200      3.67G     0.2155         14        640: 100%|██████████| 61/61 [00:02<00:00, 23.41it/s]\n"
     ]
    },
    {
     "name": "stdout",
     "output_type": "stream",
     "text": [
      "\n",
      "      Epoch    GPU_mem       loss  Instances       Size\n"
     ]
    },
    {
     "name": "stderr",
     "output_type": "stream",
     "text": [
      "    160/200      3.67G     0.2268         14        640: 100%|██████████| 61/61 [00:02<00:00, 23.27it/s]\n"
     ]
    },
    {
     "name": "stdout",
     "output_type": "stream",
     "text": [
      "\n",
      "      Epoch    GPU_mem       loss  Instances       Size\n"
     ]
    },
    {
     "name": "stderr",
     "output_type": "stream",
     "text": [
      "    161/200      3.67G     0.2038         14        640: 100%|██████████| 61/61 [00:02<00:00, 22.85it/s]\n"
     ]
    },
    {
     "name": "stdout",
     "output_type": "stream",
     "text": [
      "\n",
      "      Epoch    GPU_mem       loss  Instances       Size\n"
     ]
    },
    {
     "name": "stderr",
     "output_type": "stream",
     "text": [
      "    162/200      3.67G     0.2373         14        640: 100%|██████████| 61/61 [00:02<00:00, 23.27it/s]\n"
     ]
    },
    {
     "name": "stdout",
     "output_type": "stream",
     "text": [
      "\n",
      "      Epoch    GPU_mem       loss  Instances       Size\n"
     ]
    },
    {
     "name": "stderr",
     "output_type": "stream",
     "text": [
      "    163/200      3.67G     0.2053         14        640: 100%|██████████| 61/61 [00:02<00:00, 22.20it/s]\n"
     ]
    },
    {
     "name": "stdout",
     "output_type": "stream",
     "text": [
      "\n",
      "      Epoch    GPU_mem       loss  Instances       Size\n"
     ]
    },
    {
     "name": "stderr",
     "output_type": "stream",
     "text": [
      "    164/200      3.67G     0.2224         14        640: 100%|██████████| 61/61 [00:02<00:00, 23.11it/s]\n"
     ]
    },
    {
     "name": "stdout",
     "output_type": "stream",
     "text": [
      "\n",
      "      Epoch    GPU_mem       loss  Instances       Size\n"
     ]
    },
    {
     "name": "stderr",
     "output_type": "stream",
     "text": [
      "    165/200      3.67G     0.2126         14        640: 100%|██████████| 61/61 [00:02<00:00, 22.63it/s]\n"
     ]
    },
    {
     "name": "stdout",
     "output_type": "stream",
     "text": [
      "\n",
      "      Epoch    GPU_mem       loss  Instances       Size\n"
     ]
    },
    {
     "name": "stderr",
     "output_type": "stream",
     "text": [
      "    166/200      3.67G     0.2169         14        640: 100%|██████████| 61/61 [00:02<00:00, 22.58it/s]\n"
     ]
    },
    {
     "name": "stdout",
     "output_type": "stream",
     "text": [
      "\n",
      "      Epoch    GPU_mem       loss  Instances       Size\n"
     ]
    },
    {
     "name": "stderr",
     "output_type": "stream",
     "text": [
      "    167/200      3.67G     0.2121         14        640: 100%|██████████| 61/61 [00:02<00:00, 22.47it/s]\n"
     ]
    },
    {
     "name": "stdout",
     "output_type": "stream",
     "text": [
      "\n",
      "      Epoch    GPU_mem       loss  Instances       Size\n"
     ]
    },
    {
     "name": "stderr",
     "output_type": "stream",
     "text": [
      "    168/200      3.67G     0.2186         14        640: 100%|██████████| 61/61 [00:02<00:00, 23.56it/s]\n"
     ]
    },
    {
     "name": "stdout",
     "output_type": "stream",
     "text": [
      "\n",
      "      Epoch    GPU_mem       loss  Instances       Size\n"
     ]
    },
    {
     "name": "stderr",
     "output_type": "stream",
     "text": [
      "    169/200      3.67G     0.2075         14        640: 100%|██████████| 61/61 [00:02<00:00, 23.16it/s]\n"
     ]
    },
    {
     "name": "stdout",
     "output_type": "stream",
     "text": [
      "\n",
      "      Epoch    GPU_mem       loss  Instances       Size\n"
     ]
    },
    {
     "name": "stderr",
     "output_type": "stream",
     "text": [
      "    170/200      3.67G     0.1827         14        640: 100%|██████████| 61/61 [00:02<00:00, 22.87it/s]\n"
     ]
    },
    {
     "name": "stdout",
     "output_type": "stream",
     "text": [
      "\n",
      "      Epoch    GPU_mem       loss  Instances       Size\n"
     ]
    },
    {
     "name": "stderr",
     "output_type": "stream",
     "text": [
      "    171/200      3.67G     0.2058         14        640: 100%|██████████| 61/61 [00:02<00:00, 23.67it/s]\n"
     ]
    },
    {
     "name": "stdout",
     "output_type": "stream",
     "text": [
      "\n",
      "      Epoch    GPU_mem       loss  Instances       Size\n"
     ]
    },
    {
     "name": "stderr",
     "output_type": "stream",
     "text": [
      "    172/200      3.67G     0.1964         14        640: 100%|██████████| 61/61 [00:02<00:00, 21.99it/s]\n"
     ]
    },
    {
     "name": "stdout",
     "output_type": "stream",
     "text": [
      "\n",
      "      Epoch    GPU_mem       loss  Instances       Size\n"
     ]
    },
    {
     "name": "stderr",
     "output_type": "stream",
     "text": [
      "    173/200      3.67G     0.1925         14        640: 100%|██████████| 61/61 [00:02<00:00, 22.63it/s]"
     ]
    },
    {
     "name": "stdout",
     "output_type": "stream",
     "text": [
      "\n",
      "      Epoch    GPU_mem       loss  Instances       Size\n"
     ]
    },
    {
     "name": "stderr",
     "output_type": "stream",
     "text": [
      "\n",
      "    174/200      3.67G     0.1969         14        640: 100%|██████████| 61/61 [00:02<00:00, 23.98it/s]\n"
     ]
    },
    {
     "name": "stdout",
     "output_type": "stream",
     "text": [
      "\n",
      "      Epoch    GPU_mem       loss  Instances       Size\n"
     ]
    },
    {
     "name": "stderr",
     "output_type": "stream",
     "text": [
      "    175/200      3.67G     0.2057         14        640: 100%|██████████| 61/61 [00:02<00:00, 22.98it/s]\n"
     ]
    },
    {
     "name": "stdout",
     "output_type": "stream",
     "text": [
      "\n",
      "      Epoch    GPU_mem       loss  Instances       Size\n"
     ]
    },
    {
     "name": "stderr",
     "output_type": "stream",
     "text": [
      "    176/200      3.67G     0.1847         14        640: 100%|██████████| 61/61 [00:02<00:00, 22.61it/s]\n"
     ]
    },
    {
     "name": "stdout",
     "output_type": "stream",
     "text": [
      "\n",
      "      Epoch    GPU_mem       loss  Instances       Size\n"
     ]
    },
    {
     "name": "stderr",
     "output_type": "stream",
     "text": [
      "    177/200      3.67G     0.1713         14        640: 100%|██████████| 61/61 [00:02<00:00, 22.40it/s]"
     ]
    },
    {
     "name": "stdout",
     "output_type": "stream",
     "text": [
      "\n",
      "      Epoch    GPU_mem       loss  Instances       Size\n"
     ]
    },
    {
     "name": "stderr",
     "output_type": "stream",
     "text": [
      "\n",
      "    178/200      3.67G     0.1703         14        640: 100%|██████████| 61/61 [00:02<00:00, 24.04it/s]\n"
     ]
    },
    {
     "name": "stdout",
     "output_type": "stream",
     "text": [
      "\n",
      "      Epoch    GPU_mem       loss  Instances       Size\n"
     ]
    },
    {
     "name": "stderr",
     "output_type": "stream",
     "text": [
      "    179/200      3.67G     0.1931         14        640: 100%|██████████| 61/61 [00:02<00:00, 22.98it/s]\n"
     ]
    },
    {
     "name": "stdout",
     "output_type": "stream",
     "text": [
      "\n",
      "      Epoch    GPU_mem       loss  Instances       Size\n"
     ]
    },
    {
     "name": "stderr",
     "output_type": "stream",
     "text": [
      "    180/200      3.67G      0.199         14        640: 100%|██████████| 61/61 [00:02<00:00, 21.70it/s]"
     ]
    },
    {
     "name": "stdout",
     "output_type": "stream",
     "text": [
      "\n",
      "      Epoch    GPU_mem       loss  Instances       Size\n"
     ]
    },
    {
     "name": "stderr",
     "output_type": "stream",
     "text": [
      "\n",
      "    181/200      3.67G      0.215         14        640: 100%|██████████| 61/61 [00:02<00:00, 23.40it/s]\n"
     ]
    },
    {
     "name": "stdout",
     "output_type": "stream",
     "text": [
      "\n",
      "      Epoch    GPU_mem       loss  Instances       Size\n"
     ]
    },
    {
     "name": "stderr",
     "output_type": "stream",
     "text": [
      "    182/200      3.67G     0.1934         14        640: 100%|██████████| 61/61 [00:02<00:00, 20.51it/s]\n"
     ]
    },
    {
     "name": "stdout",
     "output_type": "stream",
     "text": [
      "\n",
      "      Epoch    GPU_mem       loss  Instances       Size\n"
     ]
    },
    {
     "name": "stderr",
     "output_type": "stream",
     "text": [
      "    183/200      3.67G     0.1682         14        640: 100%|██████████| 61/61 [00:02<00:00, 24.00it/s]\n"
     ]
    },
    {
     "name": "stdout",
     "output_type": "stream",
     "text": [
      "\n",
      "      Epoch    GPU_mem       loss  Instances       Size\n"
     ]
    },
    {
     "name": "stderr",
     "output_type": "stream",
     "text": [
      "    184/200      3.67G     0.1883         14        640: 100%|██████████| 61/61 [00:02<00:00, 25.07it/s]\n"
     ]
    },
    {
     "name": "stdout",
     "output_type": "stream",
     "text": [
      "\n",
      "      Epoch    GPU_mem       loss  Instances       Size\n"
     ]
    },
    {
     "name": "stderr",
     "output_type": "stream",
     "text": [
      "    185/200      3.67G     0.2131         14        640: 100%|██████████| 61/61 [00:02<00:00, 24.10it/s]\n"
     ]
    },
    {
     "name": "stdout",
     "output_type": "stream",
     "text": [
      "\n",
      "      Epoch    GPU_mem       loss  Instances       Size\n"
     ]
    },
    {
     "name": "stderr",
     "output_type": "stream",
     "text": [
      "    186/200      3.67G     0.1761         14        640: 100%|██████████| 61/61 [00:02<00:00, 24.45it/s]\n"
     ]
    },
    {
     "name": "stdout",
     "output_type": "stream",
     "text": [
      "\n",
      "      Epoch    GPU_mem       loss  Instances       Size\n"
     ]
    },
    {
     "name": "stderr",
     "output_type": "stream",
     "text": [
      "    187/200      3.67G     0.1807         14        640: 100%|██████████| 61/61 [00:02<00:00, 24.26it/s]\n"
     ]
    },
    {
     "name": "stdout",
     "output_type": "stream",
     "text": [
      "\n",
      "      Epoch    GPU_mem       loss  Instances       Size\n"
     ]
    },
    {
     "name": "stderr",
     "output_type": "stream",
     "text": [
      "    188/200      3.67G      0.148         14        640: 100%|██████████| 61/61 [00:02<00:00, 22.88it/s]"
     ]
    },
    {
     "name": "stdout",
     "output_type": "stream",
     "text": [
      "\n",
      "      Epoch    GPU_mem       loss  Instances       Size\n"
     ]
    },
    {
     "name": "stderr",
     "output_type": "stream",
     "text": [
      "\n",
      "    189/200      3.67G     0.1836         14        640: 100%|██████████| 61/61 [00:02<00:00, 24.85it/s]\n"
     ]
    },
    {
     "name": "stdout",
     "output_type": "stream",
     "text": [
      "\n",
      "      Epoch    GPU_mem       loss  Instances       Size\n"
     ]
    },
    {
     "name": "stderr",
     "output_type": "stream",
     "text": [
      "    190/200      3.67G     0.1808         14        640: 100%|██████████| 61/61 [00:02<00:00, 24.12it/s]\n"
     ]
    },
    {
     "name": "stdout",
     "output_type": "stream",
     "text": [
      "\n",
      "      Epoch    GPU_mem       loss  Instances       Size\n"
     ]
    },
    {
     "name": "stderr",
     "output_type": "stream",
     "text": [
      "    191/200       3.9G     0.1796         14        640: 100%|██████████| 61/61 [00:02<00:00, 20.46it/s]\n"
     ]
    },
    {
     "name": "stdout",
     "output_type": "stream",
     "text": [
      "\n",
      "      Epoch    GPU_mem       loss  Instances       Size\n"
     ]
    },
    {
     "name": "stderr",
     "output_type": "stream",
     "text": [
      "    192/200       3.9G     0.2258         14        640: 100%|██████████| 61/61 [00:02<00:00, 24.10it/s]\n"
     ]
    },
    {
     "name": "stdout",
     "output_type": "stream",
     "text": [
      "\n",
      "      Epoch    GPU_mem       loss  Instances       Size\n"
     ]
    },
    {
     "name": "stderr",
     "output_type": "stream",
     "text": [
      "    193/200       3.9G     0.1856         14        640: 100%|██████████| 61/61 [00:02<00:00, 24.89it/s]\n"
     ]
    },
    {
     "name": "stdout",
     "output_type": "stream",
     "text": [
      "\n",
      "      Epoch    GPU_mem       loss  Instances       Size\n"
     ]
    },
    {
     "name": "stderr",
     "output_type": "stream",
     "text": [
      "    194/200       3.9G     0.1692         14        640: 100%|██████████| 61/61 [00:02<00:00, 23.53it/s]\n"
     ]
    },
    {
     "name": "stdout",
     "output_type": "stream",
     "text": [
      "\n",
      "      Epoch    GPU_mem       loss  Instances       Size\n"
     ]
    },
    {
     "name": "stderr",
     "output_type": "stream",
     "text": [
      "    195/200       3.9G     0.1535         14        640: 100%|██████████| 61/61 [00:02<00:00, 22.75it/s]\n"
     ]
    },
    {
     "name": "stdout",
     "output_type": "stream",
     "text": [
      "\n",
      "      Epoch    GPU_mem       loss  Instances       Size\n"
     ]
    },
    {
     "name": "stderr",
     "output_type": "stream",
     "text": [
      "    196/200       3.9G     0.1873         14        640: 100%|██████████| 61/61 [00:02<00:00, 23.92it/s]\n"
     ]
    },
    {
     "name": "stdout",
     "output_type": "stream",
     "text": [
      "\n",
      "      Epoch    GPU_mem       loss  Instances       Size\n"
     ]
    },
    {
     "name": "stderr",
     "output_type": "stream",
     "text": [
      "    197/200       3.9G     0.1617         14        640: 100%|██████████| 61/61 [00:02<00:00, 24.71it/s]\n"
     ]
    },
    {
     "name": "stdout",
     "output_type": "stream",
     "text": [
      "\n",
      "      Epoch    GPU_mem       loss  Instances       Size\n"
     ]
    },
    {
     "name": "stderr",
     "output_type": "stream",
     "text": [
      "    198/200       3.9G     0.1624         14        640: 100%|██████████| 61/61 [00:02<00:00, 23.76it/s]\n"
     ]
    },
    {
     "name": "stdout",
     "output_type": "stream",
     "text": [
      "\n",
      "      Epoch    GPU_mem       loss  Instances       Size\n"
     ]
    },
    {
     "name": "stderr",
     "output_type": "stream",
     "text": [
      "    199/200       3.9G     0.1763         14        640: 100%|██████████| 61/61 [00:02<00:00, 24.27it/s]\n"
     ]
    },
    {
     "name": "stdout",
     "output_type": "stream",
     "text": [
      "\n",
      "      Epoch    GPU_mem       loss  Instances       Size\n"
     ]
    },
    {
     "name": "stderr",
     "output_type": "stream",
     "text": [
      "    200/200       3.9G     0.1862         14        640: 100%|██████████| 61/61 [00:02<00:00, 23.68it/s]\n",
      "               classes   top1_acc   top5_acc: 100%|██████████| 8/8 [00:00<00:00, 12.72it/s]\n"
     ]
    },
    {
     "name": "stdout",
     "output_type": "stream",
     "text": [
      "                   all        0.9          1\n",
      "\n",
      "200 epochs completed in 0.164 hours.\n",
      "Optimizer stripped from ../models/yolo/osteosarcoma2019/weights/last.pt, 11.0MB\n",
      "Optimizer stripped from ../models/yolo/osteosarcoma2019/weights/best.pt, 11.0MB\n",
      "\n",
      "Validating ../models/yolo/osteosarcoma2019/weights/best.pt...\n",
      "Ultralytics 8.3.91 🚀 Python-3.12.7 torch-2.6.0+cu126 CUDA:0 (NVIDIA GeForce RTX 4090, 24089MiB)\n",
      "YOLO11s-cls summary (fused): 47 layers, 5,437,971 parameters, 0 gradients, 12.0 GFLOPs\n",
      "WARNING ⚠️ Dataset 'split=val' not found, using 'split=test' instead.\n",
      "\u001b[34m\u001b[1mtrain:\u001b[0m /home/asdromundo/Documentos/classification/data/osteosarcoma2019/train... found 914 images in 3 classes ✅ \n",
      "\u001b[34m\u001b[1mval:\u001b[0m /home/asdromundo/Documentos/classification/data/osteosarcoma2019/test... found 230 images in 3 classes ✅ \n",
      "\u001b[34m\u001b[1mtest:\u001b[0m /home/asdromundo/Documentos/classification/data/osteosarcoma2019/test... found 230 images in 3 classes ✅ \n"
     ]
    },
    {
     "name": "stderr",
     "output_type": "stream",
     "text": [
      "               classes   top1_acc   top5_acc: 100%|██████████| 8/8 [00:00<00:00, 33.05it/s]\n"
     ]
    },
    {
     "name": "stdout",
     "output_type": "stream",
     "text": [
      "                   all        0.9          1\n",
      "Speed: 0.3ms preprocess, 0.7ms inference, 0.0ms loss, 0.0ms postprocess per image\n",
      "Results saved to \u001b[1m../models/yolo/osteosarcoma2019\u001b[0m\n"
     ]
    }
   ],
   "source": [
    "from ultralytics import YOLO\n",
    "import os\n",
    "\n",
    "# Ruta al checkpoint del mejor modelo\n",
    "best_model_path = \"../models/yolo/osteosarcoma2019/weights/best.pt\"\n",
    "\n",
    "# Cargar el modelo\n",
    "if os.path.exists(best_model_path):\n",
    "    model = YOLO(best_model_path) # Continuar desde checkpoint\n",
    "else:\n",
    "    model = YOLO(\"../data/osteosarcoma2019/yolo11s-cls.yaml\")  # Cargar un nuevo modelo desde el archivo YAML\n",
    "\n",
    "# Entrenamiento del modelo\n",
    "results = model.train(\n",
    "    pretrained=False, # NO usar los modelos preentrenados,\n",
    "    resume=False,\n",
    "    data=\"../data/osteosarcoma2019\",  # Ruta al conjunto de datos\n",
    "    epochs=200,  # Número de épocas\n",
    "    imgsz=640,  # Tamaño de las imágenes\n",
    "    batch=-1,\n",
    "    project=\"../models/yolo\",  # Directorio para los resultados del entrenamiento\n",
    "    name=\"osteosarcoma2019\",  # Nombre para la subcarpeta en 'project'\n",
    "    plots=True, # Guardar graficas\n",
    "    patience=50, # Detenerse si no hay cambios en n generaciones\n",
    "    exist_ok=True, # Sobreescribir la carpeta\n",
    "    multi_scale=True,  # Habilitar tamaños variables durante el entrenamiento\n",
    "    val=False,\n",
    "    device=0\n",
    ")\n",
    "\n",
    "# Los checkpoints del modelo (el mejor y el último) estarán en '../models/yolo/osteosarcoma/weights/'\n",
    "# print(results)"
   ]
  },
  {
   "cell_type": "markdown",
   "metadata": {},
   "source": [
    "### Validación del mejor checkpoint"
   ]
  },
  {
   "cell_type": "code",
   "execution_count": 4,
   "metadata": {},
   "outputs": [
    {
     "name": "stdout",
     "output_type": "stream",
     "text": [
      "Ultralytics 8.3.91 🚀 Python-3.12.7 torch-2.6.0+cu126 CUDA:0 (NVIDIA GeForce RTX 4090, 24089MiB)\n",
      "YOLO11s-cls summary (fused): 47 layers, 5,437,971 parameters, 0 gradients, 12.0 GFLOPs\n",
      "\u001b[34m\u001b[1mtrain:\u001b[0m /home/asdromundo/Documentos/classification/data/osteosarcoma2019/train... found 914 images in 3 classes ✅ \n",
      "\u001b[34m\u001b[1mval:\u001b[0m None...\n",
      "\u001b[34m\u001b[1mtest:\u001b[0m /home/asdromundo/Documentos/classification/data/osteosarcoma2019/test... found 230 images in 3 classes ✅ \n"
     ]
    },
    {
     "name": "stderr",
     "output_type": "stream",
     "text": [
      "\u001b[34m\u001b[1mtest: \u001b[0mScanning /home/asdromundo/Documentos/classification/data/osteosarcoma2019/test... 230 images, 0 corrupt: 100%|██████████| 230/230 [00:00<?, ?it/s]\n",
      "               classes   top1_acc   top5_acc: 100%|██████████| 15/15 [00:00<00:00, 16.03it/s]\n"
     ]
    },
    {
     "name": "stdout",
     "output_type": "stream",
     "text": [
      "                   all        0.9          1\n",
      "Speed: 0.8ms preprocess, 0.9ms inference, 0.0ms loss, 0.0ms postprocess per image\n",
      "Results saved to \u001b[1m../models/yolo/osteosarcoma2019\u001b[0m\n"
     ]
    }
   ],
   "source": [
    "from ultralytics import YOLO\n",
    "\n",
    "# Cargar el mejor checkpoint guardado\n",
    "model = YOLO(\"../models/yolo/osteosarcoma2019/weights/best.pt\") \n",
    "\n",
    "# Validar el modelo con los datos de prueba\n",
    "metrics = model.val(data=\"../data/osteosarcoma2019\",  # Ruta al archivo de configuración del dataset\n",
    "                    imgsz=640,                      # Tamaño de las imágenes de entrada\n",
    "                    batch=16,                       # Tamaño del batch\n",
    "                    save_json=True,                 # Guardar los resultados en un archivo JSON\n",
    "                    plots=True,                     # Generar y guardar gráficos                \n",
    "                    split=\"test\",\n",
    "                    project=\"../models/yolo\",  # Directorio para los resultados del entrenamiento\n",
    "                    name=\"osteosarcoma2019\",\n",
    "                    exist_ok=True\n",
    "                    )"
   ]
  },
  {
   "cell_type": "markdown",
   "metadata": {},
   "source": [
    "Ahora haremos un entrenamiento análogo con las demás redes de interés"
   ]
  },
  {
   "cell_type": "code",
   "execution_count": null,
   "metadata": {},
   "outputs": [
    {
     "name": "stdout",
     "output_type": "stream",
     "text": [
      "Época 1/200: Pérdida 0.8999 - Acc: 60.39% - Val Acc: 30.00%\n",
      "✅ Modelo mejorado guardado!\n",
      "Época 2/200: Pérdida 0.5566 - Acc: 79.98% - Val Acc: 68.70%\n",
      "✅ Modelo mejorado guardado!\n",
      "Época 3/200: Pérdida 0.4651 - Acc: 83.15% - Val Acc: 81.30%\n",
      "✅ Modelo mejorado guardado!\n",
      "Época 4/200: Pérdida 0.5117 - Acc: 80.74% - Val Acc: 84.78%\n",
      "✅ Modelo mejorado guardado!\n",
      "Época 5/200: Pérdida 0.4137 - Acc: 84.90% - Val Acc: 87.39%\n",
      "✅ Modelo mejorado guardado!\n",
      "Época 6/200: Pérdida 0.3985 - Acc: 84.90% - Val Acc: 77.83%\n",
      "Época 7/200: Pérdida 0.3724 - Acc: 87.75% - Val Acc: 82.61%\n",
      "Época 8/200: Pérdida 0.4401 - Acc: 85.45% - Val Acc: 81.74%\n",
      "Época 9/200: Pérdida 0.3511 - Acc: 87.42% - Val Acc: 83.04%\n",
      "Época 10/200: Pérdida 0.3271 - Acc: 88.51% - Val Acc: 89.13%\n",
      "✅ Modelo mejorado guardado!\n",
      "Época 11/200: Pérdida 0.3794 - Acc: 86.87% - Val Acc: 86.52%\n",
      "Época 12/200: Pérdida 0.3455 - Acc: 88.29% - Val Acc: 87.83%\n",
      "Época 13/200: Pérdida 0.3212 - Acc: 88.40% - Val Acc: 88.70%\n",
      "Época 14/200: Pérdida 0.3140 - Acc: 87.86% - Val Acc: 85.65%\n",
      "Época 15/200: Pérdida 0.2946 - Acc: 89.50% - Val Acc: 86.09%\n",
      "Época 16/200: Pérdida 0.2982 - Acc: 89.06% - Val Acc: 89.57%\n",
      "✅ Modelo mejorado guardado!\n",
      "Época 17/200: Pérdida 0.2637 - Acc: 90.48% - Val Acc: 82.61%\n",
      "Época 18/200: Pérdida 0.2790 - Acc: 90.48% - Val Acc: 91.74%\n",
      "✅ Modelo mejorado guardado!\n",
      "Época 19/200: Pérdida 0.2264 - Acc: 92.56% - Val Acc: 75.22%\n",
      "Época 20/200: Pérdida 0.2796 - Acc: 90.26% - Val Acc: 70.87%\n",
      "Época 21/200: Pérdida 0.2674 - Acc: 89.72% - Val Acc: 89.13%\n",
      "Época 22/200: Pérdida 0.2988 - Acc: 89.82% - Val Acc: 78.26%\n",
      "Época 23/200: Pérdida 0.2505 - Acc: 91.58% - Val Acc: 68.70%\n",
      "Época 24/200: Pérdida 0.2392 - Acc: 91.47% - Val Acc: 59.57%\n",
      "Época 25/200: Pérdida 0.2995 - Acc: 89.50% - Val Acc: 87.83%\n",
      "Época 26/200: Pérdida 0.2094 - Acc: 92.01% - Val Acc: 89.57%\n",
      "Época 27/200: Pérdida 0.2730 - Acc: 90.59% - Val Acc: 86.96%\n",
      "Época 28/200: Pérdida 0.1885 - Acc: 93.76% - Val Acc: 79.13%\n",
      "Época 29/200: Pérdida 0.2160 - Acc: 92.67% - Val Acc: 83.48%\n",
      "Época 30/200: Pérdida 0.1890 - Acc: 93.11% - Val Acc: 87.39%\n",
      "Época 31/200: Pérdida 0.2061 - Acc: 93.00% - Val Acc: 76.96%\n",
      "Época 32/200: Pérdida 0.1911 - Acc: 93.33% - Val Acc: 85.22%\n",
      "Época 33/200: Pérdida 0.1615 - Acc: 93.87% - Val Acc: 92.17%\n",
      "✅ Modelo mejorado guardado!\n",
      "Época 34/200: Pérdida 0.1731 - Acc: 93.44% - Val Acc: 59.13%\n",
      "Época 35/200: Pérdida 0.2066 - Acc: 92.12% - Val Acc: 83.48%\n",
      "Época 36/200: Pérdida 0.1891 - Acc: 93.11% - Val Acc: 82.61%\n",
      "Época 37/200: Pérdida 0.1656 - Acc: 94.53% - Val Acc: 90.00%\n",
      "Época 38/200: Pérdida 0.1386 - Acc: 95.08% - Val Acc: 85.65%\n",
      "Época 39/200: Pérdida 0.1356 - Acc: 95.30% - Val Acc: 84.78%\n",
      "Época 40/200: Pérdida 0.1412 - Acc: 95.08% - Val Acc: 83.48%\n",
      "Época 41/200: Pérdida 0.1358 - Acc: 95.73% - Val Acc: 79.13%\n",
      "Época 42/200: Pérdida 0.1405 - Acc: 95.73% - Val Acc: 86.09%\n",
      "Época 43/200: Pérdida 0.2593 - Acc: 92.12% - Val Acc: 80.00%\n",
      "Época 44/200: Pérdida 0.1567 - Acc: 95.40% - Val Acc: 73.48%\n",
      "Época 45/200: Pérdida 0.1398 - Acc: 95.08% - Val Acc: 88.26%\n",
      "Época 46/200: Pérdida 0.1202 - Acc: 95.51% - Val Acc: 86.52%\n",
      "Época 47/200: Pérdida 0.1002 - Acc: 97.05% - Val Acc: 84.78%\n",
      "Época 48/200: Pérdida 0.1354 - Acc: 95.84% - Val Acc: 54.35%\n",
      "Época 49/200: Pérdida 0.1305 - Acc: 95.51% - Val Acc: 83.04%\n",
      "Época 50/200: Pérdida 0.0888 - Acc: 97.26% - Val Acc: 90.00%\n",
      "Época 51/200: Pérdida 0.1027 - Acc: 96.28% - Val Acc: 86.96%\n",
      "Época 52/200: Pérdida 0.0976 - Acc: 96.83% - Val Acc: 82.17%\n",
      "Época 53/200: Pérdida 0.1622 - Acc: 93.33% - Val Acc: 83.04%\n",
      "Época 54/200: Pérdida 0.1292 - Acc: 95.62% - Val Acc: 83.91%\n",
      "Época 55/200: Pérdida 0.0933 - Acc: 97.37% - Val Acc: 85.22%\n",
      "Época 56/200: Pérdida 0.0810 - Acc: 97.26% - Val Acc: 84.35%\n",
      "Época 57/200: Pérdida 0.0977 - Acc: 96.94% - Val Acc: 82.17%\n",
      "Época 58/200: Pérdida 0.0963 - Acc: 96.72% - Val Acc: 88.70%\n",
      "Época 59/200: Pérdida 0.0766 - Acc: 97.26% - Val Acc: 89.57%\n",
      "Época 60/200: Pérdida 0.1126 - Acc: 96.72% - Val Acc: 68.26%\n",
      "Época 61/200: Pérdida 0.1208 - Acc: 96.28% - Val Acc: 88.70%\n",
      "Época 62/200: Pérdida 0.0847 - Acc: 97.37% - Val Acc: 89.57%\n",
      "Época 63/200: Pérdida 0.0442 - Acc: 98.58% - Val Acc: 84.35%\n",
      "Época 64/200: Pérdida 0.0665 - Acc: 97.59% - Val Acc: 86.52%\n",
      "Época 65/200: Pérdida 0.0578 - Acc: 97.70% - Val Acc: 81.30%\n",
      "Época 66/200: Pérdida 0.0622 - Acc: 98.14% - Val Acc: 87.83%\n",
      "Época 67/200: Pérdida 0.0821 - Acc: 97.16% - Val Acc: 88.26%\n",
      "Época 68/200: Pérdida 0.0764 - Acc: 97.37% - Val Acc: 88.26%\n",
      "Época 69/200: Pérdida 0.0440 - Acc: 98.58% - Val Acc: 85.65%\n",
      "Época 70/200: Pérdida 0.0283 - Acc: 98.80% - Val Acc: 81.30%\n",
      "Época 71/200: Pérdida 0.0462 - Acc: 98.25% - Val Acc: 84.35%\n",
      "Época 72/200: Pérdida 0.0727 - Acc: 97.70% - Val Acc: 90.00%\n",
      "Época 73/200: Pérdida 0.1005 - Acc: 96.39% - Val Acc: 84.78%\n",
      "Época 74/200: Pérdida 0.0576 - Acc: 98.58% - Val Acc: 85.22%\n",
      "Época 75/200: Pérdida 0.0420 - Acc: 98.80% - Val Acc: 73.91%\n",
      "Época 76/200: Pérdida 0.0415 - Acc: 98.58% - Val Acc: 79.13%\n",
      "Época 77/200: Pérdida 0.0450 - Acc: 98.58% - Val Acc: 88.70%\n",
      "Época 78/200: Pérdida 0.0735 - Acc: 97.81% - Val Acc: 88.70%\n",
      "Época 79/200: Pérdida 0.0362 - Acc: 99.02% - Val Acc: 88.70%\n",
      "Época 80/200: Pérdida 0.0273 - Acc: 99.02% - Val Acc: 90.00%\n"
     ]
    },
    {
     "ename": "KeyboardInterrupt",
     "evalue": "",
     "output_type": "error",
     "traceback": [
      "\u001b[0;31m---------------------------------------------------------------------------\u001b[0m",
      "\u001b[0;31mKeyboardInterrupt\u001b[0m                         Traceback (most recent call last)",
      "Cell \u001b[0;32mIn[11], line 56\u001b[0m\n\u001b[1;32m     53\u001b[0m correct \u001b[38;5;241m=\u001b[39m \u001b[38;5;241m0\u001b[39m\n\u001b[1;32m     54\u001b[0m total \u001b[38;5;241m=\u001b[39m \u001b[38;5;241m0\u001b[39m\n\u001b[0;32m---> 56\u001b[0m \u001b[43m\u001b[49m\u001b[38;5;28;43;01mfor\u001b[39;49;00m\u001b[43m \u001b[49m\u001b[43minputs\u001b[49m\u001b[43m,\u001b[49m\u001b[43m \u001b[49m\u001b[43mlabels\u001b[49m\u001b[43m \u001b[49m\u001b[38;5;129;43;01min\u001b[39;49;00m\u001b[43m \u001b[49m\u001b[43mtrain_loader\u001b[49m\u001b[43m:\u001b[49m\n\u001b[1;32m     57\u001b[0m \u001b[43m    \u001b[49m\u001b[43minputs\u001b[49m\u001b[43m,\u001b[49m\u001b[43m \u001b[49m\u001b[43mlabels\u001b[49m\u001b[43m \u001b[49m\u001b[38;5;241;43m=\u001b[39;49m\u001b[43m \u001b[49m\u001b[43minputs\u001b[49m\u001b[38;5;241;43m.\u001b[39;49m\u001b[43mto\u001b[49m\u001b[43m(\u001b[49m\u001b[43mdevice\u001b[49m\u001b[43m)\u001b[49m\u001b[43m,\u001b[49m\u001b[43m \u001b[49m\u001b[43mlabels\u001b[49m\u001b[38;5;241;43m.\u001b[39;49m\u001b[43mto\u001b[49m\u001b[43m(\u001b[49m\u001b[43mdevice\u001b[49m\u001b[43m)\u001b[49m\n\u001b[1;32m     59\u001b[0m \u001b[43m    \u001b[49m\u001b[43moptimizer\u001b[49m\u001b[38;5;241;43m.\u001b[39;49m\u001b[43mzero_grad\u001b[49m\u001b[43m(\u001b[49m\u001b[43m)\u001b[49m\n",
      "File \u001b[0;32m~/Documentos/classification/.venv/lib/python3.12/site-packages/torch/utils/data/dataloader.py:708\u001b[0m, in \u001b[0;36m_BaseDataLoaderIter.__next__\u001b[0;34m(self)\u001b[0m\n\u001b[1;32m    705\u001b[0m \u001b[38;5;28;01mif\u001b[39;00m \u001b[38;5;28mself\u001b[39m\u001b[38;5;241m.\u001b[39m_sampler_iter \u001b[38;5;129;01mis\u001b[39;00m \u001b[38;5;28;01mNone\u001b[39;00m:\n\u001b[1;32m    706\u001b[0m     \u001b[38;5;66;03m# TODO(https://github.com/pytorch/pytorch/issues/76750)\u001b[39;00m\n\u001b[1;32m    707\u001b[0m     \u001b[38;5;28mself\u001b[39m\u001b[38;5;241m.\u001b[39m_reset()  \u001b[38;5;66;03m# type: ignore[call-arg]\u001b[39;00m\n\u001b[0;32m--> 708\u001b[0m data \u001b[38;5;241m=\u001b[39m \u001b[38;5;28;43mself\u001b[39;49m\u001b[38;5;241;43m.\u001b[39;49m\u001b[43m_next_data\u001b[49m\u001b[43m(\u001b[49m\u001b[43m)\u001b[49m\n\u001b[1;32m    709\u001b[0m \u001b[38;5;28mself\u001b[39m\u001b[38;5;241m.\u001b[39m_num_yielded \u001b[38;5;241m+\u001b[39m\u001b[38;5;241m=\u001b[39m \u001b[38;5;241m1\u001b[39m\n\u001b[1;32m    710\u001b[0m \u001b[38;5;28;01mif\u001b[39;00m (\n\u001b[1;32m    711\u001b[0m     \u001b[38;5;28mself\u001b[39m\u001b[38;5;241m.\u001b[39m_dataset_kind \u001b[38;5;241m==\u001b[39m _DatasetKind\u001b[38;5;241m.\u001b[39mIterable\n\u001b[1;32m    712\u001b[0m     \u001b[38;5;129;01mand\u001b[39;00m \u001b[38;5;28mself\u001b[39m\u001b[38;5;241m.\u001b[39m_IterableDataset_len_called \u001b[38;5;129;01mis\u001b[39;00m \u001b[38;5;129;01mnot\u001b[39;00m \u001b[38;5;28;01mNone\u001b[39;00m\n\u001b[1;32m    713\u001b[0m     \u001b[38;5;129;01mand\u001b[39;00m \u001b[38;5;28mself\u001b[39m\u001b[38;5;241m.\u001b[39m_num_yielded \u001b[38;5;241m>\u001b[39m \u001b[38;5;28mself\u001b[39m\u001b[38;5;241m.\u001b[39m_IterableDataset_len_called\n\u001b[1;32m    714\u001b[0m ):\n",
      "File \u001b[0;32m~/Documentos/classification/.venv/lib/python3.12/site-packages/torch/utils/data/dataloader.py:764\u001b[0m, in \u001b[0;36m_SingleProcessDataLoaderIter._next_data\u001b[0;34m(self)\u001b[0m\n\u001b[1;32m    762\u001b[0m \u001b[38;5;28;01mdef\u001b[39;00m\u001b[38;5;250m \u001b[39m\u001b[38;5;21m_next_data\u001b[39m(\u001b[38;5;28mself\u001b[39m):\n\u001b[1;32m    763\u001b[0m     index \u001b[38;5;241m=\u001b[39m \u001b[38;5;28mself\u001b[39m\u001b[38;5;241m.\u001b[39m_next_index()  \u001b[38;5;66;03m# may raise StopIteration\u001b[39;00m\n\u001b[0;32m--> 764\u001b[0m     data \u001b[38;5;241m=\u001b[39m \u001b[38;5;28;43mself\u001b[39;49m\u001b[38;5;241;43m.\u001b[39;49m\u001b[43m_dataset_fetcher\u001b[49m\u001b[38;5;241;43m.\u001b[39;49m\u001b[43mfetch\u001b[49m\u001b[43m(\u001b[49m\u001b[43mindex\u001b[49m\u001b[43m)\u001b[49m  \u001b[38;5;66;03m# may raise StopIteration\u001b[39;00m\n\u001b[1;32m    765\u001b[0m     \u001b[38;5;28;01mif\u001b[39;00m \u001b[38;5;28mself\u001b[39m\u001b[38;5;241m.\u001b[39m_pin_memory:\n\u001b[1;32m    766\u001b[0m         data \u001b[38;5;241m=\u001b[39m _utils\u001b[38;5;241m.\u001b[39mpin_memory\u001b[38;5;241m.\u001b[39mpin_memory(data, \u001b[38;5;28mself\u001b[39m\u001b[38;5;241m.\u001b[39m_pin_memory_device)\n",
      "File \u001b[0;32m~/Documentos/classification/.venv/lib/python3.12/site-packages/torch/utils/data/_utils/fetch.py:52\u001b[0m, in \u001b[0;36m_MapDatasetFetcher.fetch\u001b[0;34m(self, possibly_batched_index)\u001b[0m\n\u001b[1;32m     50\u001b[0m         data \u001b[38;5;241m=\u001b[39m \u001b[38;5;28mself\u001b[39m\u001b[38;5;241m.\u001b[39mdataset\u001b[38;5;241m.\u001b[39m__getitems__(possibly_batched_index)\n\u001b[1;32m     51\u001b[0m     \u001b[38;5;28;01melse\u001b[39;00m:\n\u001b[0;32m---> 52\u001b[0m         data \u001b[38;5;241m=\u001b[39m [\u001b[38;5;28;43mself\u001b[39;49m\u001b[38;5;241;43m.\u001b[39;49m\u001b[43mdataset\u001b[49m\u001b[43m[\u001b[49m\u001b[43midx\u001b[49m\u001b[43m]\u001b[49m \u001b[38;5;28;01mfor\u001b[39;00m idx \u001b[38;5;129;01min\u001b[39;00m possibly_batched_index]\n\u001b[1;32m     53\u001b[0m \u001b[38;5;28;01melse\u001b[39;00m:\n\u001b[1;32m     54\u001b[0m     data \u001b[38;5;241m=\u001b[39m \u001b[38;5;28mself\u001b[39m\u001b[38;5;241m.\u001b[39mdataset[possibly_batched_index]\n",
      "File \u001b[0;32m~/Documentos/classification/.venv/lib/python3.12/site-packages/torchvision/datasets/folder.py:245\u001b[0m, in \u001b[0;36mDatasetFolder.__getitem__\u001b[0;34m(self, index)\u001b[0m\n\u001b[1;32m    237\u001b[0m \u001b[38;5;250m\u001b[39m\u001b[38;5;124;03m\"\"\"\u001b[39;00m\n\u001b[1;32m    238\u001b[0m \u001b[38;5;124;03mArgs:\u001b[39;00m\n\u001b[1;32m    239\u001b[0m \u001b[38;5;124;03m    index (int): Index\u001b[39;00m\n\u001b[0;32m   (...)\u001b[0m\n\u001b[1;32m    242\u001b[0m \u001b[38;5;124;03m    tuple: (sample, target) where target is class_index of the target class.\u001b[39;00m\n\u001b[1;32m    243\u001b[0m \u001b[38;5;124;03m\"\"\"\u001b[39;00m\n\u001b[1;32m    244\u001b[0m path, target \u001b[38;5;241m=\u001b[39m \u001b[38;5;28mself\u001b[39m\u001b[38;5;241m.\u001b[39msamples[index]\n\u001b[0;32m--> 245\u001b[0m sample \u001b[38;5;241m=\u001b[39m \u001b[38;5;28;43mself\u001b[39;49m\u001b[38;5;241;43m.\u001b[39;49m\u001b[43mloader\u001b[49m\u001b[43m(\u001b[49m\u001b[43mpath\u001b[49m\u001b[43m)\u001b[49m\n\u001b[1;32m    246\u001b[0m \u001b[38;5;28;01mif\u001b[39;00m \u001b[38;5;28mself\u001b[39m\u001b[38;5;241m.\u001b[39mtransform \u001b[38;5;129;01mis\u001b[39;00m \u001b[38;5;129;01mnot\u001b[39;00m \u001b[38;5;28;01mNone\u001b[39;00m:\n\u001b[1;32m    247\u001b[0m     sample \u001b[38;5;241m=\u001b[39m \u001b[38;5;28mself\u001b[39m\u001b[38;5;241m.\u001b[39mtransform(sample)\n",
      "File \u001b[0;32m~/Documentos/classification/.venv/lib/python3.12/site-packages/torchvision/datasets/folder.py:284\u001b[0m, in \u001b[0;36mdefault_loader\u001b[0;34m(path)\u001b[0m\n\u001b[1;32m    282\u001b[0m     \u001b[38;5;28;01mreturn\u001b[39;00m accimage_loader(path)\n\u001b[1;32m    283\u001b[0m \u001b[38;5;28;01melse\u001b[39;00m:\n\u001b[0;32m--> 284\u001b[0m     \u001b[38;5;28;01mreturn\u001b[39;00m \u001b[43mpil_loader\u001b[49m\u001b[43m(\u001b[49m\u001b[43mpath\u001b[49m\u001b[43m)\u001b[49m\n",
      "File \u001b[0;32m~/Documentos/classification/.venv/lib/python3.12/site-packages/torchvision/datasets/folder.py:264\u001b[0m, in \u001b[0;36mpil_loader\u001b[0;34m(path)\u001b[0m\n\u001b[1;32m    262\u001b[0m \u001b[38;5;28;01mwith\u001b[39;00m \u001b[38;5;28mopen\u001b[39m(path, \u001b[38;5;124m\"\u001b[39m\u001b[38;5;124mrb\u001b[39m\u001b[38;5;124m\"\u001b[39m) \u001b[38;5;28;01mas\u001b[39;00m f:\n\u001b[1;32m    263\u001b[0m     img \u001b[38;5;241m=\u001b[39m Image\u001b[38;5;241m.\u001b[39mopen(f)\n\u001b[0;32m--> 264\u001b[0m     \u001b[38;5;28;01mreturn\u001b[39;00m \u001b[43mimg\u001b[49m\u001b[38;5;241;43m.\u001b[39;49m\u001b[43mconvert\u001b[49m\u001b[43m(\u001b[49m\u001b[38;5;124;43m\"\u001b[39;49m\u001b[38;5;124;43mRGB\u001b[39;49m\u001b[38;5;124;43m\"\u001b[39;49m\u001b[43m)\u001b[49m\n",
      "File \u001b[0;32m~/Documentos/classification/.venv/lib/python3.12/site-packages/PIL/Image.py:984\u001b[0m, in \u001b[0;36mImage.convert\u001b[0;34m(self, mode, matrix, dither, palette, colors)\u001b[0m\n\u001b[1;32m    981\u001b[0m \u001b[38;5;28;01mif\u001b[39;00m mode \u001b[38;5;129;01min\u001b[39;00m (\u001b[38;5;124m\"\u001b[39m\u001b[38;5;124mBGR;15\u001b[39m\u001b[38;5;124m\"\u001b[39m, \u001b[38;5;124m\"\u001b[39m\u001b[38;5;124mBGR;16\u001b[39m\u001b[38;5;124m\"\u001b[39m, \u001b[38;5;124m\"\u001b[39m\u001b[38;5;124mBGR;24\u001b[39m\u001b[38;5;124m\"\u001b[39m):\n\u001b[1;32m    982\u001b[0m     deprecate(mode, \u001b[38;5;241m12\u001b[39m)\n\u001b[0;32m--> 984\u001b[0m \u001b[38;5;28;43mself\u001b[39;49m\u001b[38;5;241;43m.\u001b[39;49m\u001b[43mload\u001b[49m\u001b[43m(\u001b[49m\u001b[43m)\u001b[49m\n\u001b[1;32m    986\u001b[0m has_transparency \u001b[38;5;241m=\u001b[39m \u001b[38;5;124m\"\u001b[39m\u001b[38;5;124mtransparency\u001b[39m\u001b[38;5;124m\"\u001b[39m \u001b[38;5;129;01min\u001b[39;00m \u001b[38;5;28mself\u001b[39m\u001b[38;5;241m.\u001b[39minfo\n\u001b[1;32m    987\u001b[0m \u001b[38;5;28;01mif\u001b[39;00m \u001b[38;5;129;01mnot\u001b[39;00m mode \u001b[38;5;129;01mand\u001b[39;00m \u001b[38;5;28mself\u001b[39m\u001b[38;5;241m.\u001b[39mmode \u001b[38;5;241m==\u001b[39m \u001b[38;5;124m\"\u001b[39m\u001b[38;5;124mP\u001b[39m\u001b[38;5;124m\"\u001b[39m:\n\u001b[1;32m    988\u001b[0m     \u001b[38;5;66;03m# determine default mode\u001b[39;00m\n",
      "File \u001b[0;32m~/Documentos/classification/.venv/lib/python3.12/site-packages/PIL/ImageFile.py:300\u001b[0m, in \u001b[0;36mImageFile.load\u001b[0;34m(self)\u001b[0m\n\u001b[1;32m    297\u001b[0m         \u001b[38;5;28;01mraise\u001b[39;00m \u001b[38;5;167;01mOSError\u001b[39;00m(msg)\n\u001b[1;32m    299\u001b[0m b \u001b[38;5;241m=\u001b[39m b \u001b[38;5;241m+\u001b[39m s\n\u001b[0;32m--> 300\u001b[0m n, err_code \u001b[38;5;241m=\u001b[39m \u001b[43mdecoder\u001b[49m\u001b[38;5;241;43m.\u001b[39;49m\u001b[43mdecode\u001b[49m\u001b[43m(\u001b[49m\u001b[43mb\u001b[49m\u001b[43m)\u001b[49m\n\u001b[1;32m    301\u001b[0m \u001b[38;5;28;01mif\u001b[39;00m n \u001b[38;5;241m<\u001b[39m \u001b[38;5;241m0\u001b[39m:\n\u001b[1;32m    302\u001b[0m     \u001b[38;5;28;01mbreak\u001b[39;00m\n",
      "\u001b[0;31mKeyboardInterrupt\u001b[0m: "
     ]
    }
   ],
   "source": [
    "import torch\n",
    "import torch.nn as nn\n",
    "import torch.optim as optim\n",
    "import torchvision.transforms as transforms\n",
    "import torchvision.datasets as datasets\n",
    "from torchvision.models import efficientnet_v2_s, EfficientNet_V2_S_Weights\n",
    "import os\n",
    "\n",
    "# Configuración del dispositivo\n",
    "device = torch.device(\"cuda\" if torch.cuda.is_available() else \"cpu\")\n",
    "print(\"Using: \", device)\n",
    "\n",
    "# Liberar memoria en la GPU antes de comenzar\n",
    "torch.cuda.empty_cache()\n",
    "\n",
    "# Habilitar optimizaciones en GPUs NVIDIA\n",
    "torch.backends.cudnn.benchmark = True\n",
    "\n",
    "# Transformaciones (imagen 256x256 para reducir uso de memoria)\n",
    "transform = EfficientNet_V2_S_Weights.IMAGENET1K_V1.transforms()\n",
    "\n",
    "# Cargar el dataset\n",
    "data_dir = \"../data/osteosarcoma2019\"\n",
    "train_dataset = datasets.ImageFolder(root=os.path.join(data_dir, \"train\"), transform=transform)\n",
    "val_dataset = datasets.ImageFolder(root=os.path.join(data_dir, \"test\"), transform=transform)\n",
    "\n",
    "# DataLoaders con batch reducido y pin_memory para eficiencia\n",
    "batch_size = 32  # Reducido para evitar OOM\n",
    "train_loader = torch.utils.data.DataLoader(train_dataset, batch_size=batch_size, shuffle=True, pin_memory=True)\n",
    "val_loader = torch.utils.data.DataLoader(val_dataset, batch_size=batch_size, shuffle=False, pin_memory=True)\n",
    "\n",
    "# Cargar modelo EfficientNetV2 pequeño sin pesos preentrenados\n",
    "model = efficientnet_v2_s(weights=None)\n",
    "num_classes = len(train_dataset.classes)  # Número de clases\n",
    "model.classifier[1] = nn.Linear(model.classifier[1].in_features, num_classes)  # Ajustar salida\n",
    "model = model.to(device)\n",
    "\n",
    "# Definir función de pérdida y optimizador\n",
    "criterion = nn.CrossEntropyLoss()\n",
    "optimizer = optim.AdamW(model.parameters(), lr=0.001, weight_decay=1e-4)\n",
    "\n",
    "# Configurar AMP para entrenamiento en precisión mixta\n",
    "scaler = torch.amp.GradScaler(\"cuda\")\n",
    "\n",
    "# Entrenamiento\n",
    "num_epochs = 200\n",
    "best_acc = 0.0\n",
    "save_path = \"../models/efficientnet/osteosarcoma2019/best_model.pth\"\n",
    "os.makedirs(os.path.dirname(save_path), exist_ok=True)  # Crear directorios si no existen\n",
    "\n",
    "for epoch in range(num_epochs):\n",
    "    model.train()\n",
    "    running_loss = 0.0\n",
    "    correct = 0\n",
    "    total = 0\n",
    "\n",
    "    for inputs, labels in train_loader:\n",
    "        inputs, labels = inputs.to(device), labels.to(device)\n",
    "\n",
    "        optimizer.zero_grad()\n",
    "        \n",
    "        with torch.amp.autocast(\"cuda\"):  # Usar precisión mixta\n",
    "            outputs = model(inputs)\n",
    "            loss = criterion(outputs, labels)\n",
    "\n",
    "        scaler.scale(loss).backward()\n",
    "        scaler.step(optimizer)\n",
    "        scaler.update()\n",
    "\n",
    "        running_loss += loss.item() * inputs.size(0)\n",
    "        _, predicted = outputs.max(1)\n",
    "        correct += predicted.eq(labels).sum().item()\n",
    "        total += labels.size(0)\n",
    "\n",
    "    train_loss = running_loss / total\n",
    "    train_acc = 100. * correct / total\n",
    "\n",
    "    # Validación\n",
    "    model.eval()\n",
    "    correct = 0\n",
    "    total = 0\n",
    "    with torch.no_grad():\n",
    "        for inputs, labels in val_loader:\n",
    "            inputs, labels = inputs.to(device), labels.to(device)\n",
    "            with torch.amp.autocast(\"cuda\"):  # También usar AMP en validación\n",
    "                outputs = model(inputs)\n",
    "            _, predicted = outputs.max(1)\n",
    "            correct += predicted.eq(labels).sum().item()\n",
    "            total += labels.size(0)\n",
    "\n",
    "    val_acc = 100. * correct / total\n",
    "\n",
    "    print(f\"Época {epoch+1}/{num_epochs}: Pérdida {train_loss:.4f} - Acc: {train_acc:.2f}% - Val Acc: {val_acc:.2f}%\")\n",
    "\n",
    "    # Guardar el mejor modelo\n",
    "    if val_acc > best_acc:\n",
    "        best_acc = val_acc\n",
    "        torch.save(model.state_dict(), save_path)\n",
    "        print(\"✅ Modelo mejorado guardado!\")\n",
    "\n",
    "print(f\"🏆 Entrenamiento finalizado. Mejor precisión en validación: {best_acc:.2f}%\")\n"
   ]
  },
  {
   "cell_type": "markdown",
   "metadata": {},
   "source": [
    "### Probando EfficientNet"
   ]
  },
  {
   "cell_type": "code",
   "execution_count": null,
   "metadata": {},
   "outputs": [
    {
     "data": {
      "image/png": "[encoded data removed]",
      "text/plain": [
       "<Figure size 800x800 with 9 Axes>"
      ]
     },
     "metadata": {},
     "output_type": "display_data"
    }
   ],
   "source": [
    "import torch\n",
    "from torchvision import datasets, transforms, models\n",
    "from torchvision.models import EfficientNet_V2_S_Weights\n",
    "from torch.utils.data import DataLoader\n",
    "import matplotlib.pyplot as plt\n",
    "\n",
    "# Definir las transformaciones (pueden ser más ligeras que las de entrenamiento)\n",
    "transform = transforms.Compose([\n",
    "    transforms.Resize((128, 128)),\n",
    "    transforms.ToTensor(),\n",
    "])\n",
    "\n",
    "# Cargar el dataset de test\n",
    "test_dataset = datasets.ImageFolder(root='../data/osteosarcoma2019/test', transform=transform)\n",
    "\n",
    "# Configurar la figura para mostrar imágenes\n",
    "figure = plt.figure(figsize=(8, 8))\n",
    "cols, rows = 3, 3\n",
    "for i in range(1, cols * rows + 1):\n",
    "    sample_idx = torch.randint(len(test_dataset), size=(1,)).item()\n",
    "    img, label = test_dataset[sample_idx]\n",
    "    \n",
    "    # Transponer la imagen para que sea compatible con imshow (de (C, H, W) a (H, W, C))\n",
    "    img = img.permute(1, 2, 0)  # Cambiar de (C, H, W) a (H, W, C)\n",
    "    \n",
    "    # Mostrar la imagen\n",
    "    figure.add_subplot(rows, cols, i)\n",
    "    plt.title(test_dataset.classes[label])  # Mostrar el nombre de la clase en vez del número\n",
    "    plt.axis(\"off\")\n",
    "    plt.imshow(img)  # Mostrar la imagen\n",
    "plt.show()\n"
   ]
  },
  {
   "cell_type": "code",
   "execution_count": null,
   "metadata": {},
   "outputs": [
    {
     "name": "stdout",
     "output_type": "stream",
     "text": [
      "Accuracy: 0.9100\n"
     ]
    }
   ],
   "source": [
    "# Definir las transformaciones\n",
    "transform = EfficientNet_V2_S_Weights.IMAGENET1K_V1.transforms()\n",
    "\n",
    "# Cargar el dataset de test\n",
    "test_dataset = datasets.ImageFolder(root='../data/osteosarcoma2019/test', transform=transform)\n",
    "test_loader = DataLoader(test_dataset, batch_size=16, shuffle=False)\n",
    "\n",
    "# Cargar el modelo EfficientNetV2 (de torchvision)\n",
    "model = models.efficientnet_v2_s(weights=None, num_classes=len(test_dataset.classes))\n",
    "\n",
    "# Cargar los pesos del modelo entrenado\n",
    "MODEL_PATH = \"../models/efficientnet/osteosarcoma2019/best_model.pth\"\n",
    "model.load_state_dict(torch.load(MODEL_PATH))\n",
    "\n",
    "# Mover el modelo a la GPU si está disponible\n",
    "device = torch.device(\"cuda\" if torch.cuda.is_available() else \"cpu\")\n",
    "model.to(device)\n",
    "\n",
    "# Poner el modelo en modo de evaluación\n",
    "model.eval()\n",
    "\n",
    "# Inicializar variables para almacenar las predicciones y las etiquetas\n",
    "all_preds = []\n",
    "all_labels = []\n",
    "\n",
    "# Realizar las predicciones\n",
    "with torch.no_grad():  # Deshabilitar el cálculo de gradientes para la evaluación\n",
    "    for imgs, labels in test_loader:\n",
    "        # Mover los datos a la GPU si es necesario\n",
    "        imgs, labels = imgs.to(device), labels.to(device)\n",
    "\n",
    "        # Realizar la predicción\n",
    "        outputs = model(imgs)  # No es necesario `unsqueeze(0)` porque el DataLoader ya proporciona batches\n",
    "        _, preds = torch.max(outputs, 1)  # Obtener la clase con mayor probabilidad\n",
    "\n",
    "        # Almacenar las predicciones y las etiquetas\n",
    "        all_preds.extend(preds.cpu().numpy())  # Convertir las predicciones a CPU y agregarlas\n",
    "        all_labels.extend(labels.cpu().numpy())  # Lo mismo para las etiquetas\n",
    "\n",
    "# Calcular métricas, como la precisión\n",
    "correct = sum(p == l for p, l in zip(all_preds, all_labels))\n",
    "accuracy = correct / len(all_labels)\n",
    "print(f\"Accuracy: {accuracy:.4f}\")\n"
   ]
  }
 ],
 "metadata": {
  "kernelspec": {
   "display_name": ".venv",
   "language": "python",
   "name": "python3"
  },
  "language_info": {
   "codemirror_mode": {
    "name": "ipython",
    "version": 3
   },
   "file_extension": ".py",
   "mimetype": "text/x-python",
   "name": "python",
   "nbconvert_exporter": "python",
   "pygments_lexer": "ipython3",
   "version": "3.12.7"
  }
 },
 "nbformat": 4,
 "nbformat_minor": 2
}
